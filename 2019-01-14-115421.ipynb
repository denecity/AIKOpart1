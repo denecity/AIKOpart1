{
 "cells": [
  {
   "cell_type": "code",
   "execution_count": 1,
   "metadata": {
    "collapsed": false
   },
   "outputs": [
   ],
   "source": [
    "import h5py\n",
    "import numpy as np\n",
    "import sys\n",
    "import os\n",
    "import pandas as pd\n",
    "import matplotlib.pyplot as plt\n",
    "#plt.style.use('default')"
   ]
  },
  {
   "cell_type": "code",
   "execution_count": 2,
   "metadata": {
    "collapsed": false
   },
   "outputs": [
   ],
   "source": [
    "import scipy.interpolate"
   ]
  },
  {
   "cell_type": "code",
   "execution_count": 3,
   "metadata": {
    "collapsed": false
   },
   "outputs": [
   ],
   "source": [
    "#constants\n",
    "numSnapdirs = 128\n",
    "numSnapshots = 8\n",
    "path = '/store/clues/HESTIA/RE_SIMS/2048/GAL_FOR/37_11/output/'"
   ]
  },
  {
   "cell_type": "code",
   "execution_count": 4,
   "metadata": {
    "collapsed": false,
    "scrolled": true
   },
   "outputs": [
    {
     "name": "stdout",
     "output_type": "stream",
     "text": [
      "['/store/clues/HESTIA/RE_SIMS/2048/GAL_FOR/37_11/output/snapdir_000/snapshot_000.0.hdf5', '/store/clues/HESTIA/RE_SIMS/2048/GAL_FOR/37_11/output/snapdir_000/snapshot_000.1.hdf5', '/store/clues/HESTIA/RE_SIMS/2048/GAL_FOR/37_11/output/snapdir_000/snapshot_000.2.hdf5', '/store/clues/HESTIA/RE_SIMS/2048/GAL_FOR/37_11/output/snapdir_000/snapshot_000.3.hdf5', '/store/clues/HESTIA/RE_SIMS/2048/GAL_FOR/37_11/output/snapdir_000/snapshot_000.4.hdf5', '/store/clues/HESTIA/RE_SIMS/2048/GAL_FOR/37_11/output/snapdir_000/snapshot_000.5.hdf5', '/store/clues/HESTIA/RE_SIMS/2048/GAL_FOR/37_11/output/snapdir_000/snapshot_000.6.hdf5', '/store/clues/HESTIA/RE_SIMS/2048/GAL_FOR/37_11/output/snapdir_000/snapshot_000.7.hdf5', '/store/clues/HESTIA/RE_SIMS/2048/GAL_FOR/37_11/output/snapdir_001/snapshot_001.0.hdf5', '/store/clues/HESTIA/RE_SIMS/2048/GAL_FOR/37_11/output/snapdir_001/snapshot_001.1.hdf5', '/store/clues/HESTIA/RE_SIMS/2048/GAL_FOR/37_11/output/snapdir_001/snapshot_001.2.hdf5', '/store/clues/HESTIA/RE_SIMS/2048/GAL_FOR/37_11/output/snapdir_001/snapshot_001.3.hdf5', '/store/clues/HESTIA/RE_SIMS/2048/GAL_FOR/37_11/output/snapdir_001/snapshot_001.4.hdf5', '/store/clues/HESTIA/RE_SIMS/2048/GAL_FOR/37_11/output/snapdir_001/snapshot_001.5.hdf5', '/store/clues/HESTIA/RE_SIMS/2048/GAL_FOR/37_11/output/snapdir_001/snapshot_001.6.hdf5', '/store/clues/HESTIA/RE_SIMS/2048/GAL_FOR/37_11/output/snapdir_001/snapshot_001.7.hdf5', '/store/clues/HESTIA/RE_SIMS/2048/GAL_FOR/37_11/output/snapdir_002/snapshot_002.0.hdf5', '/store/clues/HESTIA/RE_SIMS/2048/GAL_FOR/37_11/output/snapdir_002/snapshot_002.1.hdf5', '/store/clues/HESTIA/RE_SIMS/2048/GAL_FOR/37_11/output/snapdir_002/snapshot_002.2.hdf5', '/store/clues/HESTIA/RE_SIMS/2048/GAL_FOR/37_11/output/snapdir_002/snapshot_002.3.hdf5', '/store/clues/HESTIA/RE_SIMS/2048/GAL_FOR/37_11/output/snapdir_002/snapshot_002.4.hdf5', '/store/clues/HESTIA/RE_SIMS/2048/GAL_FOR/37_11/output/snapdir_002/snapshot_002.5.hdf5', '/store/clues/HESTIA/RE_SIMS/2048/GAL_FOR/37_11/output/snapdir_002/snapshot_002.6.hdf5', '/store/clues/HESTIA/RE_SIMS/2048/GAL_FOR/37_11/output/snapdir_002/snapshot_002.7.hdf5', '/store/clues/HESTIA/RE_SIMS/2048/GAL_FOR/37_11/output/snapdir_003/snapshot_003.0.hdf5', '/store/clues/HESTIA/RE_SIMS/2048/GAL_FOR/37_11/output/snapdir_003/snapshot_003.1.hdf5', '/store/clues/HESTIA/RE_SIMS/2048/GAL_FOR/37_11/output/snapdir_003/snapshot_003.2.hdf5', '/store/clues/HESTIA/RE_SIMS/2048/GAL_FOR/37_11/output/snapdir_003/snapshot_003.3.hdf5', '/store/clues/HESTIA/RE_SIMS/2048/GAL_FOR/37_11/output/snapdir_003/snapshot_003.4.hdf5', '/store/clues/HESTIA/RE_SIMS/2048/GAL_FOR/37_11/output/snapdir_003/snapshot_003.5.hdf5', '/store/clues/HESTIA/RE_SIMS/2048/GAL_FOR/37_11/output/snapdir_003/snapshot_003.6.hdf5', '/store/clues/HESTIA/RE_SIMS/2048/GAL_FOR/37_11/output/snapdir_003/snapshot_003.7.hdf5', '/store/clues/HESTIA/RE_SIMS/2048/GAL_FOR/37_11/output/snapdir_004/snapshot_004.0.hdf5', '/store/clues/HESTIA/RE_SIMS/2048/GAL_FOR/37_11/output/snapdir_004/snapshot_004.1.hdf5', '/store/clues/HESTIA/RE_SIMS/2048/GAL_FOR/37_11/output/snapdir_004/snapshot_004.2.hdf5', '/store/clues/HESTIA/RE_SIMS/2048/GAL_FOR/37_11/output/snapdir_004/snapshot_004.3.hdf5', '/store/clues/HESTIA/RE_SIMS/2048/GAL_FOR/37_11/output/snapdir_004/snapshot_004.4.hdf5', '/store/clues/HESTIA/RE_SIMS/2048/GAL_FOR/37_11/output/snapdir_004/snapshot_004.5.hdf5', '/store/clues/HESTIA/RE_SIMS/2048/GAL_FOR/37_11/output/snapdir_004/snapshot_004.6.hdf5', '/store/clues/HESTIA/RE_SIMS/2048/GAL_FOR/37_11/output/snapdir_004/snapshot_004.7.hdf5', '/store/clues/HESTIA/RE_SIMS/2048/GAL_FOR/37_11/output/snapdir_005/snapshot_005.0.hdf5', '/store/clues/HESTIA/RE_SIMS/2048/GAL_FOR/37_11/output/snapdir_005/snapshot_005.1.hdf5', '/store/clues/HESTIA/RE_SIMS/2048/GAL_FOR/37_11/output/snapdir_005/snapshot_005.2.hdf5', '/store/clues/HESTIA/RE_SIMS/2048/GAL_FOR/37_11/output/snapdir_005/snapshot_005.3.hdf5', '/store/clues/HESTIA/RE_SIMS/2048/GAL_FOR/37_11/output/snapdir_005/snapshot_005.4.hdf5', '/store/clues/HESTIA/RE_SIMS/2048/GAL_FOR/37_11/output/snapdir_005/snapshot_005.5.hdf5', '/store/clues/HESTIA/RE_SIMS/2048/GAL_FOR/37_11/output/snapdir_005/snapshot_005.6.hdf5', '/store/clues/HESTIA/RE_SIMS/2048/GAL_FOR/37_11/output/snapdir_005/snapshot_005.7.hdf5', '/store/clues/HESTIA/RE_SIMS/2048/GAL_FOR/37_11/output/snapdir_006/snapshot_006.0.hdf5', '/store/clues/HESTIA/RE_SIMS/2048/GAL_FOR/37_11/output/snapdir_006/snapshot_006.1.hdf5', '/store/clues/HESTIA/RE_SIMS/2048/GAL_FOR/37_11/output/snapdir_006/snapshot_006.2.hdf5', '/store/clues/HESTIA/RE_SIMS/2048/GAL_FOR/37_11/output/snapdir_006/snapshot_006.3.hdf5', '/store/clues/HESTIA/RE_SIMS/2048/GAL_FOR/37_11/output/snapdir_006/snapshot_006.4.hdf5', '/store/clues/HESTIA/RE_SIMS/2048/GAL_FOR/37_11/output/snapdir_006/snapshot_006.5.hdf5', '/store/clues/HESTIA/RE_SIMS/2048/GAL_FOR/37_11/output/snapdir_006/snapshot_006.6.hdf5', '/store/clues/HESTIA/RE_SIMS/2048/GAL_FOR/37_11/output/snapdir_006/snapshot_006.7.hdf5', '/store/clues/HESTIA/RE_SIMS/2048/GAL_FOR/37_11/output/snapdir_007/snapshot_007.0.hdf5', '/store/clues/HESTIA/RE_SIMS/2048/GAL_FOR/37_11/output/snapdir_007/snapshot_007.1.hdf5', '/store/clues/HESTIA/RE_SIMS/2048/GAL_FOR/37_11/output/snapdir_007/snapshot_007.2.hdf5', '/store/clues/HESTIA/RE_SIMS/2048/GAL_FOR/37_11/output/snapdir_007/snapshot_007.3.hdf5', '/store/clues/HESTIA/RE_SIMS/2048/GAL_FOR/37_11/output/snapdir_007/snapshot_007.4.hdf5', '/store/clues/HESTIA/RE_SIMS/2048/GAL_FOR/37_11/output/snapdir_007/snapshot_007.5.hdf5', '/store/clues/HESTIA/RE_SIMS/2048/GAL_FOR/37_11/output/snapdir_007/snapshot_007.6.hdf5', '/store/clues/HESTIA/RE_SIMS/2048/GAL_FOR/37_11/output/snapdir_007/snapshot_007.7.hdf5', '/store/clues/HESTIA/RE_SIMS/2048/GAL_FOR/37_11/output/snapdir_008/snapshot_008.0.hdf5', '/store/clues/HESTIA/RE_SIMS/2048/GAL_FOR/37_11/output/snapdir_008/snapshot_008.1.hdf5', '/store/clues/HESTIA/RE_SIMS/2048/GAL_FOR/37_11/output/snapdir_008/snapshot_008.2.hdf5', '/store/clues/HESTIA/RE_SIMS/2048/GAL_FOR/37_11/output/snapdir_008/snapshot_008.3.hdf5', '/store/clues/HESTIA/RE_SIMS/2048/GAL_FOR/37_11/output/snapdir_008/snapshot_008.4.hdf5', '/store/clues/HESTIA/RE_SIMS/2048/GAL_FOR/37_11/output/snapdir_008/snapshot_008.5.hdf5', '/store/clues/HESTIA/RE_SIMS/2048/GAL_FOR/37_11/output/snapdir_008/snapshot_008.6.hdf5', '/store/clues/HESTIA/RE_SIMS/2048/GAL_FOR/37_11/output/snapdir_008/snapshot_008.7.hdf5', '/store/clues/HESTIA/RE_SIMS/2048/GAL_FOR/37_11/output/snapdir_009/snapshot_009.0.hdf5', '/store/clues/HESTIA/RE_SIMS/2048/GAL_FOR/37_11/output/snapdir_009/snapshot_009.1.hdf5', '/store/clues/HESTIA/RE_SIMS/2048/GAL_FOR/37_11/output/snapdir_009/snapshot_009.2.hdf5', '/store/clues/HESTIA/RE_SIMS/2048/GAL_FOR/37_11/output/snapdir_009/snapshot_009.3.hdf5', '/store/clues/HESTIA/RE_SIMS/2048/GAL_FOR/37_11/output/snapdir_009/snapshot_009.4.hdf5', '/store/clues/HESTIA/RE_SIMS/2048/GAL_FOR/37_11/output/snapdir_009/snapshot_009.5.hdf5', '/store/clues/HESTIA/RE_SIMS/2048/GAL_FOR/37_11/output/snapdir_009/snapshot_009.6.hdf5', '/store/clues/HESTIA/RE_SIMS/2048/GAL_FOR/37_11/output/snapdir_009/snapshot_009.7.hdf5', '/store/clues/HESTIA/RE_SIMS/2048/GAL_FOR/37_11/output/snapdir_010/snapshot_010.0.hdf5', '/store/clues/HESTIA/RE_SIMS/2048/GAL_FOR/37_11/output/snapdir_010/snapshot_010.1.hdf5', '/store/clues/HESTIA/RE_SIMS/2048/GAL_FOR/37_11/output/snapdir_010/snapshot_010.2.hdf5', '/store/clues/HESTIA/RE_SIMS/2048/GAL_FOR/37_11/output/snapdir_010/snapshot_010.3.hdf5', '/store/clues/HESTIA/RE_SIMS/2048/GAL_FOR/37_11/output/snapdir_010/snapshot_010.4.hdf5', '/store/clues/HESTIA/RE_SIMS/2048/GAL_FOR/37_11/output/snapdir_010/snapshot_010.5.hdf5', '/store/clues/HESTIA/RE_SIMS/2048/GAL_FOR/37_11/output/snapdir_010/snapshot_010.6.hdf5', '/store/clues/HESTIA/RE_SIMS/2048/GAL_FOR/37_11/output/snapdir_010/snapshot_010.7.hdf5', '/store/clues/HESTIA/RE_SIMS/2048/GAL_FOR/37_11/output/snapdir_011/snapshot_011.0.hdf5', '/store/clues/HESTIA/RE_SIMS/2048/GAL_FOR/37_11/output/snapdir_011/snapshot_011.1.hdf5', '/store/clues/HESTIA/RE_SIMS/2048/GAL_FOR/37_11/output/snapdir_011/snapshot_011.2.hdf5', '/store/clues/HESTIA/RE_SIMS/2048/GAL_FOR/37_11/output/snapdir_011/snapshot_011.3.hdf5', '/store/clues/HESTIA/RE_SIMS/2048/GAL_FOR/37_11/output/snapdir_011/snapshot_011.4.hdf5', '/store/clues/HESTIA/RE_SIMS/2048/GAL_FOR/37_11/output/snapdir_011/snapshot_011.5.hdf5', '/store/clues/HESTIA/RE_SIMS/2048/GAL_FOR/37_11/output/snapdir_011/snapshot_011.6.hdf5', '/store/clues/HESTIA/RE_SIMS/2048/GAL_FOR/37_11/output/snapdir_011/snapshot_011.7.hdf5', '/store/clues/HESTIA/RE_SIMS/2048/GAL_FOR/37_11/output/snapdir_012/snapshot_012.0.hdf5', '/store/clues/HESTIA/RE_SIMS/2048/GAL_FOR/37_11/output/snapdir_012/snapshot_012.1.hdf5', '/store/clues/HESTIA/RE_SIMS/2048/GAL_FOR/37_11/output/snapdir_012/snapshot_012.2.hdf5', '/store/clues/HESTIA/RE_SIMS/2048/GAL_FOR/37_11/output/snapdir_012/snapshot_012.3.hdf5', '/store/clues/HESTIA/RE_SIMS/2048/GAL_FOR/37_11/output/snapdir_012/snapshot_012.4.hdf5', '/store/clues/HESTIA/RE_SIMS/2048/GAL_FOR/37_11/output/snapdir_012/snapshot_012.5.hdf5', '/store/clues/HESTIA/RE_SIMS/2048/GAL_FOR/37_11/output/snapdir_012/snapshot_012.6.hdf5', '/store/clues/HESTIA/RE_SIMS/2048/GAL_FOR/37_11/output/snapdir_012/snapshot_012.7.hdf5', '/store/clues/HESTIA/RE_SIMS/2048/GAL_FOR/37_11/output/snapdir_013/snapshot_013.0.hdf5', '/store/clues/HESTIA/RE_SIMS/2048/GAL_FOR/37_11/output/snapdir_013/snapshot_013.1.hdf5', '/store/clues/HESTIA/RE_SIMS/2048/GAL_FOR/37_11/output/snapdir_013/snapshot_013.2.hdf5', '/store/clues/HESTIA/RE_SIMS/2048/GAL_FOR/37_11/output/snapdir_013/snapshot_013.3.hdf5', '/store/clues/HESTIA/RE_SIMS/2048/GAL_FOR/37_11/output/snapdir_013/snapshot_013.4.hdf5', '/store/clues/HESTIA/RE_SIMS/2048/GAL_FOR/37_11/output/snapdir_013/snapshot_013.5.hdf5', '/store/clues/HESTIA/RE_SIMS/2048/GAL_FOR/37_11/output/snapdir_013/snapshot_013.6.hdf5', '/store/clues/HESTIA/RE_SIMS/2048/GAL_FOR/37_11/output/snapdir_013/snapshot_013.7.hdf5', '/store/clues/HESTIA/RE_SIMS/2048/GAL_FOR/37_11/output/snapdir_014/snapshot_014.0.hdf5', '/store/clues/HESTIA/RE_SIMS/2048/GAL_FOR/37_11/output/snapdir_014/snapshot_014.1.hdf5', '/store/clues/HESTIA/RE_SIMS/2048/GAL_FOR/37_11/output/snapdir_014/snapshot_014.2.hdf5', '/store/clues/HESTIA/RE_SIMS/2048/GAL_FOR/37_11/output/snapdir_014/snapshot_014.3.hdf5', '/store/clues/HESTIA/RE_SIMS/2048/GAL_FOR/37_11/output/snapdir_014/snapshot_014.4.hdf5', '/store/clues/HESTIA/RE_SIMS/2048/GAL_FOR/37_11/output/snapdir_014/snapshot_014.5.hdf5', '/store/clues/HESTIA/RE_SIMS/2048/GAL_FOR/37_11/output/snapdir_014/snapshot_014.6.hdf5', '/store/clues/HESTIA/RE_SIMS/2048/GAL_FOR/37_11/output/snapdir_014/snapshot_014.7.hdf5', '/store/clues/HESTIA/RE_SIMS/2048/GAL_FOR/37_11/output/snapdir_015/snapshot_015.0.hdf5', '/store/clues/HESTIA/RE_SIMS/2048/GAL_FOR/37_11/output/snapdir_015/snapshot_015.1.hdf5', '/store/clues/HESTIA/RE_SIMS/2048/GAL_FOR/37_11/output/snapdir_015/snapshot_015.2.hdf5', '/store/clues/HESTIA/RE_SIMS/2048/GAL_FOR/37_11/output/snapdir_015/snapshot_015.3.hdf5', '/store/clues/HESTIA/RE_SIMS/2048/GAL_FOR/37_11/output/snapdir_015/snapshot_015.4.hdf5', '/store/clues/HESTIA/RE_SIMS/2048/GAL_FOR/37_11/output/snapdir_015/snapshot_015.5.hdf5', '/store/clues/HESTIA/RE_SIMS/2048/GAL_FOR/37_11/output/snapdir_015/snapshot_015.6.hdf5', '/store/clues/HESTIA/RE_SIMS/2048/GAL_FOR/37_11/output/snapdir_015/snapshot_015.7.hdf5', '/store/clues/HESTIA/RE_SIMS/2048/GAL_FOR/37_11/output/snapdir_016/snapshot_016.0.hdf5', '/store/clues/HESTIA/RE_SIMS/2048/GAL_FOR/37_11/output/snapdir_016/snapshot_016.1.hdf5', '/store/clues/HESTIA/RE_SIMS/2048/GAL_FOR/37_11/output/snapdir_016/snapshot_016.2.hdf5', '/store/clues/HESTIA/RE_SIMS/2048/GAL_FOR/37_11/output/snapdir_016/snapshot_016.3.hdf5', '/store/clues/HESTIA/RE_SIMS/2048/GAL_FOR/37_11/output/snapdir_016/snapshot_016.4.hdf5', '/store/clues/HESTIA/RE_SIMS/2048/GAL_FOR/37_11/output/snapdir_016/snapshot_016.5.hdf5', '/store/clues/HESTIA/RE_SIMS/2048/GAL_FOR/37_11/output/snapdir_016/snapshot_016.6.hdf5', '/store/clues/HESTIA/RE_SIMS/2048/GAL_FOR/37_11/output/snapdir_016/snapshot_016.7.hdf5', '/store/clues/HESTIA/RE_SIMS/2048/GAL_FOR/37_11/output/snapdir_017/snapshot_017.0.hdf5', '/store/clues/HESTIA/RE_SIMS/2048/GAL_FOR/37_11/output/snapdir_017/snapshot_017.1.hdf5', '/store/clues/HESTIA/RE_SIMS/2048/GAL_FOR/37_11/output/snapdir_017/snapshot_017.2.hdf5', '/store/clues/HESTIA/RE_SIMS/2048/GAL_FOR/37_11/output/snapdir_017/snapshot_017.3.hdf5', '/store/clues/HESTIA/RE_SIMS/2048/GAL_FOR/37_11/output/snapdir_017/snapshot_017.4.hdf5', '/store/clues/HESTIA/RE_SIMS/2048/GAL_FOR/37_11/output/snapdir_017/snapshot_017.5.hdf5', '/store/clues/HESTIA/RE_SIMS/2048/GAL_FOR/37_11/output/snapdir_017/snapshot_017.6.hdf5', '/store/clues/HESTIA/RE_SIMS/2048/GAL_FOR/37_11/output/snapdir_017/snapshot_017.7.hdf5', '/store/clues/HESTIA/RE_SIMS/2048/GAL_FOR/37_11/output/snapdir_018/snapshot_018.0.hdf5', '/store/clues/HESTIA/RE_SIMS/2048/GAL_FOR/37_11/output/snapdir_018/snapshot_018.1.hdf5', '/store/clues/HESTIA/RE_SIMS/2048/GAL_FOR/37_11/output/snapdir_018/snapshot_018.2.hdf5', '/store/clues/HESTIA/RE_SIMS/2048/GAL_FOR/37_11/output/snapdir_018/snapshot_018.3.hdf5', '/store/clues/HESTIA/RE_SIMS/2048/GAL_FOR/37_11/output/snapdir_018/snapshot_018.4.hdf5', '/store/clues/HESTIA/RE_SIMS/2048/GAL_FOR/37_11/output/snapdir_018/snapshot_018.5.hdf5', '/store/clues/HESTIA/RE_SIMS/2048/GAL_FOR/37_11/output/snapdir_018/snapshot_018.6.hdf5', '/store/clues/HESTIA/RE_SIMS/2048/GAL_FOR/37_11/output/snapdir_018/snapshot_018.7.hdf5', '/store/clues/HESTIA/RE_SIMS/2048/GAL_FOR/37_11/output/snapdir_019/snapshot_019.0.hdf5', '/store/clues/HESTIA/RE_SIMS/2048/GAL_FOR/37_11/output/snapdir_019/snapshot_019.1.hdf5', '/store/clues/HESTIA/RE_SIMS/2048/GAL_FOR/37_11/output/snapdir_019/snapshot_019.2.hdf5', '/store/clues/HESTIA/RE_SIMS/2048/GAL_FOR/37_11/output/snapdir_019/snapshot_019.3.hdf5', '/store/clues/HESTIA/RE_SIMS/2048/GAL_FOR/37_11/output/snapdir_019/snapshot_019.4.hdf5', '/store/clues/HESTIA/RE_SIMS/2048/GAL_FOR/37_11/output/snapdir_019/snapshot_019.5.hdf5', '/store/clues/HESTIA/RE_SIMS/2048/GAL_FOR/37_11/output/snapdir_019/snapshot_019.6.hdf5', '/store/clues/HESTIA/RE_SIMS/2048/GAL_FOR/37_11/output/snapdir_019/snapshot_019.7.hdf5', '/store/clues/HESTIA/RE_SIMS/2048/GAL_FOR/37_11/output/snapdir_020/snapshot_020.0.hdf5', '/store/clues/HESTIA/RE_SIMS/2048/GAL_FOR/37_11/output/snapdir_020/snapshot_020.1.hdf5', '/store/clues/HESTIA/RE_SIMS/2048/GAL_FOR/37_11/output/snapdir_020/snapshot_020.2.hdf5', '/store/clues/HESTIA/RE_SIMS/2048/GAL_FOR/37_11/output/snapdir_020/snapshot_020.3.hdf5', '/store/clues/HESTIA/RE_SIMS/2048/GAL_FOR/37_11/output/snapdir_020/snapshot_020.4.hdf5', '/store/clues/HESTIA/RE_SIMS/2048/GAL_FOR/37_11/output/snapdir_020/snapshot_020.5.hdf5', '/store/clues/HESTIA/RE_SIMS/2048/GAL_FOR/37_11/output/snapdir_020/snapshot_020.6.hdf5', '/store/clues/HESTIA/RE_SIMS/2048/GAL_FOR/37_11/output/snapdir_020/snapshot_020.7.hdf5', '/store/clues/HESTIA/RE_SIMS/2048/GAL_FOR/37_11/output/snapdir_021/snapshot_021.0.hdf5', '/store/clues/HESTIA/RE_SIMS/2048/GAL_FOR/37_11/output/snapdir_021/snapshot_021.1.hdf5', '/store/clues/HESTIA/RE_SIMS/2048/GAL_FOR/37_11/output/snapdir_021/snapshot_021.2.hdf5', '/store/clues/HESTIA/RE_SIMS/2048/GAL_FOR/37_11/output/snapdir_021/snapshot_021.3.hdf5', '/store/clues/HESTIA/RE_SIMS/2048/GAL_FOR/37_11/output/snapdir_021/snapshot_021.4.hdf5', '/store/clues/HESTIA/RE_SIMS/2048/GAL_FOR/37_11/output/snapdir_021/snapshot_021.5.hdf5', '/store/clues/HESTIA/RE_SIMS/2048/GAL_FOR/37_11/output/snapdir_021/snapshot_021.6.hdf5', '/store/clues/HESTIA/RE_SIMS/2048/GAL_FOR/37_11/output/snapdir_021/snapshot_021.7.hdf5', '/store/clues/HESTIA/RE_SIMS/2048/GAL_FOR/37_11/output/snapdir_022/snapshot_022.0.hdf5', '/store/clues/HESTIA/RE_SIMS/2048/GAL_FOR/37_11/output/snapdir_022/snapshot_022.1.hdf5', '/store/clues/HESTIA/RE_SIMS/2048/GAL_FOR/37_11/output/snapdir_022/snapshot_022.2.hdf5', '/store/clues/HESTIA/RE_SIMS/2048/GAL_FOR/37_11/output/snapdir_022/snapshot_022.3.hdf5', '/store/clues/HESTIA/RE_SIMS/2048/GAL_FOR/37_11/output/snapdir_022/snapshot_022.4.hdf5', '/store/clues/HESTIA/RE_SIMS/2048/GAL_FOR/37_11/output/snapdir_022/snapshot_022.5.hdf5', '/store/clues/HESTIA/RE_SIMS/2048/GAL_FOR/37_11/output/snapdir_022/snapshot_022.6.hdf5', '/store/clues/HESTIA/RE_SIMS/2048/GAL_FOR/37_11/output/snapdir_022/snapshot_022.7.hdf5', '/store/clues/HESTIA/RE_SIMS/2048/GAL_FOR/37_11/output/snapdir_023/snapshot_023.0.hdf5', '/store/clues/HESTIA/RE_SIMS/2048/GAL_FOR/37_11/output/snapdir_023/snapshot_023.1.hdf5', '/store/clues/HESTIA/RE_SIMS/2048/GAL_FOR/37_11/output/snapdir_023/snapshot_023.2.hdf5', '/store/clues/HESTIA/RE_SIMS/2048/GAL_FOR/37_11/output/snapdir_023/snapshot_023.3.hdf5', '/store/clues/HESTIA/RE_SIMS/2048/GAL_FOR/37_11/output/snapdir_023/snapshot_023.4.hdf5', '/store/clues/HESTIA/RE_SIMS/2048/GAL_FOR/37_11/output/snapdir_023/snapshot_023.5.hdf5', '/store/clues/HESTIA/RE_SIMS/2048/GAL_FOR/37_11/output/snapdir_023/snapshot_023.6.hdf5', '/store/clues/HESTIA/RE_SIMS/2048/GAL_FOR/37_11/output/snapdir_023/snapshot_023.7.hdf5', '/store/clues/HESTIA/RE_SIMS/2048/GAL_FOR/37_11/output/snapdir_024/snapshot_024.0.hdf5', '/store/clues/HESTIA/RE_SIMS/2048/GAL_FOR/37_11/output/snapdir_024/snapshot_024.1.hdf5', '/store/clues/HESTIA/RE_SIMS/2048/GAL_FOR/37_11/output/snapdir_024/snapshot_024.2.hdf5', '/store/clues/HESTIA/RE_SIMS/2048/GAL_FOR/37_11/output/snapdir_024/snapshot_024.3.hdf5', '/store/clues/HESTIA/RE_SIMS/2048/GAL_FOR/37_11/output/snapdir_024/snapshot_024.4.hdf5', '/store/clues/HESTIA/RE_SIMS/2048/GAL_FOR/37_11/output/snapdir_024/snapshot_024.5.hdf5', '/store/clues/HESTIA/RE_SIMS/2048/GAL_FOR/37_11/output/snapdir_024/snapshot_024.6.hdf5', '/store/clues/HESTIA/RE_SIMS/2048/GAL_FOR/37_11/output/snapdir_024/snapshot_024.7.hdf5', '/store/clues/HESTIA/RE_SIMS/2048/GAL_FOR/37_11/output/snapdir_025/snapshot_025.0.hdf5', '/store/clues/HESTIA/RE_SIMS/2048/GAL_FOR/37_11/output/snapdir_025/snapshot_025.1.hdf5', '/store/clues/HESTIA/RE_SIMS/2048/GAL_FOR/37_11/output/snapdir_025/snapshot_025.2.hdf5', '/store/clues/HESTIA/RE_SIMS/2048/GAL_FOR/37_11/output/snapdir_025/snapshot_025.3.hdf5', '/store/clues/HESTIA/RE_SIMS/2048/GAL_FOR/37_11/output/snapdir_025/snapshot_025.4.hdf5', '/store/clues/HESTIA/RE_SIMS/2048/GAL_FOR/37_11/output/snapdir_025/snapshot_025.5.hdf5', '/store/clues/HESTIA/RE_SIMS/2048/GAL_FOR/37_11/output/snapdir_025/snapshot_025.6.hdf5', '/store/clues/HESTIA/RE_SIMS/2048/GAL_FOR/37_11/output/snapdir_025/snapshot_025.7.hdf5', '/store/clues/HESTIA/RE_SIMS/2048/GAL_FOR/37_11/output/snapdir_026/snapshot_026.0.hdf5', '/store/clues/HESTIA/RE_SIMS/2048/GAL_FOR/37_11/output/snapdir_026/snapshot_026.1.hdf5', '/store/clues/HESTIA/RE_SIMS/2048/GAL_FOR/37_11/output/snapdir_026/snapshot_026.2.hdf5', '/store/clues/HESTIA/RE_SIMS/2048/GAL_FOR/37_11/output/snapdir_026/snapshot_026.3.hdf5', '/store/clues/HESTIA/RE_SIMS/2048/GAL_FOR/37_11/output/snapdir_026/snapshot_026.4.hdf5', '/store/clues/HESTIA/RE_SIMS/2048/GAL_FOR/37_11/output/snapdir_026/snapshot_026.5.hdf5', '/store/clues/HESTIA/RE_SIMS/2048/GAL_FOR/37_11/output/snapdir_026/snapshot_026.6.hdf5', '/store/clues/HESTIA/RE_SIMS/2048/GAL_FOR/37_11/output/snapdir_026/snapshot_026.7.hdf5', '/store/clues/HESTIA/RE_SIMS/2048/GAL_FOR/37_11/output/snapdir_027/snapshot_027.0.hdf5', '/store/clues/HESTIA/RE_SIMS/2048/GAL_FOR/37_11/output/snapdir_027/snapshot_027.1.hdf5', '/store/clues/HESTIA/RE_SIMS/2048/GAL_FOR/37_11/output/snapdir_027/snapshot_027.2.hdf5', '/store/clues/HESTIA/RE_SIMS/2048/GAL_FOR/37_11/output/snapdir_027/snapshot_027.3.hdf5', '/store/clues/HESTIA/RE_SIMS/2048/GAL_FOR/37_11/output/snapdir_027/snapshot_027.4.hdf5', '/store/clues/HESTIA/RE_SIMS/2048/GAL_FOR/37_11/output/snapdir_027/snapshot_027.5.hdf5', '/store/clues/HESTIA/RE_SIMS/2048/GAL_FOR/37_11/output/snapdir_027/snapshot_027.6.hdf5', '/store/clues/HESTIA/RE_SIMS/2048/GAL_FOR/37_11/output/snapdir_027/snapshot_027.7.hdf5', '/store/clues/HESTIA/RE_SIMS/2048/GAL_FOR/37_11/output/snapdir_028/snapshot_028.0.hdf5', '/store/clues/HESTIA/RE_SIMS/2048/GAL_FOR/37_11/output/snapdir_028/snapshot_028.1.hdf5', '/store/clues/HESTIA/RE_SIMS/2048/GAL_FOR/37_11/output/snapdir_028/snapshot_028.2.hdf5', '/store/clues/HESTIA/RE_SIMS/2048/GAL_FOR/37_11/output/snapdir_028/snapshot_028.3.hdf5', '/store/clues/HESTIA/RE_SIMS/2048/GAL_FOR/37_11/output/snapdir_028/snapshot_028.4.hdf5', '/store/clues/HESTIA/RE_SIMS/2048/GAL_FOR/37_11/output/snapdir_028/snapshot_028.5.hdf5', '/store/clues/HESTIA/RE_SIMS/2048/GAL_FOR/37_11/output/snapdir_028/snapshot_028.6.hdf5', '/store/clues/HESTIA/RE_SIMS/2048/GAL_FOR/37_11/output/snapdir_028/snapshot_028.7.hdf5', '/store/clues/HESTIA/RE_SIMS/2048/GAL_FOR/37_11/output/snapdir_029/snapshot_029.0.hdf5', '/store/clues/HESTIA/RE_SIMS/2048/GAL_FOR/37_11/output/snapdir_029/snapshot_029.1.hdf5', '/store/clues/HESTIA/RE_SIMS/2048/GAL_FOR/37_11/output/snapdir_029/snapshot_029.2.hdf5', '/store/clues/HESTIA/RE_SIMS/2048/GAL_FOR/37_11/output/snapdir_029/snapshot_029.3.hdf5', '/store/clues/HESTIA/RE_SIMS/2048/GAL_FOR/37_11/output/snapdir_029/snapshot_029.4.hdf5', '/store/clues/HESTIA/RE_SIMS/2048/GAL_FOR/37_11/output/snapdir_029/snapshot_029.5.hdf5', '/store/clues/HESTIA/RE_SIMS/2048/GAL_FOR/37_11/output/snapdir_029/snapshot_029.6.hdf5', '/store/clues/HESTIA/RE_SIMS/2048/GAL_FOR/37_11/output/snapdir_029/snapshot_029.7.hdf5', '/store/clues/HESTIA/RE_SIMS/2048/GAL_FOR/37_11/output/snapdir_030/snapshot_030.0.hdf5', '/store/clues/HESTIA/RE_SIMS/2048/GAL_FOR/37_11/output/snapdir_030/snapshot_030.1.hdf5', '/store/clues/HESTIA/RE_SIMS/2048/GAL_FOR/37_11/output/snapdir_030/snapshot_030.2.hdf5', '/store/clues/HESTIA/RE_SIMS/2048/GAL_FOR/37_11/output/snapdir_030/snapshot_030.3.hdf5', '/store/clues/HESTIA/RE_SIMS/2048/GAL_FOR/37_11/output/snapdir_030/snapshot_030.4.hdf5', '/store/clues/HESTIA/RE_SIMS/2048/GAL_FOR/37_11/output/snapdir_030/snapshot_030.5.hdf5', '/store/clues/HESTIA/RE_SIMS/2048/GAL_FOR/37_11/output/snapdir_030/snapshot_030.6.hdf5', '/store/clues/HESTIA/RE_SIMS/2048/GAL_FOR/37_11/output/snapdir_030/snapshot_030.7.hdf5', '/store/clues/HESTIA/RE_SIMS/2048/GAL_FOR/37_11/output/snapdir_031/snapshot_031.0.hdf5', '/store/clues/HESTIA/RE_SIMS/2048/GAL_FOR/37_11/output/snapdir_031/snapshot_031.1.hdf5', '/store/clues/HESTIA/RE_SIMS/2048/GAL_FOR/37_11/output/snapdir_031/snapshot_031.2.hdf5', '/store/clues/HESTIA/RE_SIMS/2048/GAL_FOR/37_11/output/snapdir_031/snapshot_031.3.hdf5', '/store/clues/HESTIA/RE_SIMS/2048/GAL_FOR/37_11/output/snapdir_031/snapshot_031.4.hdf5', '/store/clues/HESTIA/RE_SIMS/2048/GAL_FOR/37_11/output/snapdir_031/snapshot_031.5.hdf5', '/store/clues/HESTIA/RE_SIMS/2048/GAL_FOR/37_11/output/snapdir_031/snapshot_031.6.hdf5', '/store/clues/HESTIA/RE_SIMS/2048/GAL_FOR/37_11/output/snapdir_031/snapshot_031.7.hdf5', '/store/clues/HESTIA/RE_SIMS/2048/GAL_FOR/37_11/output/snapdir_032/snapshot_032.0.hdf5', '/store/clues/HESTIA/RE_SIMS/2048/GAL_FOR/37_11/output/snapdir_032/snapshot_032.1.hdf5', '/store/clues/HESTIA/RE_SIMS/2048/GAL_FOR/37_11/output/snapdir_032/snapshot_032.2.hdf5', '/store/clues/HESTIA/RE_SIMS/2048/GAL_FOR/37_11/output/snapdir_032/snapshot_032.3.hdf5', '/store/clues/HESTIA/RE_SIMS/2048/GAL_FOR/37_11/output/snapdir_032/snapshot_032.4.hdf5', '/store/clues/HESTIA/RE_SIMS/2048/GAL_FOR/37_11/output/snapdir_032/snapshot_032.5.hdf5', '/store/clues/HESTIA/RE_SIMS/2048/GAL_FOR/37_11/output/snapdir_032/snapshot_032.6.hdf5', '/store/clues/HESTIA/RE_SIMS/2048/GAL_FOR/37_11/output/snapdir_032/snapshot_032.7.hdf5', '/store/clues/HESTIA/RE_SIMS/2048/GAL_FOR/37_11/output/snapdir_033/snapshot_033.0.hdf5', '/store/clues/HESTIA/RE_SIMS/2048/GAL_FOR/37_11/output/snapdir_033/snapshot_033.1.hdf5', '/store/clues/HESTIA/RE_SIMS/2048/GAL_FOR/37_11/output/snapdir_033/snapshot_033.2.hdf5', '/store/clues/HESTIA/RE_SIMS/2048/GAL_FOR/37_11/output/snapdir_033/snapshot_033.3.hdf5', '/store/clues/HESTIA/RE_SIMS/2048/GAL_FOR/37_11/output/snapdir_033/snapshot_033.4.hdf5', '/store/clues/HESTIA/RE_SIMS/2048/GAL_FOR/37_11/output/snapdir_033/snapshot_033.5.hdf5', '/store/clues/HESTIA/RE_SIMS/2048/GAL_FOR/37_11/output/snapdir_033/snapshot_033.6.hdf5', '/store/clues/HESTIA/RE_SIMS/2048/GAL_FOR/37_11/output/snapdir_033/snapshot_033.7.hdf5', '/store/clues/HESTIA/RE_SIMS/2048/GAL_FOR/37_11/output/snapdir_034/snapshot_034.0.hdf5', '/store/clues/HESTIA/RE_SIMS/2048/GAL_FOR/37_11/output/snapdir_034/snapshot_034.1.hdf5', '/store/clues/HESTIA/RE_SIMS/2048/GAL_FOR/37_11/output/snapdir_034/snapshot_034.2.hdf5', '/store/clues/HESTIA/RE_SIMS/2048/GAL_FOR/37_11/output/snapdir_034/snapshot_034.3.hdf5', '/store/clues/HESTIA/RE_SIMS/2048/GAL_FOR/37_11/output/snapdir_034/snapshot_034.4.hdf5', '/store/clues/HESTIA/RE_SIMS/2048/GAL_FOR/37_11/output/snapdir_034/snapshot_034.5.hdf5', '/store/clues/HESTIA/RE_SIMS/2048/GAL_FOR/37_11/output/snapdir_034/snapshot_034.6.hdf5', '/store/clues/HESTIA/RE_SIMS/2048/GAL_FOR/37_11/output/snapdir_034/snapshot_034.7.hdf5', '/store/clues/HESTIA/RE_SIMS/2048/GAL_FOR/37_11/output/snapdir_035/snapshot_035.0.hdf5', '/store/clues/HESTIA/RE_SIMS/2048/GAL_FOR/37_11/output/snapdir_035/snapshot_035.1.hdf5', '/store/clues/HESTIA/RE_SIMS/2048/GAL_FOR/37_11/output/snapdir_035/snapshot_035.2.hdf5', '/store/clues/HESTIA/RE_SIMS/2048/GAL_FOR/37_11/output/snapdir_035/snapshot_035.3.hdf5', '/store/clues/HESTIA/RE_SIMS/2048/GAL_FOR/37_11/output/snapdir_035/snapshot_035.4.hdf5', '/store/clues/HESTIA/RE_SIMS/2048/GAL_FOR/37_11/output/snapdir_035/snapshot_035.5.hdf5', '/store/clues/HESTIA/RE_SIMS/2048/GAL_FOR/37_11/output/snapdir_035/snapshot_035.6.hdf5', '/store/clues/HESTIA/RE_SIMS/2048/GAL_FOR/37_11/output/snapdir_035/snapshot_035.7.hdf5', '/store/clues/HESTIA/RE_SIMS/2048/GAL_FOR/37_11/output/snapdir_036/snapshot_036.0.hdf5', '/store/clues/HESTIA/RE_SIMS/2048/GAL_FOR/37_11/output/snapdir_036/snapshot_036.1.hdf5', '/store/clues/HESTIA/RE_SIMS/2048/GAL_FOR/37_11/output/snapdir_036/snapshot_036.2.hdf5', '/store/clues/HESTIA/RE_SIMS/2048/GAL_FOR/37_11/output/snapdir_036/snapshot_036.3.hdf5', '/store/clues/HESTIA/RE_SIMS/2048/GAL_FOR/37_11/output/snapdir_036/snapshot_036.4.hdf5', '/store/clues/HESTIA/RE_SIMS/2048/GAL_FOR/37_11/output/snapdir_036/snapshot_036.5.hdf5', '/store/clues/HESTIA/RE_SIMS/2048/GAL_FOR/37_11/output/snapdir_036/snapshot_036.6.hdf5', '/store/clues/HESTIA/RE_SIMS/2048/GAL_FOR/37_11/output/snapdir_036/snapshot_036.7.hdf5', '/store/clues/HESTIA/RE_SIMS/2048/GAL_FOR/37_11/output/snapdir_037/snapshot_037.0.hdf5', '/store/clues/HESTIA/RE_SIMS/2048/GAL_FOR/37_11/output/snapdir_037/snapshot_037.1.hdf5', '/store/clues/HESTIA/RE_SIMS/2048/GAL_FOR/37_11/output/snapdir_037/snapshot_037.2.hdf5', '/store/clues/HESTIA/RE_SIMS/2048/GAL_FOR/37_11/output/snapdir_037/snapshot_037.3.hdf5', '/store/clues/HESTIA/RE_SIMS/2048/GAL_FOR/37_11/output/snapdir_037/snapshot_037.4.hdf5', '/store/clues/HESTIA/RE_SIMS/2048/GAL_FOR/37_11/output/snapdir_037/snapshot_037.5.hdf5', '/store/clues/HESTIA/RE_SIMS/2048/GAL_FOR/37_11/output/snapdir_037/snapshot_037.6.hdf5', '/store/clues/HESTIA/RE_SIMS/2048/GAL_FOR/37_11/output/snapdir_037/snapshot_037.7.hdf5', '/store/clues/HESTIA/RE_SIMS/2048/GAL_FOR/37_11/output/snapdir_038/snapshot_038.0.hdf5', '/store/clues/HESTIA/RE_SIMS/2048/GAL_FOR/37_11/output/snapdir_038/snapshot_038.1.hdf5', '/store/clues/HESTIA/RE_SIMS/2048/GAL_FOR/37_11/output/snapdir_038/snapshot_038.2.hdf5', '/store/clues/HESTIA/RE_SIMS/2048/GAL_FOR/37_11/output/snapdir_038/snapshot_038.3.hdf5', '/store/clues/HESTIA/RE_SIMS/2048/GAL_FOR/37_11/output/snapdir_038/snapshot_038.4.hdf5', '/store/clues/HESTIA/RE_SIMS/2048/GAL_FOR/37_11/output/snapdir_038/snapshot_038.5.hdf5', '/store/clues/HESTIA/RE_SIMS/2048/GAL_FOR/37_11/output/snapdir_038/snapshot_038.6.hdf5', '/store/clues/HESTIA/RE_SIMS/2048/GAL_FOR/37_11/output/snapdir_038/snapshot_038.7.hdf5', '/store/clues/HESTIA/RE_SIMS/2048/GAL_FOR/37_11/output/snapdir_039/snapshot_039.0.hdf5', '/store/clues/HESTIA/RE_SIMS/2048/GAL_FOR/37_11/output/snapdir_039/snapshot_039.1.hdf5', '/store/clues/HESTIA/RE_SIMS/2048/GAL_FOR/37_11/output/snapdir_039/snapshot_039.2.hdf5', '/store/clues/HESTIA/RE_SIMS/2048/GAL_FOR/37_11/output/snapdir_039/snapshot_039.3.hdf5', '/store/clues/HESTIA/RE_SIMS/2048/GAL_FOR/37_11/output/snapdir_039/snapshot_039.4.hdf5', '/store/clues/HESTIA/RE_SIMS/2048/GAL_FOR/37_11/output/snapdir_039/snapshot_039.5.hdf5', '/store/clues/HESTIA/RE_SIMS/2048/GAL_FOR/37_11/output/snapdir_039/snapshot_039.6.hdf5', '/store/clues/HESTIA/RE_SIMS/2048/GAL_FOR/37_11/output/snapdir_039/snapshot_039.7.hdf5', '/store/clues/HESTIA/RE_SIMS/2048/GAL_FOR/37_11/output/snapdir_040/snapshot_040.0.hdf5', '/store/clues/HESTIA/RE_SIMS/2048/GAL_FOR/37_11/output/snapdir_040/snapshot_040.1.hdf5', '/store/clues/HESTIA/RE_SIMS/2048/GAL_FOR/37_11/output/snapdir_040/snapshot_040.2.hdf5', '/store/clues/HESTIA/RE_SIMS/2048/GAL_FOR/37_11/output/snapdir_040/snapshot_040.3.hdf5', '/store/clues/HESTIA/RE_SIMS/2048/GAL_FOR/37_11/output/snapdir_040/snapshot_040.4.hdf5', '/store/clues/HESTIA/RE_SIMS/2048/GAL_FOR/37_11/output/snapdir_040/snapshot_040.5.hdf5', '/store/clues/HESTIA/RE_SIMS/2048/GAL_FOR/37_11/output/snapdir_040/snapshot_040.6.hdf5', '/store/clues/HESTIA/RE_SIMS/2048/GAL_FOR/37_11/output/snapdir_040/snapshot_040.7.hdf5', '/store/clues/HESTIA/RE_SIMS/2048/GAL_FOR/37_11/output/snapdir_041/snapshot_041.0.hdf5', '/store/clues/HESTIA/RE_SIMS/2048/GAL_FOR/37_11/output/snapdir_041/snapshot_041.1.hdf5', '/store/clues/HESTIA/RE_SIMS/2048/GAL_FOR/37_11/output/snapdir_041/snapshot_041.2.hdf5', '/store/clues/HESTIA/RE_SIMS/2048/GAL_FOR/37_11/output/snapdir_041/snapshot_041.3.hdf5', '/store/clues/HESTIA/RE_SIMS/2048/GAL_FOR/37_11/output/snapdir_041/snapshot_041.4.hdf5', '/store/clues/HESTIA/RE_SIMS/2048/GAL_FOR/37_11/output/snapdir_041/snapshot_041.5.hdf5', '/store/clues/HESTIA/RE_SIMS/2048/GAL_FOR/37_11/output/snapdir_041/snapshot_041.6.hdf5', '/store/clues/HESTIA/RE_SIMS/2048/GAL_FOR/37_11/output/snapdir_041/snapshot_041.7.hdf5', '/store/clues/HESTIA/RE_SIMS/2048/GAL_FOR/37_11/output/snapdir_042/snapshot_042.0.hdf5', '/store/clues/HESTIA/RE_SIMS/2048/GAL_FOR/37_11/output/snapdir_042/snapshot_042.1.hdf5', '/store/clues/HESTIA/RE_SIMS/2048/GAL_FOR/37_11/output/snapdir_042/snapshot_042.2.hdf5', '/store/clues/HESTIA/RE_SIMS/2048/GAL_FOR/37_11/output/snapdir_042/snapshot_042.3.hdf5', '/store/clues/HESTIA/RE_SIMS/2048/GAL_FOR/37_11/output/snapdir_042/snapshot_042.4.hdf5', '/store/clues/HESTIA/RE_SIMS/2048/GAL_FOR/37_11/output/snapdir_042/snapshot_042.5.hdf5', '/store/clues/HESTIA/RE_SIMS/2048/GAL_FOR/37_11/output/snapdir_042/snapshot_042.6.hdf5', '/store/clues/HESTIA/RE_SIMS/2048/GAL_FOR/37_11/output/snapdir_042/snapshot_042.7.hdf5', '/store/clues/HESTIA/RE_SIMS/2048/GAL_FOR/37_11/output/snapdir_043/snapshot_043.0.hdf5', '/store/clues/HESTIA/RE_SIMS/2048/GAL_FOR/37_11/output/snapdir_043/snapshot_043.1.hdf5', '/store/clues/HESTIA/RE_SIMS/2048/GAL_FOR/37_11/output/snapdir_043/snapshot_043.2.hdf5', '/store/clues/HESTIA/RE_SIMS/2048/GAL_FOR/37_11/output/snapdir_043/snapshot_043.3.hdf5', '/store/clues/HESTIA/RE_SIMS/2048/GAL_FOR/37_11/output/snapdir_043/snapshot_043.4.hdf5', '/store/clues/HESTIA/RE_SIMS/2048/GAL_FOR/37_11/output/snapdir_043/snapshot_043.5.hdf5', '/store/clues/HESTIA/RE_SIMS/2048/GAL_FOR/37_11/output/snapdir_043/snapshot_043.6.hdf5', '/store/clues/HESTIA/RE_SIMS/2048/GAL_FOR/37_11/output/snapdir_043/snapshot_043.7.hdf5', '/store/clues/HESTIA/RE_SIMS/2048/GAL_FOR/37_11/output/snapdir_044/snapshot_044.0.hdf5', '/store/clues/HESTIA/RE_SIMS/2048/GAL_FOR/37_11/output/snapdir_044/snapshot_044.1.hdf5', '/store/clues/HESTIA/RE_SIMS/2048/GAL_FOR/37_11/output/snapdir_044/snapshot_044.2.hdf5', '/store/clues/HESTIA/RE_SIMS/2048/GAL_FOR/37_11/output/snapdir_044/snapshot_044.3.hdf5', '/store/clues/HESTIA/RE_SIMS/2048/GAL_FOR/37_11/output/snapdir_044/snapshot_044.4.hdf5', '/store/clues/HESTIA/RE_SIMS/2048/GAL_FOR/37_11/output/snapdir_044/snapshot_044.5.hdf5', '/store/clues/HESTIA/RE_SIMS/2048/GAL_FOR/37_11/output/snapdir_044/snapshot_044.6.hdf5', '/store/clues/HESTIA/RE_SIMS/2048/GAL_FOR/37_11/output/snapdir_044/snapshot_044.7.hdf5', '/store/clues/HESTIA/RE_SIMS/2048/GAL_FOR/37_11/output/snapdir_045/snapshot_045.0.hdf5', '/store/clues/HESTIA/RE_SIMS/2048/GAL_FOR/37_11/output/snapdir_045/snapshot_045.1.hdf5', '/store/clues/HESTIA/RE_SIMS/2048/GAL_FOR/37_11/output/snapdir_045/snapshot_045.2.hdf5', '/store/clues/HESTIA/RE_SIMS/2048/GAL_FOR/37_11/output/snapdir_045/snapshot_045.3.hdf5', '/store/clues/HESTIA/RE_SIMS/2048/GAL_FOR/37_11/output/snapdir_045/snapshot_045.4.hdf5', '/store/clues/HESTIA/RE_SIMS/2048/GAL_FOR/37_11/output/snapdir_045/snapshot_045.5.hdf5', '/store/clues/HESTIA/RE_SIMS/2048/GAL_FOR/37_11/output/snapdir_045/snapshot_045.6.hdf5', '/store/clues/HESTIA/RE_SIMS/2048/GAL_FOR/37_11/output/snapdir_045/snapshot_045.7.hdf5', '/store/clues/HESTIA/RE_SIMS/2048/GAL_FOR/37_11/output/snapdir_046/snapshot_046.0.hdf5', '/store/clues/HESTIA/RE_SIMS/2048/GAL_FOR/37_11/output/snapdir_046/snapshot_046.1.hdf5', '/store/clues/HESTIA/RE_SIMS/2048/GAL_FOR/37_11/output/snapdir_046/snapshot_046.2.hdf5', '/store/clues/HESTIA/RE_SIMS/2048/GAL_FOR/37_11/output/snapdir_046/snapshot_046.3.hdf5', '/store/clues/HESTIA/RE_SIMS/2048/GAL_FOR/37_11/output/snapdir_046/snapshot_046.4.hdf5', '/store/clues/HESTIA/RE_SIMS/2048/GAL_FOR/37_11/output/snapdir_046/snapshot_046.5.hdf5', '/store/clues/HESTIA/RE_SIMS/2048/GAL_FOR/37_11/output/snapdir_046/snapshot_046.6.hdf5', '/store/clues/HESTIA/RE_SIMS/2048/GAL_FOR/37_11/output/snapdir_046/snapshot_046.7.hdf5', '/store/clues/HESTIA/RE_SIMS/2048/GAL_FOR/37_11/output/snapdir_047/snapshot_047.0.hdf5', '/store/clues/HESTIA/RE_SIMS/2048/GAL_FOR/37_11/output/snapdir_047/snapshot_047.1.hdf5', '/store/clues/HESTIA/RE_SIMS/2048/GAL_FOR/37_11/output/snapdir_047/snapshot_047.2.hdf5', '/store/clues/HESTIA/RE_SIMS/2048/GAL_FOR/37_11/output/snapdir_047/snapshot_047.3.hdf5', '/store/clues/HESTIA/RE_SIMS/2048/GAL_FOR/37_11/output/snapdir_047/snapshot_047.4.hdf5', '/store/clues/HESTIA/RE_SIMS/2048/GAL_FOR/37_11/output/snapdir_047/snapshot_047.5.hdf5', '/store/clues/HESTIA/RE_SIMS/2048/GAL_FOR/37_11/output/snapdir_047/snapshot_047.6.hdf5', '/store/clues/HESTIA/RE_SIMS/2048/GAL_FOR/37_11/output/snapdir_047/snapshot_047.7.hdf5', '/store/clues/HESTIA/RE_SIMS/2048/GAL_FOR/37_11/output/snapdir_048/snapshot_048.0.hdf5', '/store/clues/HESTIA/RE_SIMS/2048/GAL_FOR/37_11/output/snapdir_048/snapshot_048.1.hdf5', '/store/clues/HESTIA/RE_SIMS/2048/GAL_FOR/37_11/output/snapdir_048/snapshot_048.2.hdf5', '/store/clues/HESTIA/RE_SIMS/2048/GAL_FOR/37_11/output/snapdir_048/snapshot_048.3.hdf5', '/store/clues/HESTIA/RE_SIMS/2048/GAL_FOR/37_11/output/snapdir_048/snapshot_048.4.hdf5', '/store/clues/HESTIA/RE_SIMS/2048/GAL_FOR/37_11/output/snapdir_048/snapshot_048.5.hdf5', '/store/clues/HESTIA/RE_SIMS/2048/GAL_FOR/37_11/output/snapdir_048/snapshot_048.6.hdf5', '/store/clues/HESTIA/RE_SIMS/2048/GAL_FOR/37_11/output/snapdir_048/snapshot_048.7.hdf5', '/store/clues/HESTIA/RE_SIMS/2048/GAL_FOR/37_11/output/snapdir_049/snapshot_049.0.hdf5', '/store/clues/HESTIA/RE_SIMS/2048/GAL_FOR/37_11/output/snapdir_049/snapshot_049.1.hdf5', '/store/clues/HESTIA/RE_SIMS/2048/GAL_FOR/37_11/output/snapdir_049/snapshot_049.2.hdf5', '/store/clues/HESTIA/RE_SIMS/2048/GAL_FOR/37_11/output/snapdir_049/snapshot_049.3.hdf5', '/store/clues/HESTIA/RE_SIMS/2048/GAL_FOR/37_11/output/snapdir_049/snapshot_049.4.hdf5', '/store/clues/HESTIA/RE_SIMS/2048/GAL_FOR/37_11/output/snapdir_049/snapshot_049.5.hdf5', '/store/clues/HESTIA/RE_SIMS/2048/GAL_FOR/37_11/output/snapdir_049/snapshot_049.6.hdf5', '/store/clues/HESTIA/RE_SIMS/2048/GAL_FOR/37_11/output/snapdir_049/snapshot_049.7.hdf5', '/store/clues/HESTIA/RE_SIMS/2048/GAL_FOR/37_11/output/snapdir_050/snapshot_050.0.hdf5', '/store/clues/HESTIA/RE_SIMS/2048/GAL_FOR/37_11/output/snapdir_050/snapshot_050.1.hdf5', '/store/clues/HESTIA/RE_SIMS/2048/GAL_FOR/37_11/output/snapdir_050/snapshot_050.2.hdf5', '/store/clues/HESTIA/RE_SIMS/2048/GAL_FOR/37_11/output/snapdir_050/snapshot_050.3.hdf5', '/store/clues/HESTIA/RE_SIMS/2048/GAL_FOR/37_11/output/snapdir_050/snapshot_050.4.hdf5', '/store/clues/HESTIA/RE_SIMS/2048/GAL_FOR/37_11/output/snapdir_050/snapshot_050.5.hdf5', '/store/clues/HESTIA/RE_SIMS/2048/GAL_FOR/37_11/output/snapdir_050/snapshot_050.6.hdf5', '/store/clues/HESTIA/RE_SIMS/2048/GAL_FOR/37_11/output/snapdir_050/snapshot_050.7.hdf5', '/store/clues/HESTIA/RE_SIMS/2048/GAL_FOR/37_11/output/snapdir_051/snapshot_051.0.hdf5', '/store/clues/HESTIA/RE_SIMS/2048/GAL_FOR/37_11/output/snapdir_051/snapshot_051.1.hdf5', '/store/clues/HESTIA/RE_SIMS/2048/GAL_FOR/37_11/output/snapdir_051/snapshot_051.2.hdf5', '/store/clues/HESTIA/RE_SIMS/2048/GAL_FOR/37_11/output/snapdir_051/snapshot_051.3.hdf5', '/store/clues/HESTIA/RE_SIMS/2048/GAL_FOR/37_11/output/snapdir_051/snapshot_051.4.hdf5', '/store/clues/HESTIA/RE_SIMS/2048/GAL_FOR/37_11/output/snapdir_051/snapshot_051.5.hdf5', '/store/clues/HESTIA/RE_SIMS/2048/GAL_FOR/37_11/output/snapdir_051/snapshot_051.6.hdf5', '/store/clues/HESTIA/RE_SIMS/2048/GAL_FOR/37_11/output/snapdir_051/snapshot_051.7.hdf5', '/store/clues/HESTIA/RE_SIMS/2048/GAL_FOR/37_11/output/snapdir_052/snapshot_052.0.hdf5', '/store/clues/HESTIA/RE_SIMS/2048/GAL_FOR/37_11/output/snapdir_052/snapshot_052.1.hdf5', '/store/clues/HESTIA/RE_SIMS/2048/GAL_FOR/37_11/output/snapdir_052/snapshot_052.2.hdf5', '/store/clues/HESTIA/RE_SIMS/2048/GAL_FOR/37_11/output/snapdir_052/snapshot_052.3.hdf5', '/store/clues/HESTIA/RE_SIMS/2048/GAL_FOR/37_11/output/snapdir_052/snapshot_052.4.hdf5', '/store/clues/HESTIA/RE_SIMS/2048/GAL_FOR/37_11/output/snapdir_052/snapshot_052.5.hdf5', '/store/clues/HESTIA/RE_SIMS/2048/GAL_FOR/37_11/output/snapdir_052/snapshot_052.6.hdf5', '/store/clues/HESTIA/RE_SIMS/2048/GAL_FOR/37_11/output/snapdir_052/snapshot_052.7.hdf5', '/store/clues/HESTIA/RE_SIMS/2048/GAL_FOR/37_11/output/snapdir_053/snapshot_053.0.hdf5', '/store/clues/HESTIA/RE_SIMS/2048/GAL_FOR/37_11/output/snapdir_053/snapshot_053.1.hdf5', '/store/clues/HESTIA/RE_SIMS/2048/GAL_FOR/37_11/output/snapdir_053/snapshot_053.2.hdf5', '/store/clues/HESTIA/RE_SIMS/2048/GAL_FOR/37_11/output/snapdir_053/snapshot_053.3.hdf5', '/store/clues/HESTIA/RE_SIMS/2048/GAL_FOR/37_11/output/snapdir_053/snapshot_053.4.hdf5', '/store/clues/HESTIA/RE_SIMS/2048/GAL_FOR/37_11/output/snapdir_053/snapshot_053.5.hdf5', '/store/clues/HESTIA/RE_SIMS/2048/GAL_FOR/37_11/output/snapdir_053/snapshot_053.6.hdf5', '/store/clues/HESTIA/RE_SIMS/2048/GAL_FOR/37_11/output/snapdir_053/snapshot_053.7.hdf5', '/store/clues/HESTIA/RE_SIMS/2048/GAL_FOR/37_11/output/snapdir_054/snapshot_054.0.hdf5', '/store/clues/HESTIA/RE_SIMS/2048/GAL_FOR/37_11/output/snapdir_054/snapshot_054.1.hdf5', '/store/clues/HESTIA/RE_SIMS/2048/GAL_FOR/37_11/output/snapdir_054/snapshot_054.2.hdf5', '/store/clues/HESTIA/RE_SIMS/2048/GAL_FOR/37_11/output/snapdir_054/snapshot_054.3.hdf5', '/store/clues/HESTIA/RE_SIMS/2048/GAL_FOR/37_11/output/snapdir_054/snapshot_054.4.hdf5', '/store/clues/HESTIA/RE_SIMS/2048/GAL_FOR/37_11/output/snapdir_054/snapshot_054.5.hdf5', '/store/clues/HESTIA/RE_SIMS/2048/GAL_FOR/37_11/output/snapdir_054/snapshot_054.6.hdf5', '/store/clues/HESTIA/RE_SIMS/2048/GAL_FOR/37_11/output/snapdir_054/snapshot_054.7.hdf5', '/store/clues/HESTIA/RE_SIMS/2048/GAL_FOR/37_11/output/snapdir_055/snapshot_055.0.hdf5', '/store/clues/HESTIA/RE_SIMS/2048/GAL_FOR/37_11/output/snapdir_055/snapshot_055.1.hdf5', '/store/clues/HESTIA/RE_SIMS/2048/GAL_FOR/37_11/output/snapdir_055/snapshot_055.2.hdf5', '/store/clues/HESTIA/RE_SIMS/2048/GAL_FOR/37_11/output/snapdir_055/snapshot_055.3.hdf5', '/store/clues/HESTIA/RE_SIMS/2048/GAL_FOR/37_11/output/snapdir_055/snapshot_055.4.hdf5', '/store/clues/HESTIA/RE_SIMS/2048/GAL_FOR/37_11/output/snapdir_055/snapshot_055.5.hdf5', '/store/clues/HESTIA/RE_SIMS/2048/GAL_FOR/37_11/output/snapdir_055/snapshot_055.6.hdf5', '/store/clues/HESTIA/RE_SIMS/2048/GAL_FOR/37_11/output/snapdir_055/snapshot_055.7.hdf5', '/store/clues/HESTIA/RE_SIMS/2048/GAL_FOR/37_11/output/snapdir_056/snapshot_056.0.hdf5', '/store/clues/HESTIA/RE_SIMS/2048/GAL_FOR/37_11/output/snapdir_056/snapshot_056.1.hdf5', '/store/clues/HESTIA/RE_SIMS/2048/GAL_FOR/37_11/output/snapdir_056/snapshot_056.2.hdf5', '/store/clues/HESTIA/RE_SIMS/2048/GAL_FOR/37_11/output/snapdir_056/snapshot_056.3.hdf5', '/store/clues/HESTIA/RE_SIMS/2048/GAL_FOR/37_11/output/snapdir_056/snapshot_056.4.hdf5', '/store/clues/HESTIA/RE_SIMS/2048/GAL_FOR/37_11/output/snapdir_056/snapshot_056.5.hdf5', '/store/clues/HESTIA/RE_SIMS/2048/GAL_FOR/37_11/output/snapdir_056/snapshot_056.6.hdf5', '/store/clues/HESTIA/RE_SIMS/2048/GAL_FOR/37_11/output/snapdir_056/snapshot_056.7.hdf5', '/store/clues/HESTIA/RE_SIMS/2048/GAL_FOR/37_11/output/snapdir_057/snapshot_057.0.hdf5', '/store/clues/HESTIA/RE_SIMS/2048/GAL_FOR/37_11/output/snapdir_057/snapshot_057.1.hdf5', '/store/clues/HESTIA/RE_SIMS/2048/GAL_FOR/37_11/output/snapdir_057/snapshot_057.2.hdf5', '/store/clues/HESTIA/RE_SIMS/2048/GAL_FOR/37_11/output/snapdir_057/snapshot_057.3.hdf5', '/store/clues/HESTIA/RE_SIMS/2048/GAL_FOR/37_11/output/snapdir_057/snapshot_057.4.hdf5', '/store/clues/HESTIA/RE_SIMS/2048/GAL_FOR/37_11/output/snapdir_057/snapshot_057.5.hdf5', '/store/clues/HESTIA/RE_SIMS/2048/GAL_FOR/37_11/output/snapdir_057/snapshot_057.6.hdf5', '/store/clues/HESTIA/RE_SIMS/2048/GAL_FOR/37_11/output/snapdir_057/snapshot_057.7.hdf5', '/store/clues/HESTIA/RE_SIMS/2048/GAL_FOR/37_11/output/snapdir_058/snapshot_058.0.hdf5', '/store/clues/HESTIA/RE_SIMS/2048/GAL_FOR/37_11/output/snapdir_058/snapshot_058.1.hdf5', '/store/clues/HESTIA/RE_SIMS/2048/GAL_FOR/37_11/output/snapdir_058/snapshot_058.2.hdf5', '/store/clues/HESTIA/RE_SIMS/2048/GAL_FOR/37_11/output/snapdir_058/snapshot_058.3.hdf5', '/store/clues/HESTIA/RE_SIMS/2048/GAL_FOR/37_11/output/snapdir_058/snapshot_058.4.hdf5', '/store/clues/HESTIA/RE_SIMS/2048/GAL_FOR/37_11/output/snapdir_058/snapshot_058.5.hdf5', '/store/clues/HESTIA/RE_SIMS/2048/GAL_FOR/37_11/output/snapdir_058/snapshot_058.6.hdf5', '/store/clues/HESTIA/RE_SIMS/2048/GAL_FOR/37_11/output/snapdir_058/snapshot_058.7.hdf5', '/store/clues/HESTIA/RE_SIMS/2048/GAL_FOR/37_11/output/snapdir_059/snapshot_059.0.hdf5', '/store/clues/HESTIA/RE_SIMS/2048/GAL_FOR/37_11/output/snapdir_059/snapshot_059.1.hdf5', '/store/clues/HESTIA/RE_SIMS/2048/GAL_FOR/37_11/output/snapdir_059/snapshot_059.2.hdf5', '/store/clues/HESTIA/RE_SIMS/2048/GAL_FOR/37_11/output/snapdir_059/snapshot_059.3.hdf5', '/store/clues/HESTIA/RE_SIMS/2048/GAL_FOR/37_11/output/snapdir_059/snapshot_059.4.hdf5', '/store/clues/HESTIA/RE_SIMS/2048/GAL_FOR/37_11/output/snapdir_059/snapshot_059.5.hdf5', '/store/clues/HESTIA/RE_SIMS/2048/GAL_FOR/37_11/output/snapdir_059/snapshot_059.6.hdf5', '/store/clues/HESTIA/RE_SIMS/2048/GAL_FOR/37_11/output/snapdir_059/snapshot_059.7.hdf5', '/store/clues/HESTIA/RE_SIMS/2048/GAL_FOR/37_11/output/snapdir_060/snapshot_060.0.hdf5', '/store/clues/HESTIA/RE_SIMS/2048/GAL_FOR/37_11/output/snapdir_060/snapshot_060.1.hdf5', '/store/clues/HESTIA/RE_SIMS/2048/GAL_FOR/37_11/output/snapdir_060/snapshot_060.2.hdf5', '/store/clues/HESTIA/RE_SIMS/2048/GAL_FOR/37_11/output/snapdir_060/snapshot_060.3.hdf5', '/store/clues/HESTIA/RE_SIMS/2048/GAL_FOR/37_11/output/snapdir_060/snapshot_060.4.hdf5', '/store/clues/HESTIA/RE_SIMS/2048/GAL_FOR/37_11/output/snapdir_060/snapshot_060.5.hdf5', '/store/clues/HESTIA/RE_SIMS/2048/GAL_FOR/37_11/output/snapdir_060/snapshot_060.6.hdf5', '/store/clues/HESTIA/RE_SIMS/2048/GAL_FOR/37_11/output/snapdir_060/snapshot_060.7.hdf5', '/store/clues/HESTIA/RE_SIMS/2048/GAL_FOR/37_11/output/snapdir_061/snapshot_061.0.hdf5', '/store/clues/HESTIA/RE_SIMS/2048/GAL_FOR/37_11/output/snapdir_061/snapshot_061.1.hdf5', '/store/clues/HESTIA/RE_SIMS/2048/GAL_FOR/37_11/output/snapdir_061/snapshot_061.2.hdf5', '/store/clues/HESTIA/RE_SIMS/2048/GAL_FOR/37_11/output/snapdir_061/snapshot_061.3.hdf5', '/store/clues/HESTIA/RE_SIMS/2048/GAL_FOR/37_11/output/snapdir_061/snapshot_061.4.hdf5', '/store/clues/HESTIA/RE_SIMS/2048/GAL_FOR/37_11/output/snapdir_061/snapshot_061.5.hdf5', '/store/clues/HESTIA/RE_SIMS/2048/GAL_FOR/37_11/output/snapdir_061/snapshot_061.6.hdf5', '/store/clues/HESTIA/RE_SIMS/2048/GAL_FOR/37_11/output/snapdir_061/snapshot_061.7.hdf5', '/store/clues/HESTIA/RE_SIMS/2048/GAL_FOR/37_11/output/snapdir_062/snapshot_062.0.hdf5', '/store/clues/HESTIA/RE_SIMS/2048/GAL_FOR/37_11/output/snapdir_062/snapshot_062.1.hdf5', '/store/clues/HESTIA/RE_SIMS/2048/GAL_FOR/37_11/output/snapdir_062/snapshot_062.2.hdf5', '/store/clues/HESTIA/RE_SIMS/2048/GAL_FOR/37_11/output/snapdir_062/snapshot_062.3.hdf5', '/store/clues/HESTIA/RE_SIMS/2048/GAL_FOR/37_11/output/snapdir_062/snapshot_062.4.hdf5', '/store/clues/HESTIA/RE_SIMS/2048/GAL_FOR/37_11/output/snapdir_062/snapshot_062.5.hdf5', '/store/clues/HESTIA/RE_SIMS/2048/GAL_FOR/37_11/output/snapdir_062/snapshot_062.6.hdf5', '/store/clues/HESTIA/RE_SIMS/2048/GAL_FOR/37_11/output/snapdir_062/snapshot_062.7.hdf5', '/store/clues/HESTIA/RE_SIMS/2048/GAL_FOR/37_11/output/snapdir_063/snapshot_063.0.hdf5', '/store/clues/HESTIA/RE_SIMS/2048/GAL_FOR/37_11/output/snapdir_063/snapshot_063.1.hdf5', '/store/clues/HESTIA/RE_SIMS/2048/GAL_FOR/37_11/output/snapdir_063/snapshot_063.2.hdf5', '/store/clues/HESTIA/RE_SIMS/2048/GAL_FOR/37_11/output/snapdir_063/snapshot_063.3.hdf5', '/store/clues/HESTIA/RE_SIMS/2048/GAL_FOR/37_11/output/snapdir_063/snapshot_063.4.hdf5', '/store/clues/HESTIA/RE_SIMS/2048/GAL_FOR/37_11/output/snapdir_063/snapshot_063.5.hdf5', '/store/clues/HESTIA/RE_SIMS/2048/GAL_FOR/37_11/output/snapdir_063/snapshot_063.6.hdf5', '/store/clues/HESTIA/RE_SIMS/2048/GAL_FOR/37_11/output/snapdir_063/snapshot_063.7.hdf5', '/store/clues/HESTIA/RE_SIMS/2048/GAL_FOR/37_11/output/snapdir_064/snapshot_064.0.hdf5', '/store/clues/HESTIA/RE_SIMS/2048/GAL_FOR/37_11/output/snapdir_064/snapshot_064.1.hdf5', '/store/clues/HESTIA/RE_SIMS/2048/GAL_FOR/37_11/output/snapdir_064/snapshot_064.2.hdf5', '/store/clues/HESTIA/RE_SIMS/2048/GAL_FOR/37_11/output/snapdir_064/snapshot_064.3.hdf5', '/store/clues/HESTIA/RE_SIMS/2048/GAL_FOR/37_11/output/snapdir_064/snapshot_064.4.hdf5', '/store/clues/HESTIA/RE_SIMS/2048/GAL_FOR/37_11/output/snapdir_064/snapshot_064.5.hdf5', '/store/clues/HESTIA/RE_SIMS/2048/GAL_FOR/37_11/output/snapdir_064/snapshot_064.6.hdf5', '/store/clues/HESTIA/RE_SIMS/2048/GAL_FOR/37_11/output/snapdir_064/snapshot_064.7.hdf5', '/store/clues/HESTIA/RE_SIMS/2048/GAL_FOR/37_11/output/snapdir_065/snapshot_065.0.hdf5', '/store/clues/HESTIA/RE_SIMS/2048/GAL_FOR/37_11/output/snapdir_065/snapshot_065.1.hdf5', '/store/clues/HESTIA/RE_SIMS/2048/GAL_FOR/37_11/output/snapdir_065/snapshot_065.2.hdf5', '/store/clues/HESTIA/RE_SIMS/2048/GAL_FOR/37_11/output/snapdir_065/snapshot_065.3.hdf5', '/store/clues/HESTIA/RE_SIMS/2048/GAL_FOR/37_11/output/snapdir_065/snapshot_065.4.hdf5', '/store/clues/HESTIA/RE_SIMS/2048/GAL_FOR/37_11/output/snapdir_065/snapshot_065.5.hdf5', '/store/clues/HESTIA/RE_SIMS/2048/GAL_FOR/37_11/output/snapdir_065/snapshot_065.6.hdf5', '/store/clues/HESTIA/RE_SIMS/2048/GAL_FOR/37_11/output/snapdir_065/snapshot_065.7.hdf5', '/store/clues/HESTIA/RE_SIMS/2048/GAL_FOR/37_11/output/snapdir_066/snapshot_066.0.hdf5', '/store/clues/HESTIA/RE_SIMS/2048/GAL_FOR/37_11/output/snapdir_066/snapshot_066.1.hdf5', '/store/clues/HESTIA/RE_SIMS/2048/GAL_FOR/37_11/output/snapdir_066/snapshot_066.2.hdf5', '/store/clues/HESTIA/RE_SIMS/2048/GAL_FOR/37_11/output/snapdir_066/snapshot_066.3.hdf5', '/store/clues/HESTIA/RE_SIMS/2048/GAL_FOR/37_11/output/snapdir_066/snapshot_066.4.hdf5', '/store/clues/HESTIA/RE_SIMS/2048/GAL_FOR/37_11/output/snapdir_066/snapshot_066.5.hdf5', '/store/clues/HESTIA/RE_SIMS/2048/GAL_FOR/37_11/output/snapdir_066/snapshot_066.6.hdf5', '/store/clues/HESTIA/RE_SIMS/2048/GAL_FOR/37_11/output/snapdir_066/snapshot_066.7.hdf5', '/store/clues/HESTIA/RE_SIMS/2048/GAL_FOR/37_11/output/snapdir_067/snapshot_067.0.hdf5', '/store/clues/HESTIA/RE_SIMS/2048/GAL_FOR/37_11/output/snapdir_067/snapshot_067.1.hdf5', '/store/clues/HESTIA/RE_SIMS/2048/GAL_FOR/37_11/output/snapdir_067/snapshot_067.2.hdf5', '/store/clues/HESTIA/RE_SIMS/2048/GAL_FOR/37_11/output/snapdir_067/snapshot_067.3.hdf5', '/store/clues/HESTIA/RE_SIMS/2048/GAL_FOR/37_11/output/snapdir_067/snapshot_067.4.hdf5', '/store/clues/HESTIA/RE_SIMS/2048/GAL_FOR/37_11/output/snapdir_067/snapshot_067.5.hdf5', '/store/clues/HESTIA/RE_SIMS/2048/GAL_FOR/37_11/output/snapdir_067/snapshot_067.6.hdf5', '/store/clues/HESTIA/RE_SIMS/2048/GAL_FOR/37_11/output/snapdir_067/snapshot_067.7.hdf5', '/store/clues/HESTIA/RE_SIMS/2048/GAL_FOR/37_11/output/snapdir_068/snapshot_068.0.hdf5', '/store/clues/HESTIA/RE_SIMS/2048/GAL_FOR/37_11/output/snapdir_068/snapshot_068.1.hdf5', '/store/clues/HESTIA/RE_SIMS/2048/GAL_FOR/37_11/output/snapdir_068/snapshot_068.2.hdf5', '/store/clues/HESTIA/RE_SIMS/2048/GAL_FOR/37_11/output/snapdir_068/snapshot_068.3.hdf5', '/store/clues/HESTIA/RE_SIMS/2048/GAL_FOR/37_11/output/snapdir_068/snapshot_068.4.hdf5', '/store/clues/HESTIA/RE_SIMS/2048/GAL_FOR/37_11/output/snapdir_068/snapshot_068.5.hdf5', '/store/clues/HESTIA/RE_SIMS/2048/GAL_FOR/37_11/output/snapdir_068/snapshot_068.6.hdf5', '/store/clues/HESTIA/RE_SIMS/2048/GAL_FOR/37_11/output/snapdir_068/snapshot_068.7.hdf5', '/store/clues/HESTIA/RE_SIMS/2048/GAL_FOR/37_11/output/snapdir_069/snapshot_069.0.hdf5', '/store/clues/HESTIA/RE_SIMS/2048/GAL_FOR/37_11/output/snapdir_069/snapshot_069.1.hdf5', '/store/clues/HESTIA/RE_SIMS/2048/GAL_FOR/37_11/output/snapdir_069/snapshot_069.2.hdf5', '/store/clues/HESTIA/RE_SIMS/2048/GAL_FOR/37_11/output/snapdir_069/snapshot_069.3.hdf5', '/store/clues/HESTIA/RE_SIMS/2048/GAL_FOR/37_11/output/snapdir_069/snapshot_069.4.hdf5', '/store/clues/HESTIA/RE_SIMS/2048/GAL_FOR/37_11/output/snapdir_069/snapshot_069.5.hdf5', '/store/clues/HESTIA/RE_SIMS/2048/GAL_FOR/37_11/output/snapdir_069/snapshot_069.6.hdf5', '/store/clues/HESTIA/RE_SIMS/2048/GAL_FOR/37_11/output/snapdir_069/snapshot_069.7.hdf5', '/store/clues/HESTIA/RE_SIMS/2048/GAL_FOR/37_11/output/snapdir_070/snapshot_070.0.hdf5', '/store/clues/HESTIA/RE_SIMS/2048/GAL_FOR/37_11/output/snapdir_070/snapshot_070.1.hdf5', '/store/clues/HESTIA/RE_SIMS/2048/GAL_FOR/37_11/output/snapdir_070/snapshot_070.2.hdf5', '/store/clues/HESTIA/RE_SIMS/2048/GAL_FOR/37_11/output/snapdir_070/snapshot_070.3.hdf5', '/store/clues/HESTIA/RE_SIMS/2048/GAL_FOR/37_11/output/snapdir_070/snapshot_070.4.hdf5', '/store/clues/HESTIA/RE_SIMS/2048/GAL_FOR/37_11/output/snapdir_070/snapshot_070.5.hdf5', '/store/clues/HESTIA/RE_SIMS/2048/GAL_FOR/37_11/output/snapdir_070/snapshot_070.6.hdf5', '/store/clues/HESTIA/RE_SIMS/2048/GAL_FOR/37_11/output/snapdir_070/snapshot_070.7.hdf5', '/store/clues/HESTIA/RE_SIMS/2048/GAL_FOR/37_11/output/snapdir_071/snapshot_071.0.hdf5', '/store/clues/HESTIA/RE_SIMS/2048/GAL_FOR/37_11/output/snapdir_071/snapshot_071.1.hdf5', '/store/clues/HESTIA/RE_SIMS/2048/GAL_FOR/37_11/output/snapdir_071/snapshot_071.2.hdf5', '/store/clues/HESTIA/RE_SIMS/2048/GAL_FOR/37_11/output/snapdir_071/snapshot_071.3.hdf5', '/store/clues/HESTIA/RE_SIMS/2048/GAL_FOR/37_11/output/snapdir_071/snapshot_071.4.hdf5', '/store/clues/HESTIA/RE_SIMS/2048/GAL_FOR/37_11/output/snapdir_071/snapshot_071.5.hdf5', '/store/clues/HESTIA/RE_SIMS/2048/GAL_FOR/37_11/output/snapdir_071/snapshot_071.6.hdf5', '/store/clues/HESTIA/RE_SIMS/2048/GAL_FOR/37_11/output/snapdir_071/snapshot_071.7.hdf5', '/store/clues/HESTIA/RE_SIMS/2048/GAL_FOR/37_11/output/snapdir_072/snapshot_072.0.hdf5', '/store/clues/HESTIA/RE_SIMS/2048/GAL_FOR/37_11/output/snapdir_072/snapshot_072.1.hdf5', '/store/clues/HESTIA/RE_SIMS/2048/GAL_FOR/37_11/output/snapdir_072/snapshot_072.2.hdf5', '/store/clues/HESTIA/RE_SIMS/2048/GAL_FOR/37_11/output/snapdir_072/snapshot_072.3.hdf5', '/store/clues/HESTIA/RE_SIMS/2048/GAL_FOR/37_11/output/snapdir_072/snapshot_072.4.hdf5', '/store/clues/HESTIA/RE_SIMS/2048/GAL_FOR/37_11/output/snapdir_072/snapshot_072.5.hdf5', '/store/clues/HESTIA/RE_SIMS/2048/GAL_FOR/37_11/output/snapdir_072/snapshot_072.6.hdf5', '/store/clues/HESTIA/RE_SIMS/2048/GAL_FOR/37_11/output/snapdir_072/snapshot_072.7.hdf5', '/store/clues/HESTIA/RE_SIMS/2048/GAL_FOR/37_11/output/snapdir_073/snapshot_073.0.hdf5', '/store/clues/HESTIA/RE_SIMS/2048/GAL_FOR/37_11/output/snapdir_073/snapshot_073.1.hdf5', '/store/clues/HESTIA/RE_SIMS/2048/GAL_FOR/37_11/output/snapdir_073/snapshot_073.2.hdf5', '/store/clues/HESTIA/RE_SIMS/2048/GAL_FOR/37_11/output/snapdir_073/snapshot_073.3.hdf5', '/store/clues/HESTIA/RE_SIMS/2048/GAL_FOR/37_11/output/snapdir_073/snapshot_073.4.hdf5', '/store/clues/HESTIA/RE_SIMS/2048/GAL_FOR/37_11/output/snapdir_073/snapshot_073.5.hdf5', '/store/clues/HESTIA/RE_SIMS/2048/GAL_FOR/37_11/output/snapdir_073/snapshot_073.6.hdf5', '/store/clues/HESTIA/RE_SIMS/2048/GAL_FOR/37_11/output/snapdir_073/snapshot_073.7.hdf5', '/store/clues/HESTIA/RE_SIMS/2048/GAL_FOR/37_11/output/snapdir_074/snapshot_074.0.hdf5', '/store/clues/HESTIA/RE_SIMS/2048/GAL_FOR/37_11/output/snapdir_074/snapshot_074.1.hdf5', '/store/clues/HESTIA/RE_SIMS/2048/GAL_FOR/37_11/output/snapdir_074/snapshot_074.2.hdf5', '/store/clues/HESTIA/RE_SIMS/2048/GAL_FOR/37_11/output/snapdir_074/snapshot_074.3.hdf5', '/store/clues/HESTIA/RE_SIMS/2048/GAL_FOR/37_11/output/snapdir_074/snapshot_074.4.hdf5', '/store/clues/HESTIA/RE_SIMS/2048/GAL_FOR/37_11/output/snapdir_074/snapshot_074.5.hdf5', '/store/clues/HESTIA/RE_SIMS/2048/GAL_FOR/37_11/output/snapdir_074/snapshot_074.6.hdf5', '/store/clues/HESTIA/RE_SIMS/2048/GAL_FOR/37_11/output/snapdir_074/snapshot_074.7.hdf5', '/store/clues/HESTIA/RE_SIMS/2048/GAL_FOR/37_11/output/snapdir_075/snapshot_075.0.hdf5', '/store/clues/HESTIA/RE_SIMS/2048/GAL_FOR/37_11/output/snapdir_075/snapshot_075.1.hdf5', '/store/clues/HESTIA/RE_SIMS/2048/GAL_FOR/37_11/output/snapdir_075/snapshot_075.2.hdf5', '/store/clues/HESTIA/RE_SIMS/2048/GAL_FOR/37_11/output/snapdir_075/snapshot_075.3.hdf5', '/store/clues/HESTIA/RE_SIMS/2048/GAL_FOR/37_11/output/snapdir_075/snapshot_075.4.hdf5', '/store/clues/HESTIA/RE_SIMS/2048/GAL_FOR/37_11/output/snapdir_075/snapshot_075.5.hdf5', '/store/clues/HESTIA/RE_SIMS/2048/GAL_FOR/37_11/output/snapdir_075/snapshot_075.6.hdf5', '/store/clues/HESTIA/RE_SIMS/2048/GAL_FOR/37_11/output/snapdir_075/snapshot_075.7.hdf5', '/store/clues/HESTIA/RE_SIMS/2048/GAL_FOR/37_11/output/snapdir_076/snapshot_076.0.hdf5', '/store/clues/HESTIA/RE_SIMS/2048/GAL_FOR/37_11/output/snapdir_076/snapshot_076.1.hdf5', '/store/clues/HESTIA/RE_SIMS/2048/GAL_FOR/37_11/output/snapdir_076/snapshot_076.2.hdf5', '/store/clues/HESTIA/RE_SIMS/2048/GAL_FOR/37_11/output/snapdir_076/snapshot_076.3.hdf5', '/store/clues/HESTIA/RE_SIMS/2048/GAL_FOR/37_11/output/snapdir_076/snapshot_076.4.hdf5', '/store/clues/HESTIA/RE_SIMS/2048/GAL_FOR/37_11/output/snapdir_076/snapshot_076.5.hdf5', '/store/clues/HESTIA/RE_SIMS/2048/GAL_FOR/37_11/output/snapdir_076/snapshot_076.6.hdf5', '/store/clues/HESTIA/RE_SIMS/2048/GAL_FOR/37_11/output/snapdir_076/snapshot_076.7.hdf5', '/store/clues/HESTIA/RE_SIMS/2048/GAL_FOR/37_11/output/snapdir_077/snapshot_077.0.hdf5', '/store/clues/HESTIA/RE_SIMS/2048/GAL_FOR/37_11/output/snapdir_077/snapshot_077.1.hdf5', '/store/clues/HESTIA/RE_SIMS/2048/GAL_FOR/37_11/output/snapdir_077/snapshot_077.2.hdf5', '/store/clues/HESTIA/RE_SIMS/2048/GAL_FOR/37_11/output/snapdir_077/snapshot_077.3.hdf5', '/store/clues/HESTIA/RE_SIMS/2048/GAL_FOR/37_11/output/snapdir_077/snapshot_077.4.hdf5', '/store/clues/HESTIA/RE_SIMS/2048/GAL_FOR/37_11/output/snapdir_077/snapshot_077.5.hdf5', '/store/clues/HESTIA/RE_SIMS/2048/GAL_FOR/37_11/output/snapdir_077/snapshot_077.6.hdf5', '/store/clues/HESTIA/RE_SIMS/2048/GAL_FOR/37_11/output/snapdir_077/snapshot_077.7.hdf5', '/store/clues/HESTIA/RE_SIMS/2048/GAL_FOR/37_11/output/snapdir_078/snapshot_078.0.hdf5', '/store/clues/HESTIA/RE_SIMS/2048/GAL_FOR/37_11/output/snapdir_078/snapshot_078.1.hdf5', '/store/clues/HESTIA/RE_SIMS/2048/GAL_FOR/37_11/output/snapdir_078/snapshot_078.2.hdf5', '/store/clues/HESTIA/RE_SIMS/2048/GAL_FOR/37_11/output/snapdir_078/snapshot_078.3.hdf5', '/store/clues/HESTIA/RE_SIMS/2048/GAL_FOR/37_11/output/snapdir_078/snapshot_078.4.hdf5', '/store/clues/HESTIA/RE_SIMS/2048/GAL_FOR/37_11/output/snapdir_078/snapshot_078.5.hdf5', '/store/clues/HESTIA/RE_SIMS/2048/GAL_FOR/37_11/output/snapdir_078/snapshot_078.6.hdf5', '/store/clues/HESTIA/RE_SIMS/2048/GAL_FOR/37_11/output/snapdir_078/snapshot_078.7.hdf5', '/store/clues/HESTIA/RE_SIMS/2048/GAL_FOR/37_11/output/snapdir_079/snapshot_079.0.hdf5', '/store/clues/HESTIA/RE_SIMS/2048/GAL_FOR/37_11/output/snapdir_079/snapshot_079.1.hdf5', '/store/clues/HESTIA/RE_SIMS/2048/GAL_FOR/37_11/output/snapdir_079/snapshot_079.2.hdf5', '/store/clues/HESTIA/RE_SIMS/2048/GAL_FOR/37_11/output/snapdir_079/snapshot_079.3.hdf5', '/store/clues/HESTIA/RE_SIMS/2048/GAL_FOR/37_11/output/snapdir_079/snapshot_079.4.hdf5', '/store/clues/HESTIA/RE_SIMS/2048/GAL_FOR/37_11/output/snapdir_079/snapshot_079.5.hdf5', '/store/clues/HESTIA/RE_SIMS/2048/GAL_FOR/37_11/output/snapdir_079/snapshot_079.6.hdf5', '/store/clues/HESTIA/RE_SIMS/2048/GAL_FOR/37_11/output/snapdir_079/snapshot_079.7.hdf5', '/store/clues/HESTIA/RE_SIMS/2048/GAL_FOR/37_11/output/snapdir_080/snapshot_080.0.hdf5', '/store/clues/HESTIA/RE_SIMS/2048/GAL_FOR/37_11/output/snapdir_080/snapshot_080.1.hdf5', '/store/clues/HESTIA/RE_SIMS/2048/GAL_FOR/37_11/output/snapdir_080/snapshot_080.2.hdf5', '/store/clues/HESTIA/RE_SIMS/2048/GAL_FOR/37_11/output/snapdir_080/snapshot_080.3.hdf5', '/store/clues/HESTIA/RE_SIMS/2048/GAL_FOR/37_11/output/snapdir_080/snapshot_080.4.hdf5', '/store/clues/HESTIA/RE_SIMS/2048/GAL_FOR/37_11/output/snapdir_080/snapshot_080.5.hdf5', '/store/clues/HESTIA/RE_SIMS/2048/GAL_FOR/37_11/output/snapdir_080/snapshot_080.6.hdf5', '/store/clues/HESTIA/RE_SIMS/2048/GAL_FOR/37_11/output/snapdir_080/snapshot_080.7.hdf5', '/store/clues/HESTIA/RE_SIMS/2048/GAL_FOR/37_11/output/snapdir_081/snapshot_081.0.hdf5', '/store/clues/HESTIA/RE_SIMS/2048/GAL_FOR/37_11/output/snapdir_081/snapshot_081.1.hdf5', '/store/clues/HESTIA/RE_SIMS/2048/GAL_FOR/37_11/output/snapdir_081/snapshot_081.2.hdf5', '/store/clues/HESTIA/RE_SIMS/2048/GAL_FOR/37_11/output/snapdir_081/snapshot_081.3.hdf5', '/store/clues/HESTIA/RE_SIMS/2048/GAL_FOR/37_11/output/snapdir_081/snapshot_081.4.hdf5', '/store/clues/HESTIA/RE_SIMS/2048/GAL_FOR/37_11/output/snapdir_081/snapshot_081.5.hdf5', '/store/clues/HESTIA/RE_SIMS/2048/GAL_FOR/37_11/output/snapdir_081/snapshot_081.6.hdf5', '/store/clues/HESTIA/RE_SIMS/2048/GAL_FOR/37_11/output/snapdir_081/snapshot_081.7.hdf5', '/store/clues/HESTIA/RE_SIMS/2048/GAL_FOR/37_11/output/snapdir_082/snapshot_082.0.hdf5', '/store/clues/HESTIA/RE_SIMS/2048/GAL_FOR/37_11/output/snapdir_082/snapshot_082.1.hdf5', '/store/clues/HESTIA/RE_SIMS/2048/GAL_FOR/37_11/output/snapdir_082/snapshot_082.2.hdf5', '/store/clues/HESTIA/RE_SIMS/2048/GAL_FOR/37_11/output/snapdir_082/snapshot_082.3.hdf5', '/store/clues/HESTIA/RE_SIMS/2048/GAL_FOR/37_11/output/snapdir_082/snapshot_082.4.hdf5', '/store/clues/HESTIA/RE_SIMS/2048/GAL_FOR/37_11/output/snapdir_082/snapshot_082.5.hdf5', '/store/clues/HESTIA/RE_SIMS/2048/GAL_FOR/37_11/output/snapdir_082/snapshot_082.6.hdf5', '/store/clues/HESTIA/RE_SIMS/2048/GAL_FOR/37_11/output/snapdir_082/snapshot_082.7.hdf5', '/store/clues/HESTIA/RE_SIMS/2048/GAL_FOR/37_11/output/snapdir_083/snapshot_083.0.hdf5', '/store/clues/HESTIA/RE_SIMS/2048/GAL_FOR/37_11/output/snapdir_083/snapshot_083.1.hdf5', '/store/clues/HESTIA/RE_SIMS/2048/GAL_FOR/37_11/output/snapdir_083/snapshot_083.2.hdf5', '/store/clues/HESTIA/RE_SIMS/2048/GAL_FOR/37_11/output/snapdir_083/snapshot_083.3.hdf5', '/store/clues/HESTIA/RE_SIMS/2048/GAL_FOR/37_11/output/snapdir_083/snapshot_083.4.hdf5', '/store/clues/HESTIA/RE_SIMS/2048/GAL_FOR/37_11/output/snapdir_083/snapshot_083.5.hdf5', '/store/clues/HESTIA/RE_SIMS/2048/GAL_FOR/37_11/output/snapdir_083/snapshot_083.6.hdf5', '/store/clues/HESTIA/RE_SIMS/2048/GAL_FOR/37_11/output/snapdir_083/snapshot_083.7.hdf5', '/store/clues/HESTIA/RE_SIMS/2048/GAL_FOR/37_11/output/snapdir_084/snapshot_084.0.hdf5', '/store/clues/HESTIA/RE_SIMS/2048/GAL_FOR/37_11/output/snapdir_084/snapshot_084.1.hdf5', '/store/clues/HESTIA/RE_SIMS/2048/GAL_FOR/37_11/output/snapdir_084/snapshot_084.2.hdf5', '/store/clues/HESTIA/RE_SIMS/2048/GAL_FOR/37_11/output/snapdir_084/snapshot_084.3.hdf5', '/store/clues/HESTIA/RE_SIMS/2048/GAL_FOR/37_11/output/snapdir_084/snapshot_084.4.hdf5', '/store/clues/HESTIA/RE_SIMS/2048/GAL_FOR/37_11/output/snapdir_084/snapshot_084.5.hdf5', '/store/clues/HESTIA/RE_SIMS/2048/GAL_FOR/37_11/output/snapdir_084/snapshot_084.6.hdf5', '/store/clues/HESTIA/RE_SIMS/2048/GAL_FOR/37_11/output/snapdir_084/snapshot_084.7.hdf5', '/store/clues/HESTIA/RE_SIMS/2048/GAL_FOR/37_11/output/snapdir_085/snapshot_085.0.hdf5', '/store/clues/HESTIA/RE_SIMS/2048/GAL_FOR/37_11/output/snapdir_085/snapshot_085.1.hdf5', '/store/clues/HESTIA/RE_SIMS/2048/GAL_FOR/37_11/output/snapdir_085/snapshot_085.2.hdf5', '/store/clues/HESTIA/RE_SIMS/2048/GAL_FOR/37_11/output/snapdir_085/snapshot_085.3.hdf5', '/store/clues/HESTIA/RE_SIMS/2048/GAL_FOR/37_11/output/snapdir_085/snapshot_085.4.hdf5', '/store/clues/HESTIA/RE_SIMS/2048/GAL_FOR/37_11/output/snapdir_085/snapshot_085.5.hdf5', '/store/clues/HESTIA/RE_SIMS/2048/GAL_FOR/37_11/output/snapdir_085/snapshot_085.6.hdf5', '/store/clues/HESTIA/RE_SIMS/2048/GAL_FOR/37_11/output/snapdir_085/snapshot_085.7.hdf5', '/store/clues/HESTIA/RE_SIMS/2048/GAL_FOR/37_11/output/snapdir_086/snapshot_086.0.hdf5', '/store/clues/HESTIA/RE_SIMS/2048/GAL_FOR/37_11/output/snapdir_086/snapshot_086.1.hdf5', '/store/clues/HESTIA/RE_SIMS/2048/GAL_FOR/37_11/output/snapdir_086/snapshot_086.2.hdf5', '/store/clues/HESTIA/RE_SIMS/2048/GAL_FOR/37_11/output/snapdir_086/snapshot_086.3.hdf5', '/store/clues/HESTIA/RE_SIMS/2048/GAL_FOR/37_11/output/snapdir_086/snapshot_086.4.hdf5', '/store/clues/HESTIA/RE_SIMS/2048/GAL_FOR/37_11/output/snapdir_086/snapshot_086.5.hdf5', '/store/clues/HESTIA/RE_SIMS/2048/GAL_FOR/37_11/output/snapdir_086/snapshot_086.6.hdf5', '/store/clues/HESTIA/RE_SIMS/2048/GAL_FOR/37_11/output/snapdir_086/snapshot_086.7.hdf5', '/store/clues/HESTIA/RE_SIMS/2048/GAL_FOR/37_11/output/snapdir_087/snapshot_087.0.hdf5', '/store/clues/HESTIA/RE_SIMS/2048/GAL_FOR/37_11/output/snapdir_087/snapshot_087.1.hdf5', '/store/clues/HESTIA/RE_SIMS/2048/GAL_FOR/37_11/output/snapdir_087/snapshot_087.2.hdf5', '/store/clues/HESTIA/RE_SIMS/2048/GAL_FOR/37_11/output/snapdir_087/snapshot_087.3.hdf5', '/store/clues/HESTIA/RE_SIMS/2048/GAL_FOR/37_11/output/snapdir_087/snapshot_087.4.hdf5', '/store/clues/HESTIA/RE_SIMS/2048/GAL_FOR/37_11/output/snapdir_087/snapshot_087.5.hdf5', '/store/clues/HESTIA/RE_SIMS/2048/GAL_FOR/37_11/output/snapdir_087/snapshot_087.6.hdf5', '/store/clues/HESTIA/RE_SIMS/2048/GAL_FOR/37_11/output/snapdir_087/snapshot_087.7.hdf5', '/store/clues/HESTIA/RE_SIMS/2048/GAL_FOR/37_11/output/snapdir_088/snapshot_088.0.hdf5', '/store/clues/HESTIA/RE_SIMS/2048/GAL_FOR/37_11/output/snapdir_088/snapshot_088.1.hdf5', '/store/clues/HESTIA/RE_SIMS/2048/GAL_FOR/37_11/output/snapdir_088/snapshot_088.2.hdf5', '/store/clues/HESTIA/RE_SIMS/2048/GAL_FOR/37_11/output/snapdir_088/snapshot_088.3.hdf5', '/store/clues/HESTIA/RE_SIMS/2048/GAL_FOR/37_11/output/snapdir_088/snapshot_088.4.hdf5', '/store/clues/HESTIA/RE_SIMS/2048/GAL_FOR/37_11/output/snapdir_088/snapshot_088.5.hdf5', '/store/clues/HESTIA/RE_SIMS/2048/GAL_FOR/37_11/output/snapdir_088/snapshot_088.6.hdf5', '/store/clues/HESTIA/RE_SIMS/2048/GAL_FOR/37_11/output/snapdir_088/snapshot_088.7.hdf5', '/store/clues/HESTIA/RE_SIMS/2048/GAL_FOR/37_11/output/snapdir_089/snapshot_089.0.hdf5', '/store/clues/HESTIA/RE_SIMS/2048/GAL_FOR/37_11/output/snapdir_089/snapshot_089.1.hdf5', '/store/clues/HESTIA/RE_SIMS/2048/GAL_FOR/37_11/output/snapdir_089/snapshot_089.2.hdf5', '/store/clues/HESTIA/RE_SIMS/2048/GAL_FOR/37_11/output/snapdir_089/snapshot_089.3.hdf5', '/store/clues/HESTIA/RE_SIMS/2048/GAL_FOR/37_11/output/snapdir_089/snapshot_089.4.hdf5', '/store/clues/HESTIA/RE_SIMS/2048/GAL_FOR/37_11/output/snapdir_089/snapshot_089.5.hdf5', '/store/clues/HESTIA/RE_SIMS/2048/GAL_FOR/37_11/output/snapdir_089/snapshot_089.6.hdf5', '/store/clues/HESTIA/RE_SIMS/2048/GAL_FOR/37_11/output/snapdir_089/snapshot_089.7.hdf5', '/store/clues/HESTIA/RE_SIMS/2048/GAL_FOR/37_11/output/snapdir_090/snapshot_090.0.hdf5', '/store/clues/HESTIA/RE_SIMS/2048/GAL_FOR/37_11/output/snapdir_090/snapshot_090.1.hdf5', '/store/clues/HESTIA/RE_SIMS/2048/GAL_FOR/37_11/output/snapdir_090/snapshot_090.2.hdf5', '/store/clues/HESTIA/RE_SIMS/2048/GAL_FOR/37_11/output/snapdir_090/snapshot_090.3.hdf5', '/store/clues/HESTIA/RE_SIMS/2048/GAL_FOR/37_11/output/snapdir_090/snapshot_090.4.hdf5', '/store/clues/HESTIA/RE_SIMS/2048/GAL_FOR/37_11/output/snapdir_090/snapshot_090.5.hdf5', '/store/clues/HESTIA/RE_SIMS/2048/GAL_FOR/37_11/output/snapdir_090/snapshot_090.6.hdf5', '/store/clues/HESTIA/RE_SIMS/2048/GAL_FOR/37_11/output/snapdir_090/snapshot_090.7.hdf5', '/store/clues/HESTIA/RE_SIMS/2048/GAL_FOR/37_11/output/snapdir_091/snapshot_091.0.hdf5', '/store/clues/HESTIA/RE_SIMS/2048/GAL_FOR/37_11/output/snapdir_091/snapshot_091.1.hdf5', '/store/clues/HESTIA/RE_SIMS/2048/GAL_FOR/37_11/output/snapdir_091/snapshot_091.2.hdf5', '/store/clues/HESTIA/RE_SIMS/2048/GAL_FOR/37_11/output/snapdir_091/snapshot_091.3.hdf5', '/store/clues/HESTIA/RE_SIMS/2048/GAL_FOR/37_11/output/snapdir_091/snapshot_091.4.hdf5', '/store/clues/HESTIA/RE_SIMS/2048/GAL_FOR/37_11/output/snapdir_091/snapshot_091.5.hdf5', '/store/clues/HESTIA/RE_SIMS/2048/GAL_FOR/37_11/output/snapdir_091/snapshot_091.6.hdf5', '/store/clues/HESTIA/RE_SIMS/2048/GAL_FOR/37_11/output/snapdir_091/snapshot_091.7.hdf5', '/store/clues/HESTIA/RE_SIMS/2048/GAL_FOR/37_11/output/snapdir_092/snapshot_092.0.hdf5', '/store/clues/HESTIA/RE_SIMS/2048/GAL_FOR/37_11/output/snapdir_092/snapshot_092.1.hdf5', '/store/clues/HESTIA/RE_SIMS/2048/GAL_FOR/37_11/output/snapdir_092/snapshot_092.2.hdf5', '/store/clues/HESTIA/RE_SIMS/2048/GAL_FOR/37_11/output/snapdir_092/snapshot_092.3.hdf5', '/store/clues/HESTIA/RE_SIMS/2048/GAL_FOR/37_11/output/snapdir_092/snapshot_092.4.hdf5', '/store/clues/HESTIA/RE_SIMS/2048/GAL_FOR/37_11/output/snapdir_092/snapshot_092.5.hdf5', '/store/clues/HESTIA/RE_SIMS/2048/GAL_FOR/37_11/output/snapdir_092/snapshot_092.6.hdf5', '/store/clues/HESTIA/RE_SIMS/2048/GAL_FOR/37_11/output/snapdir_092/snapshot_092.7.hdf5', '/store/clues/HESTIA/RE_SIMS/2048/GAL_FOR/37_11/output/snapdir_093/snapshot_093.0.hdf5', '/store/clues/HESTIA/RE_SIMS/2048/GAL_FOR/37_11/output/snapdir_093/snapshot_093.1.hdf5', '/store/clues/HESTIA/RE_SIMS/2048/GAL_FOR/37_11/output/snapdir_093/snapshot_093.2.hdf5', '/store/clues/HESTIA/RE_SIMS/2048/GAL_FOR/37_11/output/snapdir_093/snapshot_093.3.hdf5', '/store/clues/HESTIA/RE_SIMS/2048/GAL_FOR/37_11/output/snapdir_093/snapshot_093.4.hdf5', '/store/clues/HESTIA/RE_SIMS/2048/GAL_FOR/37_11/output/snapdir_093/snapshot_093.5.hdf5', '/store/clues/HESTIA/RE_SIMS/2048/GAL_FOR/37_11/output/snapdir_093/snapshot_093.6.hdf5', '/store/clues/HESTIA/RE_SIMS/2048/GAL_FOR/37_11/output/snapdir_093/snapshot_093.7.hdf5', '/store/clues/HESTIA/RE_SIMS/2048/GAL_FOR/37_11/output/snapdir_094/snapshot_094.0.hdf5', '/store/clues/HESTIA/RE_SIMS/2048/GAL_FOR/37_11/output/snapdir_094/snapshot_094.1.hdf5', '/store/clues/HESTIA/RE_SIMS/2048/GAL_FOR/37_11/output/snapdir_094/snapshot_094.2.hdf5', '/store/clues/HESTIA/RE_SIMS/2048/GAL_FOR/37_11/output/snapdir_094/snapshot_094.3.hdf5', '/store/clues/HESTIA/RE_SIMS/2048/GAL_FOR/37_11/output/snapdir_094/snapshot_094.4.hdf5', '/store/clues/HESTIA/RE_SIMS/2048/GAL_FOR/37_11/output/snapdir_094/snapshot_094.5.hdf5', '/store/clues/HESTIA/RE_SIMS/2048/GAL_FOR/37_11/output/snapdir_094/snapshot_094.6.hdf5', '/store/clues/HESTIA/RE_SIMS/2048/GAL_FOR/37_11/output/snapdir_094/snapshot_094.7.hdf5', '/store/clues/HESTIA/RE_SIMS/2048/GAL_FOR/37_11/output/snapdir_095/snapshot_095.0.hdf5', '/store/clues/HESTIA/RE_SIMS/2048/GAL_FOR/37_11/output/snapdir_095/snapshot_095.1.hdf5', '/store/clues/HESTIA/RE_SIMS/2048/GAL_FOR/37_11/output/snapdir_095/snapshot_095.2.hdf5', '/store/clues/HESTIA/RE_SIMS/2048/GAL_FOR/37_11/output/snapdir_095/snapshot_095.3.hdf5', '/store/clues/HESTIA/RE_SIMS/2048/GAL_FOR/37_11/output/snapdir_095/snapshot_095.4.hdf5', '/store/clues/HESTIA/RE_SIMS/2048/GAL_FOR/37_11/output/snapdir_095/snapshot_095.5.hdf5', '/store/clues/HESTIA/RE_SIMS/2048/GAL_FOR/37_11/output/snapdir_095/snapshot_095.6.hdf5', '/store/clues/HESTIA/RE_SIMS/2048/GAL_FOR/37_11/output/snapdir_095/snapshot_095.7.hdf5', '/store/clues/HESTIA/RE_SIMS/2048/GAL_FOR/37_11/output/snapdir_096/snapshot_096.0.hdf5', '/store/clues/HESTIA/RE_SIMS/2048/GAL_FOR/37_11/output/snapdir_096/snapshot_096.1.hdf5', '/store/clues/HESTIA/RE_SIMS/2048/GAL_FOR/37_11/output/snapdir_096/snapshot_096.2.hdf5', '/store/clues/HESTIA/RE_SIMS/2048/GAL_FOR/37_11/output/snapdir_096/snapshot_096.3.hdf5', '/store/clues/HESTIA/RE_SIMS/2048/GAL_FOR/37_11/output/snapdir_096/snapshot_096.4.hdf5', '/store/clues/HESTIA/RE_SIMS/2048/GAL_FOR/37_11/output/snapdir_096/snapshot_096.5.hdf5', '/store/clues/HESTIA/RE_SIMS/2048/GAL_FOR/37_11/output/snapdir_096/snapshot_096.6.hdf5', '/store/clues/HESTIA/RE_SIMS/2048/GAL_FOR/37_11/output/snapdir_096/snapshot_096.7.hdf5', '/store/clues/HESTIA/RE_SIMS/2048/GAL_FOR/37_11/output/snapdir_097/snapshot_097.0.hdf5', '/store/clues/HESTIA/RE_SIMS/2048/GAL_FOR/37_11/output/snapdir_097/snapshot_097.1.hdf5', '/store/clues/HESTIA/RE_SIMS/2048/GAL_FOR/37_11/output/snapdir_097/snapshot_097.2.hdf5', '/store/clues/HESTIA/RE_SIMS/2048/GAL_FOR/37_11/output/snapdir_097/snapshot_097.3.hdf5', '/store/clues/HESTIA/RE_SIMS/2048/GAL_FOR/37_11/output/snapdir_097/snapshot_097.4.hdf5', '/store/clues/HESTIA/RE_SIMS/2048/GAL_FOR/37_11/output/snapdir_097/snapshot_097.5.hdf5', '/store/clues/HESTIA/RE_SIMS/2048/GAL_FOR/37_11/output/snapdir_097/snapshot_097.6.hdf5', '/store/clues/HESTIA/RE_SIMS/2048/GAL_FOR/37_11/output/snapdir_097/snapshot_097.7.hdf5', '/store/clues/HESTIA/RE_SIMS/2048/GAL_FOR/37_11/output/snapdir_098/snapshot_098.0.hdf5', '/store/clues/HESTIA/RE_SIMS/2048/GAL_FOR/37_11/output/snapdir_098/snapshot_098.1.hdf5', '/store/clues/HESTIA/RE_SIMS/2048/GAL_FOR/37_11/output/snapdir_098/snapshot_098.2.hdf5', '/store/clues/HESTIA/RE_SIMS/2048/GAL_FOR/37_11/output/snapdir_098/snapshot_098.3.hdf5', '/store/clues/HESTIA/RE_SIMS/2048/GAL_FOR/37_11/output/snapdir_098/snapshot_098.4.hdf5', '/store/clues/HESTIA/RE_SIMS/2048/GAL_FOR/37_11/output/snapdir_098/snapshot_098.5.hdf5', '/store/clues/HESTIA/RE_SIMS/2048/GAL_FOR/37_11/output/snapdir_098/snapshot_098.6.hdf5', '/store/clues/HESTIA/RE_SIMS/2048/GAL_FOR/37_11/output/snapdir_098/snapshot_098.7.hdf5', '/store/clues/HESTIA/RE_SIMS/2048/GAL_FOR/37_11/output/snapdir_099/snapshot_099.0.hdf5', '/store/clues/HESTIA/RE_SIMS/2048/GAL_FOR/37_11/output/snapdir_099/snapshot_099.1.hdf5', '/store/clues/HESTIA/RE_SIMS/2048/GAL_FOR/37_11/output/snapdir_099/snapshot_099.2.hdf5', '/store/clues/HESTIA/RE_SIMS/2048/GAL_FOR/37_11/output/snapdir_099/snapshot_099.3.hdf5', '/store/clues/HESTIA/RE_SIMS/2048/GAL_FOR/37_11/output/snapdir_099/snapshot_099.4.hdf5', '/store/clues/HESTIA/RE_SIMS/2048/GAL_FOR/37_11/output/snapdir_099/snapshot_099.5.hdf5', '/store/clues/HESTIA/RE_SIMS/2048/GAL_FOR/37_11/output/snapdir_099/snapshot_099.6.hdf5', '/store/clues/HESTIA/RE_SIMS/2048/GAL_FOR/37_11/output/snapdir_099/snapshot_099.7.hdf5', '/store/clues/HESTIA/RE_SIMS/2048/GAL_FOR/37_11/output/snapdir_100/snapshot_100.0.hdf5', '/store/clues/HESTIA/RE_SIMS/2048/GAL_FOR/37_11/output/snapdir_100/snapshot_100.1.hdf5', '/store/clues/HESTIA/RE_SIMS/2048/GAL_FOR/37_11/output/snapdir_100/snapshot_100.2.hdf5', '/store/clues/HESTIA/RE_SIMS/2048/GAL_FOR/37_11/output/snapdir_100/snapshot_100.3.hdf5', '/store/clues/HESTIA/RE_SIMS/2048/GAL_FOR/37_11/output/snapdir_100/snapshot_100.4.hdf5', '/store/clues/HESTIA/RE_SIMS/2048/GAL_FOR/37_11/output/snapdir_100/snapshot_100.5.hdf5', '/store/clues/HESTIA/RE_SIMS/2048/GAL_FOR/37_11/output/snapdir_100/snapshot_100.6.hdf5', '/store/clues/HESTIA/RE_SIMS/2048/GAL_FOR/37_11/output/snapdir_100/snapshot_100.7.hdf5', '/store/clues/HESTIA/RE_SIMS/2048/GAL_FOR/37_11/output/snapdir_101/snapshot_101.0.hdf5', '/store/clues/HESTIA/RE_SIMS/2048/GAL_FOR/37_11/output/snapdir_101/snapshot_101.1.hdf5', '/store/clues/HESTIA/RE_SIMS/2048/GAL_FOR/37_11/output/snapdir_101/snapshot_101.2.hdf5', '/store/clues/HESTIA/RE_SIMS/2048/GAL_FOR/37_11/output/snapdir_101/snapshot_101.3.hdf5', '/store/clues/HESTIA/RE_SIMS/2048/GAL_FOR/37_11/output/snapdir_101/snapshot_101.4.hdf5', '/store/clues/HESTIA/RE_SIMS/2048/GAL_FOR/37_11/output/snapdir_101/snapshot_101.5.hdf5', '/store/clues/HESTIA/RE_SIMS/2048/GAL_FOR/37_11/output/snapdir_101/snapshot_101.6.hdf5', '/store/clues/HESTIA/RE_SIMS/2048/GAL_FOR/37_11/output/snapdir_101/snapshot_101.7.hdf5', '/store/clues/HESTIA/RE_SIMS/2048/GAL_FOR/37_11/output/snapdir_102/snapshot_102.0.hdf5', '/store/clues/HESTIA/RE_SIMS/2048/GAL_FOR/37_11/output/snapdir_102/snapshot_102.1.hdf5', '/store/clues/HESTIA/RE_SIMS/2048/GAL_FOR/37_11/output/snapdir_102/snapshot_102.2.hdf5', '/store/clues/HESTIA/RE_SIMS/2048/GAL_FOR/37_11/output/snapdir_102/snapshot_102.3.hdf5', '/store/clues/HESTIA/RE_SIMS/2048/GAL_FOR/37_11/output/snapdir_102/snapshot_102.4.hdf5', '/store/clues/HESTIA/RE_SIMS/2048/GAL_FOR/37_11/output/snapdir_102/snapshot_102.5.hdf5', '/store/clues/HESTIA/RE_SIMS/2048/GAL_FOR/37_11/output/snapdir_102/snapshot_102.6.hdf5', '/store/clues/HESTIA/RE_SIMS/2048/GAL_FOR/37_11/output/snapdir_102/snapshot_102.7.hdf5', '/store/clues/HESTIA/RE_SIMS/2048/GAL_FOR/37_11/output/snapdir_103/snapshot_103.0.hdf5', '/store/clues/HESTIA/RE_SIMS/2048/GAL_FOR/37_11/output/snapdir_103/snapshot_103.1.hdf5', '/store/clues/HESTIA/RE_SIMS/2048/GAL_FOR/37_11/output/snapdir_103/snapshot_103.2.hdf5', '/store/clues/HESTIA/RE_SIMS/2048/GAL_FOR/37_11/output/snapdir_103/snapshot_103.3.hdf5', '/store/clues/HESTIA/RE_SIMS/2048/GAL_FOR/37_11/output/snapdir_103/snapshot_103.4.hdf5', '/store/clues/HESTIA/RE_SIMS/2048/GAL_FOR/37_11/output/snapdir_103/snapshot_103.5.hdf5', '/store/clues/HESTIA/RE_SIMS/2048/GAL_FOR/37_11/output/snapdir_103/snapshot_103.6.hdf5', '/store/clues/HESTIA/RE_SIMS/2048/GAL_FOR/37_11/output/snapdir_103/snapshot_103.7.hdf5', '/store/clues/HESTIA/RE_SIMS/2048/GAL_FOR/37_11/output/snapdir_104/snapshot_104.0.hdf5', '/store/clues/HESTIA/RE_SIMS/2048/GAL_FOR/37_11/output/snapdir_104/snapshot_104.1.hdf5', '/store/clues/HESTIA/RE_SIMS/2048/GAL_FOR/37_11/output/snapdir_104/snapshot_104.2.hdf5', '/store/clues/HESTIA/RE_SIMS/2048/GAL_FOR/37_11/output/snapdir_104/snapshot_104.3.hdf5', '/store/clues/HESTIA/RE_SIMS/2048/GAL_FOR/37_11/output/snapdir_104/snapshot_104.4.hdf5', '/store/clues/HESTIA/RE_SIMS/2048/GAL_FOR/37_11/output/snapdir_104/snapshot_104.5.hdf5', '/store/clues/HESTIA/RE_SIMS/2048/GAL_FOR/37_11/output/snapdir_104/snapshot_104.6.hdf5', '/store/clues/HESTIA/RE_SIMS/2048/GAL_FOR/37_11/output/snapdir_104/snapshot_104.7.hdf5', '/store/clues/HESTIA/RE_SIMS/2048/GAL_FOR/37_11/output/snapdir_105/snapshot_105.0.hdf5', '/store/clues/HESTIA/RE_SIMS/2048/GAL_FOR/37_11/output/snapdir_105/snapshot_105.1.hdf5', '/store/clues/HESTIA/RE_SIMS/2048/GAL_FOR/37_11/output/snapdir_105/snapshot_105.2.hdf5', '/store/clues/HESTIA/RE_SIMS/2048/GAL_FOR/37_11/output/snapdir_105/snapshot_105.3.hdf5', '/store/clues/HESTIA/RE_SIMS/2048/GAL_FOR/37_11/output/snapdir_105/snapshot_105.4.hdf5', '/store/clues/HESTIA/RE_SIMS/2048/GAL_FOR/37_11/output/snapdir_105/snapshot_105.5.hdf5', '/store/clues/HESTIA/RE_SIMS/2048/GAL_FOR/37_11/output/snapdir_105/snapshot_105.6.hdf5', '/store/clues/HESTIA/RE_SIMS/2048/GAL_FOR/37_11/output/snapdir_105/snapshot_105.7.hdf5', '/store/clues/HESTIA/RE_SIMS/2048/GAL_FOR/37_11/output/snapdir_106/snapshot_106.0.hdf5', '/store/clues/HESTIA/RE_SIMS/2048/GAL_FOR/37_11/output/snapdir_106/snapshot_106.1.hdf5', '/store/clues/HESTIA/RE_SIMS/2048/GAL_FOR/37_11/output/snapdir_106/snapshot_106.2.hdf5', '/store/clues/HESTIA/RE_SIMS/2048/GAL_FOR/37_11/output/snapdir_106/snapshot_106.3.hdf5', '/store/clues/HESTIA/RE_SIMS/2048/GAL_FOR/37_11/output/snapdir_106/snapshot_106.4.hdf5', '/store/clues/HESTIA/RE_SIMS/2048/GAL_FOR/37_11/output/snapdir_106/snapshot_106.5.hdf5', '/store/clues/HESTIA/RE_SIMS/2048/GAL_FOR/37_11/output/snapdir_106/snapshot_106.6.hdf5', '/store/clues/HESTIA/RE_SIMS/2048/GAL_FOR/37_11/output/snapdir_106/snapshot_106.7.hdf5', '/store/clues/HESTIA/RE_SIMS/2048/GAL_FOR/37_11/output/snapdir_107/snapshot_107.0.hdf5', '/store/clues/HESTIA/RE_SIMS/2048/GAL_FOR/37_11/output/snapdir_107/snapshot_107.1.hdf5', '/store/clues/HESTIA/RE_SIMS/2048/GAL_FOR/37_11/output/snapdir_107/snapshot_107.2.hdf5', '/store/clues/HESTIA/RE_SIMS/2048/GAL_FOR/37_11/output/snapdir_107/snapshot_107.3.hdf5', '/store/clues/HESTIA/RE_SIMS/2048/GAL_FOR/37_11/output/snapdir_107/snapshot_107.4.hdf5', '/store/clues/HESTIA/RE_SIMS/2048/GAL_FOR/37_11/output/snapdir_107/snapshot_107.5.hdf5', '/store/clues/HESTIA/RE_SIMS/2048/GAL_FOR/37_11/output/snapdir_107/snapshot_107.6.hdf5', '/store/clues/HESTIA/RE_SIMS/2048/GAL_FOR/37_11/output/snapdir_107/snapshot_107.7.hdf5', '/store/clues/HESTIA/RE_SIMS/2048/GAL_FOR/37_11/output/snapdir_108/snapshot_108.0.hdf5', '/store/clues/HESTIA/RE_SIMS/2048/GAL_FOR/37_11/output/snapdir_108/snapshot_108.1.hdf5', '/store/clues/HESTIA/RE_SIMS/2048/GAL_FOR/37_11/output/snapdir_108/snapshot_108.2.hdf5', '/store/clues/HESTIA/RE_SIMS/2048/GAL_FOR/37_11/output/snapdir_108/snapshot_108.3.hdf5', '/store/clues/HESTIA/RE_SIMS/2048/GAL_FOR/37_11/output/snapdir_108/snapshot_108.4.hdf5', '/store/clues/HESTIA/RE_SIMS/2048/GAL_FOR/37_11/output/snapdir_108/snapshot_108.5.hdf5', '/store/clues/HESTIA/RE_SIMS/2048/GAL_FOR/37_11/output/snapdir_108/snapshot_108.6.hdf5', '/store/clues/HESTIA/RE_SIMS/2048/GAL_FOR/37_11/output/snapdir_108/snapshot_108.7.hdf5', '/store/clues/HESTIA/RE_SIMS/2048/GAL_FOR/37_11/output/snapdir_109/snapshot_109.0.hdf5', '/store/clues/HESTIA/RE_SIMS/2048/GAL_FOR/37_11/output/snapdir_109/snapshot_109.1.hdf5', '/store/clues/HESTIA/RE_SIMS/2048/GAL_FOR/37_11/output/snapdir_109/snapshot_109.2.hdf5', '/store/clues/HESTIA/RE_SIMS/2048/GAL_FOR/37_11/output/snapdir_109/snapshot_109.3.hdf5', '/store/clues/HESTIA/RE_SIMS/2048/GAL_FOR/37_11/output/snapdir_109/snapshot_109.4.hdf5', '/store/clues/HESTIA/RE_SIMS/2048/GAL_FOR/37_11/output/snapdir_109/snapshot_109.5.hdf5', '/store/clues/HESTIA/RE_SIMS/2048/GAL_FOR/37_11/output/snapdir_109/snapshot_109.6.hdf5', '/store/clues/HESTIA/RE_SIMS/2048/GAL_FOR/37_11/output/snapdir_109/snapshot_109.7.hdf5', '/store/clues/HESTIA/RE_SIMS/2048/GAL_FOR/37_11/output/snapdir_110/snapshot_110.0.hdf5', '/store/clues/HESTIA/RE_SIMS/2048/GAL_FOR/37_11/output/snapdir_110/snapshot_110.1.hdf5', '/store/clues/HESTIA/RE_SIMS/2048/GAL_FOR/37_11/output/snapdir_110/snapshot_110.2.hdf5', '/store/clues/HESTIA/RE_SIMS/2048/GAL_FOR/37_11/output/snapdir_110/snapshot_110.3.hdf5', '/store/clues/HESTIA/RE_SIMS/2048/GAL_FOR/37_11/output/snapdir_110/snapshot_110.4.hdf5', '/store/clues/HESTIA/RE_SIMS/2048/GAL_FOR/37_11/output/snapdir_110/snapshot_110.5.hdf5', '/store/clues/HESTIA/RE_SIMS/2048/GAL_FOR/37_11/output/snapdir_110/snapshot_110.6.hdf5', '/store/clues/HESTIA/RE_SIMS/2048/GAL_FOR/37_11/output/snapdir_110/snapshot_110.7.hdf5', '/store/clues/HESTIA/RE_SIMS/2048/GAL_FOR/37_11/output/snapdir_111/snapshot_111.0.hdf5', '/store/clues/HESTIA/RE_SIMS/2048/GAL_FOR/37_11/output/snapdir_111/snapshot_111.1.hdf5', '/store/clues/HESTIA/RE_SIMS/2048/GAL_FOR/37_11/output/snapdir_111/snapshot_111.2.hdf5', '/store/clues/HESTIA/RE_SIMS/2048/GAL_FOR/37_11/output/snapdir_111/snapshot_111.3.hdf5', '/store/clues/HESTIA/RE_SIMS/2048/GAL_FOR/37_11/output/snapdir_111/snapshot_111.4.hdf5', '/store/clues/HESTIA/RE_SIMS/2048/GAL_FOR/37_11/output/snapdir_111/snapshot_111.5.hdf5', '/store/clues/HESTIA/RE_SIMS/2048/GAL_FOR/37_11/output/snapdir_111/snapshot_111.6.hdf5', '/store/clues/HESTIA/RE_SIMS/2048/GAL_FOR/37_11/output/snapdir_111/snapshot_111.7.hdf5', '/store/clues/HESTIA/RE_SIMS/2048/GAL_FOR/37_11/output/snapdir_112/snapshot_112.0.hdf5', '/store/clues/HESTIA/RE_SIMS/2048/GAL_FOR/37_11/output/snapdir_112/snapshot_112.1.hdf5', '/store/clues/HESTIA/RE_SIMS/2048/GAL_FOR/37_11/output/snapdir_112/snapshot_112.2.hdf5', '/store/clues/HESTIA/RE_SIMS/2048/GAL_FOR/37_11/output/snapdir_112/snapshot_112.3.hdf5', '/store/clues/HESTIA/RE_SIMS/2048/GAL_FOR/37_11/output/snapdir_112/snapshot_112.4.hdf5', '/store/clues/HESTIA/RE_SIMS/2048/GAL_FOR/37_11/output/snapdir_112/snapshot_112.5.hdf5', '/store/clues/HESTIA/RE_SIMS/2048/GAL_FOR/37_11/output/snapdir_112/snapshot_112.6.hdf5', '/store/clues/HESTIA/RE_SIMS/2048/GAL_FOR/37_11/output/snapdir_112/snapshot_112.7.hdf5', '/store/clues/HESTIA/RE_SIMS/2048/GAL_FOR/37_11/output/snapdir_113/snapshot_113.0.hdf5', '/store/clues/HESTIA/RE_SIMS/2048/GAL_FOR/37_11/output/snapdir_113/snapshot_113.1.hdf5', '/store/clues/HESTIA/RE_SIMS/2048/GAL_FOR/37_11/output/snapdir_113/snapshot_113.2.hdf5', '/store/clues/HESTIA/RE_SIMS/2048/GAL_FOR/37_11/output/snapdir_113/snapshot_113.3.hdf5', '/store/clues/HESTIA/RE_SIMS/2048/GAL_FOR/37_11/output/snapdir_113/snapshot_113.4.hdf5', '/store/clues/HESTIA/RE_SIMS/2048/GAL_FOR/37_11/output/snapdir_113/snapshot_113.5.hdf5', '/store/clues/HESTIA/RE_SIMS/2048/GAL_FOR/37_11/output/snapdir_113/snapshot_113.6.hdf5', '/store/clues/HESTIA/RE_SIMS/2048/GAL_FOR/37_11/output/snapdir_113/snapshot_113.7.hdf5', '/store/clues/HESTIA/RE_SIMS/2048/GAL_FOR/37_11/output/snapdir_114/snapshot_114.0.hdf5', '/store/clues/HESTIA/RE_SIMS/2048/GAL_FOR/37_11/output/snapdir_114/snapshot_114.1.hdf5', '/store/clues/HESTIA/RE_SIMS/2048/GAL_FOR/37_11/output/snapdir_114/snapshot_114.2.hdf5', '/store/clues/HESTIA/RE_SIMS/2048/GAL_FOR/37_11/output/snapdir_114/snapshot_114.3.hdf5', '/store/clues/HESTIA/RE_SIMS/2048/GAL_FOR/37_11/output/snapdir_114/snapshot_114.4.hdf5', '/store/clues/HESTIA/RE_SIMS/2048/GAL_FOR/37_11/output/snapdir_114/snapshot_114.5.hdf5', '/store/clues/HESTIA/RE_SIMS/2048/GAL_FOR/37_11/output/snapdir_114/snapshot_114.6.hdf5', '/store/clues/HESTIA/RE_SIMS/2048/GAL_FOR/37_11/output/snapdir_114/snapshot_114.7.hdf5', '/store/clues/HESTIA/RE_SIMS/2048/GAL_FOR/37_11/output/snapdir_115/snapshot_115.0.hdf5', '/store/clues/HESTIA/RE_SIMS/2048/GAL_FOR/37_11/output/snapdir_115/snapshot_115.1.hdf5', '/store/clues/HESTIA/RE_SIMS/2048/GAL_FOR/37_11/output/snapdir_115/snapshot_115.2.hdf5', '/store/clues/HESTIA/RE_SIMS/2048/GAL_FOR/37_11/output/snapdir_115/snapshot_115.3.hdf5', '/store/clues/HESTIA/RE_SIMS/2048/GAL_FOR/37_11/output/snapdir_115/snapshot_115.4.hdf5', '/store/clues/HESTIA/RE_SIMS/2048/GAL_FOR/37_11/output/snapdir_115/snapshot_115.5.hdf5', '/store/clues/HESTIA/RE_SIMS/2048/GAL_FOR/37_11/output/snapdir_115/snapshot_115.6.hdf5', '/store/clues/HESTIA/RE_SIMS/2048/GAL_FOR/37_11/output/snapdir_115/snapshot_115.7.hdf5', '/store/clues/HESTIA/RE_SIMS/2048/GAL_FOR/37_11/output/snapdir_116/snapshot_116.0.hdf5', '/store/clues/HESTIA/RE_SIMS/2048/GAL_FOR/37_11/output/snapdir_116/snapshot_116.1.hdf5', '/store/clues/HESTIA/RE_SIMS/2048/GAL_FOR/37_11/output/snapdir_116/snapshot_116.2.hdf5', '/store/clues/HESTIA/RE_SIMS/2048/GAL_FOR/37_11/output/snapdir_116/snapshot_116.3.hdf5', '/store/clues/HESTIA/RE_SIMS/2048/GAL_FOR/37_11/output/snapdir_116/snapshot_116.4.hdf5', '/store/clues/HESTIA/RE_SIMS/2048/GAL_FOR/37_11/output/snapdir_116/snapshot_116.5.hdf5', '/store/clues/HESTIA/RE_SIMS/2048/GAL_FOR/37_11/output/snapdir_116/snapshot_116.6.hdf5', '/store/clues/HESTIA/RE_SIMS/2048/GAL_FOR/37_11/output/snapdir_116/snapshot_116.7.hdf5', '/store/clues/HESTIA/RE_SIMS/2048/GAL_FOR/37_11/output/snapdir_117/snapshot_117.0.hdf5', '/store/clues/HESTIA/RE_SIMS/2048/GAL_FOR/37_11/output/snapdir_117/snapshot_117.1.hdf5', '/store/clues/HESTIA/RE_SIMS/2048/GAL_FOR/37_11/output/snapdir_117/snapshot_117.2.hdf5', '/store/clues/HESTIA/RE_SIMS/2048/GAL_FOR/37_11/output/snapdir_117/snapshot_117.3.hdf5', '/store/clues/HESTIA/RE_SIMS/2048/GAL_FOR/37_11/output/snapdir_117/snapshot_117.4.hdf5', '/store/clues/HESTIA/RE_SIMS/2048/GAL_FOR/37_11/output/snapdir_117/snapshot_117.5.hdf5', '/store/clues/HESTIA/RE_SIMS/2048/GAL_FOR/37_11/output/snapdir_117/snapshot_117.6.hdf5', '/store/clues/HESTIA/RE_SIMS/2048/GAL_FOR/37_11/output/snapdir_117/snapshot_117.7.hdf5', '/store/clues/HESTIA/RE_SIMS/2048/GAL_FOR/37_11/output/snapdir_118/snapshot_118.0.hdf5', '/store/clues/HESTIA/RE_SIMS/2048/GAL_FOR/37_11/output/snapdir_118/snapshot_118.1.hdf5', '/store/clues/HESTIA/RE_SIMS/2048/GAL_FOR/37_11/output/snapdir_118/snapshot_118.2.hdf5', '/store/clues/HESTIA/RE_SIMS/2048/GAL_FOR/37_11/output/snapdir_118/snapshot_118.3.hdf5', '/store/clues/HESTIA/RE_SIMS/2048/GAL_FOR/37_11/output/snapdir_118/snapshot_118.4.hdf5', '/store/clues/HESTIA/RE_SIMS/2048/GAL_FOR/37_11/output/snapdir_118/snapshot_118.5.hdf5', '/store/clues/HESTIA/RE_SIMS/2048/GAL_FOR/37_11/output/snapdir_118/snapshot_118.6.hdf5', '/store/clues/HESTIA/RE_SIMS/2048/GAL_FOR/37_11/output/snapdir_118/snapshot_118.7.hdf5', '/store/clues/HESTIA/RE_SIMS/2048/GAL_FOR/37_11/output/snapdir_119/snapshot_119.0.hdf5', '/store/clues/HESTIA/RE_SIMS/2048/GAL_FOR/37_11/output/snapdir_119/snapshot_119.1.hdf5', '/store/clues/HESTIA/RE_SIMS/2048/GAL_FOR/37_11/output/snapdir_119/snapshot_119.2.hdf5', '/store/clues/HESTIA/RE_SIMS/2048/GAL_FOR/37_11/output/snapdir_119/snapshot_119.3.hdf5', '/store/clues/HESTIA/RE_SIMS/2048/GAL_FOR/37_11/output/snapdir_119/snapshot_119.4.hdf5', '/store/clues/HESTIA/RE_SIMS/2048/GAL_FOR/37_11/output/snapdir_119/snapshot_119.5.hdf5', '/store/clues/HESTIA/RE_SIMS/2048/GAL_FOR/37_11/output/snapdir_119/snapshot_119.6.hdf5', '/store/clues/HESTIA/RE_SIMS/2048/GAL_FOR/37_11/output/snapdir_119/snapshot_119.7.hdf5', '/store/clues/HESTIA/RE_SIMS/2048/GAL_FOR/37_11/output/snapdir_120/snapshot_120.0.hdf5', '/store/clues/HESTIA/RE_SIMS/2048/GAL_FOR/37_11/output/snapdir_120/snapshot_120.1.hdf5', '/store/clues/HESTIA/RE_SIMS/2048/GAL_FOR/37_11/output/snapdir_120/snapshot_120.2.hdf5', '/store/clues/HESTIA/RE_SIMS/2048/GAL_FOR/37_11/output/snapdir_120/snapshot_120.3.hdf5', '/store/clues/HESTIA/RE_SIMS/2048/GAL_FOR/37_11/output/snapdir_120/snapshot_120.4.hdf5', '/store/clues/HESTIA/RE_SIMS/2048/GAL_FOR/37_11/output/snapdir_120/snapshot_120.5.hdf5', '/store/clues/HESTIA/RE_SIMS/2048/GAL_FOR/37_11/output/snapdir_120/snapshot_120.6.hdf5', '/store/clues/HESTIA/RE_SIMS/2048/GAL_FOR/37_11/output/snapdir_120/snapshot_120.7.hdf5', '/store/clues/HESTIA/RE_SIMS/2048/GAL_FOR/37_11/output/snapdir_121/snapshot_121.0.hdf5', '/store/clues/HESTIA/RE_SIMS/2048/GAL_FOR/37_11/output/snapdir_121/snapshot_121.1.hdf5', '/store/clues/HESTIA/RE_SIMS/2048/GAL_FOR/37_11/output/snapdir_121/snapshot_121.2.hdf5', '/store/clues/HESTIA/RE_SIMS/2048/GAL_FOR/37_11/output/snapdir_121/snapshot_121.3.hdf5', '/store/clues/HESTIA/RE_SIMS/2048/GAL_FOR/37_11/output/snapdir_121/snapshot_121.4.hdf5', '/store/clues/HESTIA/RE_SIMS/2048/GAL_FOR/37_11/output/snapdir_121/snapshot_121.5.hdf5', '/store/clues/HESTIA/RE_SIMS/2048/GAL_FOR/37_11/output/snapdir_121/snapshot_121.6.hdf5', '/store/clues/HESTIA/RE_SIMS/2048/GAL_FOR/37_11/output/snapdir_121/snapshot_121.7.hdf5', '/store/clues/HESTIA/RE_SIMS/2048/GAL_FOR/37_11/output/snapdir_122/snapshot_122.0.hdf5', '/store/clues/HESTIA/RE_SIMS/2048/GAL_FOR/37_11/output/snapdir_122/snapshot_122.1.hdf5', '/store/clues/HESTIA/RE_SIMS/2048/GAL_FOR/37_11/output/snapdir_122/snapshot_122.2.hdf5', '/store/clues/HESTIA/RE_SIMS/2048/GAL_FOR/37_11/output/snapdir_122/snapshot_122.3.hdf5', '/store/clues/HESTIA/RE_SIMS/2048/GAL_FOR/37_11/output/snapdir_122/snapshot_122.4.hdf5', '/store/clues/HESTIA/RE_SIMS/2048/GAL_FOR/37_11/output/snapdir_122/snapshot_122.5.hdf5', '/store/clues/HESTIA/RE_SIMS/2048/GAL_FOR/37_11/output/snapdir_122/snapshot_122.6.hdf5', '/store/clues/HESTIA/RE_SIMS/2048/GAL_FOR/37_11/output/snapdir_122/snapshot_122.7.hdf5', '/store/clues/HESTIA/RE_SIMS/2048/GAL_FOR/37_11/output/snapdir_123/snapshot_123.0.hdf5', '/store/clues/HESTIA/RE_SIMS/2048/GAL_FOR/37_11/output/snapdir_123/snapshot_123.1.hdf5', '/store/clues/HESTIA/RE_SIMS/2048/GAL_FOR/37_11/output/snapdir_123/snapshot_123.2.hdf5', '/store/clues/HESTIA/RE_SIMS/2048/GAL_FOR/37_11/output/snapdir_123/snapshot_123.3.hdf5', '/store/clues/HESTIA/RE_SIMS/2048/GAL_FOR/37_11/output/snapdir_123/snapshot_123.4.hdf5', '/store/clues/HESTIA/RE_SIMS/2048/GAL_FOR/37_11/output/snapdir_123/snapshot_123.5.hdf5', '/store/clues/HESTIA/RE_SIMS/2048/GAL_FOR/37_11/output/snapdir_123/snapshot_123.6.hdf5', '/store/clues/HESTIA/RE_SIMS/2048/GAL_FOR/37_11/output/snapdir_123/snapshot_123.7.hdf5', '/store/clues/HESTIA/RE_SIMS/2048/GAL_FOR/37_11/output/snapdir_124/snapshot_124.0.hdf5', '/store/clues/HESTIA/RE_SIMS/2048/GAL_FOR/37_11/output/snapdir_124/snapshot_124.1.hdf5', '/store/clues/HESTIA/RE_SIMS/2048/GAL_FOR/37_11/output/snapdir_124/snapshot_124.2.hdf5', '/store/clues/HESTIA/RE_SIMS/2048/GAL_FOR/37_11/output/snapdir_124/snapshot_124.3.hdf5', '/store/clues/HESTIA/RE_SIMS/2048/GAL_FOR/37_11/output/snapdir_124/snapshot_124.4.hdf5', '/store/clues/HESTIA/RE_SIMS/2048/GAL_FOR/37_11/output/snapdir_124/snapshot_124.5.hdf5', '/store/clues/HESTIA/RE_SIMS/2048/GAL_FOR/37_11/output/snapdir_124/snapshot_124.6.hdf5', '/store/clues/HESTIA/RE_SIMS/2048/GAL_FOR/37_11/output/snapdir_124/snapshot_124.7.hdf5', '/store/clues/HESTIA/RE_SIMS/2048/GAL_FOR/37_11/output/snapdir_125/snapshot_125.0.hdf5', '/store/clues/HESTIA/RE_SIMS/2048/GAL_FOR/37_11/output/snapdir_125/snapshot_125.1.hdf5', '/store/clues/HESTIA/RE_SIMS/2048/GAL_FOR/37_11/output/snapdir_125/snapshot_125.2.hdf5', '/store/clues/HESTIA/RE_SIMS/2048/GAL_FOR/37_11/output/snapdir_125/snapshot_125.3.hdf5', '/store/clues/HESTIA/RE_SIMS/2048/GAL_FOR/37_11/output/snapdir_125/snapshot_125.4.hdf5', '/store/clues/HESTIA/RE_SIMS/2048/GAL_FOR/37_11/output/snapdir_125/snapshot_125.5.hdf5', '/store/clues/HESTIA/RE_SIMS/2048/GAL_FOR/37_11/output/snapdir_125/snapshot_125.6.hdf5', '/store/clues/HESTIA/RE_SIMS/2048/GAL_FOR/37_11/output/snapdir_125/snapshot_125.7.hdf5', '/store/clues/HESTIA/RE_SIMS/2048/GAL_FOR/37_11/output/snapdir_126/snapshot_126.0.hdf5', '/store/clues/HESTIA/RE_SIMS/2048/GAL_FOR/37_11/output/snapdir_126/snapshot_126.1.hdf5', '/store/clues/HESTIA/RE_SIMS/2048/GAL_FOR/37_11/output/snapdir_126/snapshot_126.2.hdf5', '/store/clues/HESTIA/RE_SIMS/2048/GAL_FOR/37_11/output/snapdir_126/snapshot_126.3.hdf5', '/store/clues/HESTIA/RE_SIMS/2048/GAL_FOR/37_11/output/snapdir_126/snapshot_126.4.hdf5', '/store/clues/HESTIA/RE_SIMS/2048/GAL_FOR/37_11/output/snapdir_126/snapshot_126.5.hdf5', '/store/clues/HESTIA/RE_SIMS/2048/GAL_FOR/37_11/output/snapdir_126/snapshot_126.6.hdf5', '/store/clues/HESTIA/RE_SIMS/2048/GAL_FOR/37_11/output/snapdir_126/snapshot_126.7.hdf5', '/store/clues/HESTIA/RE_SIMS/2048/GAL_FOR/37_11/output/snapdir_127/snapshot_127.0.hdf5', '/store/clues/HESTIA/RE_SIMS/2048/GAL_FOR/37_11/output/snapdir_127/snapshot_127.1.hdf5', '/store/clues/HESTIA/RE_SIMS/2048/GAL_FOR/37_11/output/snapdir_127/snapshot_127.2.hdf5', '/store/clues/HESTIA/RE_SIMS/2048/GAL_FOR/37_11/output/snapdir_127/snapshot_127.3.hdf5', '/store/clues/HESTIA/RE_SIMS/2048/GAL_FOR/37_11/output/snapdir_127/snapshot_127.4.hdf5', '/store/clues/HESTIA/RE_SIMS/2048/GAL_FOR/37_11/output/snapdir_127/snapshot_127.5.hdf5', '/store/clues/HESTIA/RE_SIMS/2048/GAL_FOR/37_11/output/snapdir_127/snapshot_127.6.hdf5', '/store/clues/HESTIA/RE_SIMS/2048/GAL_FOR/37_11/output/snapdir_127/snapshot_127.7.hdf5']\n"
     ]
    }
   ],
   "source": [
    "#create list with each path\n",
    "#/store/clues/HESTIA/RE_SIMS/2048/GAL_FOR/37_11/output/snapdir_022/snapshot_022.7.hdf5\n",
    "pathList = []\n",
    "for i in range(numSnapdirs):\n",
    "    currentSnapdir = \"snapdir_\" + \"%03d\" % i + \"/\"\n",
    "    for j in range(numSnapshots):\n",
    "        currentSnapshot = \"snapshot_\" + \"%03d\" % i + \".\" + str(j) + \".hdf5\"\n",
    "        currentPath = path + currentSnapdir + currentSnapshot\n",
    "        pathList.append(currentPath)\n",
    "print(pathList)"
   ]
  },
  {
   "cell_type": "code",
   "execution_count": 5,
   "metadata": {
    "collapsed": false,
    "scrolled": true
   },
   "outputs": [
   ],
   "source": [
    "#lets look at a smaller list\n",
    "pathList = pathList[-48:]"
   ]
  },
  {
   "cell_type": "code",
   "execution_count": 6,
   "metadata": {
    "collapsed": false,
    "scrolled": true
   },
   "outputs": [
    {
     "name": "stdout",
     "output_type": "stream",
     "text": [
      "Done!\n"
     ]
    }
   ],
   "source": [
    "dfallList={}\n",
    "for i in range(len(pathList)):\n",
    "    #TODO read funktion inform\n",
    "    f = h5py.File(pathList[i], \"r\")\n",
    "    s = int(pathList[i][62:65])\n",
    "    #type=0\n",
    "    pos = np.float32(f['/PartType0/Coordinates'].value)\n",
    "    ID  = np.uint32(f['/PartType0/ParticleIDs'].value)\n",
    "    dens = np.array(f['PartType0/Density'])\n",
    "    df0=pd.DataFrame({\"x\":pos[:,0],\"y\":pos[:,1],\"z\":pos[:,2],\"dens\":dens , \"ID\":ID, \"snap\":ID*0+s})\n",
    "    dfallList[i]=df0\n",
    "    #TODO close f\n",
    "dfa = pd.concat(dfallList)\n",
    "print(\"Done!\")"
   ]
  },
  {
   "cell_type": "code",
   "execution_count": 7,
   "metadata": {
    "collapsed": false
   },
   "outputs": [
    {
     "data": {
      "text/html": [
       "<div>\n",
       "<style scoped>\n",
       "    .dataframe tbody tr th:only-of-type {\n",
       "        vertical-align: middle;\n",
       "    }\n",
       "\n",
       "    .dataframe tbody tr th {\n",
       "        vertical-align: top;\n",
       "    }\n",
       "\n",
       "    .dataframe thead th {\n",
       "        text-align: right;\n",
       "    }\n",
       "</style>\n",
       "<table border=\"1\" class=\"dataframe\">\n",
       "  <thead>\n",
       "    <tr style=\"text-align: right;\">\n",
       "      <th></th>\n",
       "      <th></th>\n",
       "      <th>x</th>\n",
       "      <th>y</th>\n",
       "      <th>z</th>\n",
       "      <th>dens</th>\n",
       "      <th>ID</th>\n",
       "      <th>snap</th>\n",
       "    </tr>\n",
       "  </thead>\n",
       "  <tbody>\n",
       "    <tr>\n",
       "      <th rowspan=\"30\" valign=\"top\">0</th>\n",
       "      <th>0</th>\n",
       "      <td>46.649570</td>\n",
       "      <td>50.471172</td>\n",
       "      <td>48.033115</td>\n",
       "      <td>488287.000000</td>\n",
       "      <td>58359677</td>\n",
       "      <td>122</td>\n",
       "    </tr>\n",
       "    <tr>\n",
       "      <th>1</th>\n",
       "      <td>46.648933</td>\n",
       "      <td>50.471199</td>\n",
       "      <td>48.033249</td>\n",
       "      <td>518197.312500</td>\n",
       "      <td>58369408</td>\n",
       "      <td>122</td>\n",
       "    </tr>\n",
       "    <tr>\n",
       "      <th>2</th>\n",
       "      <td>46.648834</td>\n",
       "      <td>50.471596</td>\n",
       "      <td>48.033710</td>\n",
       "      <td>441505.781250</td>\n",
       "      <td>58365040</td>\n",
       "      <td>122</td>\n",
       "    </tr>\n",
       "    <tr>\n",
       "      <th>3</th>\n",
       "      <td>46.648586</td>\n",
       "      <td>50.471092</td>\n",
       "      <td>48.032730</td>\n",
       "      <td>556973.000000</td>\n",
       "      <td>58369336</td>\n",
       "      <td>122</td>\n",
       "    </tr>\n",
       "    <tr>\n",
       "      <th>4</th>\n",
       "      <td>46.649689</td>\n",
       "      <td>50.471325</td>\n",
       "      <td>48.034214</td>\n",
       "      <td>544702.187500</td>\n",
       "      <td>58355805</td>\n",
       "      <td>122</td>\n",
       "    </tr>\n",
       "    <tr>\n",
       "      <th>5</th>\n",
       "      <td>46.649357</td>\n",
       "      <td>50.471149</td>\n",
       "      <td>48.034470</td>\n",
       "      <td>598597.812500</td>\n",
       "      <td>58170487</td>\n",
       "      <td>122</td>\n",
       "    </tr>\n",
       "    <tr>\n",
       "      <th>6</th>\n",
       "      <td>46.649689</td>\n",
       "      <td>50.471661</td>\n",
       "      <td>48.033070</td>\n",
       "      <td>375055.656250</td>\n",
       "      <td>58376852</td>\n",
       "      <td>122</td>\n",
       "    </tr>\n",
       "    <tr>\n",
       "      <th>7</th>\n",
       "      <td>46.647968</td>\n",
       "      <td>50.470863</td>\n",
       "      <td>48.032887</td>\n",
       "      <td>551544.437500</td>\n",
       "      <td>58203739</td>\n",
       "      <td>122</td>\n",
       "    </tr>\n",
       "    <tr>\n",
       "      <th>8</th>\n",
       "      <td>46.649826</td>\n",
       "      <td>50.470898</td>\n",
       "      <td>48.033073</td>\n",
       "      <td>622216.687500</td>\n",
       "      <td>58069002</td>\n",
       "      <td>122</td>\n",
       "    </tr>\n",
       "    <tr>\n",
       "      <th>9</th>\n",
       "      <td>46.648083</td>\n",
       "      <td>50.471363</td>\n",
       "      <td>48.032757</td>\n",
       "      <td>616549.125000</td>\n",
       "      <td>58112039</td>\n",
       "      <td>122</td>\n",
       "    </tr>\n",
       "    <tr>\n",
       "      <th>10</th>\n",
       "      <td>46.648216</td>\n",
       "      <td>50.470783</td>\n",
       "      <td>48.032356</td>\n",
       "      <td>632018.250000</td>\n",
       "      <td>58247371</td>\n",
       "      <td>122</td>\n",
       "    </tr>\n",
       "    <tr>\n",
       "      <th>11</th>\n",
       "      <td>46.649879</td>\n",
       "      <td>50.471478</td>\n",
       "      <td>48.032578</td>\n",
       "      <td>411251.781250</td>\n",
       "      <td>58141601</td>\n",
       "      <td>122</td>\n",
       "    </tr>\n",
       "    <tr>\n",
       "      <th>12</th>\n",
       "      <td>46.649109</td>\n",
       "      <td>50.472034</td>\n",
       "      <td>48.033802</td>\n",
       "      <td>264494.250000</td>\n",
       "      <td>58386354</td>\n",
       "      <td>122</td>\n",
       "    </tr>\n",
       "    <tr>\n",
       "      <th>13</th>\n",
       "      <td>46.648533</td>\n",
       "      <td>50.471039</td>\n",
       "      <td>48.032249</td>\n",
       "      <td>624027.187500</td>\n",
       "      <td>58331750</td>\n",
       "      <td>122</td>\n",
       "    </tr>\n",
       "    <tr>\n",
       "      <th>14</th>\n",
       "      <td>46.648743</td>\n",
       "      <td>50.472046</td>\n",
       "      <td>48.033161</td>\n",
       "      <td>254182.687500</td>\n",
       "      <td>58331749</td>\n",
       "      <td>122</td>\n",
       "    </tr>\n",
       "    <tr>\n",
       "      <th>15</th>\n",
       "      <td>46.649864</td>\n",
       "      <td>50.471180</td>\n",
       "      <td>48.034817</td>\n",
       "      <td>598560.062500</td>\n",
       "      <td>58382760</td>\n",
       "      <td>122</td>\n",
       "    </tr>\n",
       "    <tr>\n",
       "      <th>16</th>\n",
       "      <td>46.648994</td>\n",
       "      <td>50.471325</td>\n",
       "      <td>48.032181</td>\n",
       "      <td>498364.156250</td>\n",
       "      <td>58287782</td>\n",
       "      <td>122</td>\n",
       "    </tr>\n",
       "    <tr>\n",
       "      <th>17</th>\n",
       "      <td>46.650192</td>\n",
       "      <td>50.471409</td>\n",
       "      <td>48.031990</td>\n",
       "      <td>563442.187500</td>\n",
       "      <td>58283534</td>\n",
       "      <td>122</td>\n",
       "    </tr>\n",
       "    <tr>\n",
       "      <th>18</th>\n",
       "      <td>46.647591</td>\n",
       "      <td>50.471535</td>\n",
       "      <td>48.033550</td>\n",
       "      <td>535302.000000</td>\n",
       "      <td>58339184</td>\n",
       "      <td>122</td>\n",
       "    </tr>\n",
       "    <tr>\n",
       "      <th>19</th>\n",
       "      <td>46.649036</td>\n",
       "      <td>50.470936</td>\n",
       "      <td>48.031982</td>\n",
       "      <td>625085.750000</td>\n",
       "      <td>57851785</td>\n",
       "      <td>122</td>\n",
       "    </tr>\n",
       "    <tr>\n",
       "      <th>20</th>\n",
       "      <td>46.648464</td>\n",
       "      <td>50.471878</td>\n",
       "      <td>48.034336</td>\n",
       "      <td>432864.500000</td>\n",
       "      <td>57951751</td>\n",
       "      <td>122</td>\n",
       "    </tr>\n",
       "    <tr>\n",
       "      <th>21</th>\n",
       "      <td>46.647625</td>\n",
       "      <td>50.470718</td>\n",
       "      <td>48.033154</td>\n",
       "      <td>598801.250000</td>\n",
       "      <td>58184005</td>\n",
       "      <td>122</td>\n",
       "    </tr>\n",
       "    <tr>\n",
       "      <th>22</th>\n",
       "      <td>46.649235</td>\n",
       "      <td>50.470757</td>\n",
       "      <td>48.033089</td>\n",
       "      <td>625212.312500</td>\n",
       "      <td>58254197</td>\n",
       "      <td>122</td>\n",
       "    </tr>\n",
       "    <tr>\n",
       "      <th>23</th>\n",
       "      <td>46.648621</td>\n",
       "      <td>50.471149</td>\n",
       "      <td>48.034386</td>\n",
       "      <td>613892.937500</td>\n",
       "      <td>55138860</td>\n",
       "      <td>122</td>\n",
       "    </tr>\n",
       "    <tr>\n",
       "      <th>24</th>\n",
       "      <td>46.650803</td>\n",
       "      <td>50.472397</td>\n",
       "      <td>48.031582</td>\n",
       "      <td>155073.218750</td>\n",
       "      <td>58191072</td>\n",
       "      <td>122</td>\n",
       "    </tr>\n",
       "    <tr>\n",
       "      <th>25</th>\n",
       "      <td>46.648693</td>\n",
       "      <td>50.470951</td>\n",
       "      <td>48.033344</td>\n",
       "      <td>642443.500000</td>\n",
       "      <td>58332283</td>\n",
       "      <td>122</td>\n",
       "    </tr>\n",
       "    <tr>\n",
       "      <th>26</th>\n",
       "      <td>46.648956</td>\n",
       "      <td>50.471516</td>\n",
       "      <td>48.034889</td>\n",
       "      <td>416103.781250</td>\n",
       "      <td>58334510</td>\n",
       "      <td>122</td>\n",
       "    </tr>\n",
       "    <tr>\n",
       "      <th>27</th>\n",
       "      <td>46.647457</td>\n",
       "      <td>50.470325</td>\n",
       "      <td>48.032444</td>\n",
       "      <td>529780.750000</td>\n",
       "      <td>58211724</td>\n",
       "      <td>122</td>\n",
       "    </tr>\n",
       "    <tr>\n",
       "      <th>28</th>\n",
       "      <td>46.647545</td>\n",
       "      <td>50.469635</td>\n",
       "      <td>48.031887</td>\n",
       "      <td>472317.875000</td>\n",
       "      <td>57980274</td>\n",
       "      <td>122</td>\n",
       "    </tr>\n",
       "    <tr>\n",
       "      <th>29</th>\n",
       "      <td>46.649639</td>\n",
       "      <td>50.472435</td>\n",
       "      <td>48.031876</td>\n",
       "      <td>137119.015625</td>\n",
       "      <td>58317560</td>\n",
       "      <td>122</td>\n",
       "    </tr>\n",
       "    <tr>\n",
       "      <th>...</th>\n",
       "      <th>...</th>\n",
       "      <td>...</td>\n",
       "      <td>...</td>\n",
       "      <td>...</td>\n",
       "      <td>...</td>\n",
       "      <td>...</td>\n",
       "      <td>...</td>\n",
       "    </tr>\n",
       "    <tr>\n",
       "      <th rowspan=\"30\" valign=\"top\">47</th>\n",
       "      <th>2470350</th>\n",
       "      <td>44.401577</td>\n",
       "      <td>51.789410</td>\n",
       "      <td>52.143421</td>\n",
       "      <td>18.433969</td>\n",
       "      <td>58628089</td>\n",
       "      <td>127</td>\n",
       "    </tr>\n",
       "    <tr>\n",
       "      <th>2470351</th>\n",
       "      <td>42.902733</td>\n",
       "      <td>52.947956</td>\n",
       "      <td>52.347656</td>\n",
       "      <td>15.829842</td>\n",
       "      <td>58628114</td>\n",
       "      <td>127</td>\n",
       "    </tr>\n",
       "    <tr>\n",
       "      <th>2470352</th>\n",
       "      <td>42.503258</td>\n",
       "      <td>52.770645</td>\n",
       "      <td>52.143730</td>\n",
       "      <td>4.231452</td>\n",
       "      <td>58628116</td>\n",
       "      <td>127</td>\n",
       "    </tr>\n",
       "    <tr>\n",
       "      <th>2470353</th>\n",
       "      <td>42.380413</td>\n",
       "      <td>53.059055</td>\n",
       "      <td>52.003857</td>\n",
       "      <td>8.453901</td>\n",
       "      <td>58628117</td>\n",
       "      <td>127</td>\n",
       "    </tr>\n",
       "    <tr>\n",
       "      <th>2470354</th>\n",
       "      <td>42.947502</td>\n",
       "      <td>52.585777</td>\n",
       "      <td>52.110508</td>\n",
       "      <td>16.737438</td>\n",
       "      <td>58628118</td>\n",
       "      <td>127</td>\n",
       "    </tr>\n",
       "    <tr>\n",
       "      <th>2470355</th>\n",
       "      <td>42.779404</td>\n",
       "      <td>52.749760</td>\n",
       "      <td>52.283253</td>\n",
       "      <td>17.474424</td>\n",
       "      <td>58628119</td>\n",
       "      <td>127</td>\n",
       "    </tr>\n",
       "    <tr>\n",
       "      <th>2470356</th>\n",
       "      <td>43.108303</td>\n",
       "      <td>52.886097</td>\n",
       "      <td>51.968761</td>\n",
       "      <td>60.096485</td>\n",
       "      <td>58628120</td>\n",
       "      <td>127</td>\n",
       "    </tr>\n",
       "    <tr>\n",
       "      <th>2470357</th>\n",
       "      <td>43.291019</td>\n",
       "      <td>52.900257</td>\n",
       "      <td>51.873398</td>\n",
       "      <td>56.861469</td>\n",
       "      <td>58628121</td>\n",
       "      <td>127</td>\n",
       "    </tr>\n",
       "    <tr>\n",
       "      <th>2470358</th>\n",
       "      <td>43.258678</td>\n",
       "      <td>52.808788</td>\n",
       "      <td>51.920937</td>\n",
       "      <td>114.649315</td>\n",
       "      <td>58628122</td>\n",
       "      <td>127</td>\n",
       "    </tr>\n",
       "    <tr>\n",
       "      <th>2470359</th>\n",
       "      <td>43.062485</td>\n",
       "      <td>52.851883</td>\n",
       "      <td>51.917850</td>\n",
       "      <td>46.760509</td>\n",
       "      <td>58628123</td>\n",
       "      <td>127</td>\n",
       "    </tr>\n",
       "    <tr>\n",
       "      <th>2470360</th>\n",
       "      <td>45.720478</td>\n",
       "      <td>51.128029</td>\n",
       "      <td>50.609440</td>\n",
       "      <td>131.648300</td>\n",
       "      <td>58628157</td>\n",
       "      <td>127</td>\n",
       "    </tr>\n",
       "    <tr>\n",
       "      <th>2470361</th>\n",
       "      <td>47.221561</td>\n",
       "      <td>49.511116</td>\n",
       "      <td>52.811924</td>\n",
       "      <td>6.720039</td>\n",
       "      <td>58628217</td>\n",
       "      <td>127</td>\n",
       "    </tr>\n",
       "    <tr>\n",
       "      <th>2470362</th>\n",
       "      <td>42.165802</td>\n",
       "      <td>55.619591</td>\n",
       "      <td>50.422802</td>\n",
       "      <td>22.290997</td>\n",
       "      <td>58628233</td>\n",
       "      <td>127</td>\n",
       "    </tr>\n",
       "    <tr>\n",
       "      <th>2470363</th>\n",
       "      <td>42.039436</td>\n",
       "      <td>54.957787</td>\n",
       "      <td>51.516560</td>\n",
       "      <td>15.469007</td>\n",
       "      <td>58628234</td>\n",
       "      <td>127</td>\n",
       "    </tr>\n",
       "    <tr>\n",
       "      <th>2470364</th>\n",
       "      <td>41.200943</td>\n",
       "      <td>54.826187</td>\n",
       "      <td>52.114681</td>\n",
       "      <td>92.829994</td>\n",
       "      <td>58628235</td>\n",
       "      <td>127</td>\n",
       "    </tr>\n",
       "    <tr>\n",
       "      <th>2470365</th>\n",
       "      <td>41.388264</td>\n",
       "      <td>54.806763</td>\n",
       "      <td>51.928341</td>\n",
       "      <td>29.794273</td>\n",
       "      <td>58628236</td>\n",
       "      <td>127</td>\n",
       "    </tr>\n",
       "    <tr>\n",
       "      <th>2470366</th>\n",
       "      <td>43.100925</td>\n",
       "      <td>54.695900</td>\n",
       "      <td>48.361347</td>\n",
       "      <td>7.876321</td>\n",
       "      <td>58628237</td>\n",
       "      <td>127</td>\n",
       "    </tr>\n",
       "    <tr>\n",
       "      <th>2470367</th>\n",
       "      <td>42.648220</td>\n",
       "      <td>55.220318</td>\n",
       "      <td>49.737850</td>\n",
       "      <td>23.568872</td>\n",
       "      <td>58628240</td>\n",
       "      <td>127</td>\n",
       "    </tr>\n",
       "    <tr>\n",
       "      <th>2470368</th>\n",
       "      <td>42.856087</td>\n",
       "      <td>55.089550</td>\n",
       "      <td>49.398132</td>\n",
       "      <td>15.736362</td>\n",
       "      <td>58628241</td>\n",
       "      <td>127</td>\n",
       "    </tr>\n",
       "    <tr>\n",
       "      <th>2470369</th>\n",
       "      <td>42.952900</td>\n",
       "      <td>54.812893</td>\n",
       "      <td>48.901592</td>\n",
       "      <td>7.492440</td>\n",
       "      <td>58628242</td>\n",
       "      <td>127</td>\n",
       "    </tr>\n",
       "    <tr>\n",
       "      <th>2470370</th>\n",
       "      <td>47.417778</td>\n",
       "      <td>50.406380</td>\n",
       "      <td>52.117661</td>\n",
       "      <td>0.644093</td>\n",
       "      <td>58628255</td>\n",
       "      <td>127</td>\n",
       "    </tr>\n",
       "    <tr>\n",
       "      <th>2470371</th>\n",
       "      <td>47.527199</td>\n",
       "      <td>52.467194</td>\n",
       "      <td>47.415855</td>\n",
       "      <td>2.363693</td>\n",
       "      <td>58628299</td>\n",
       "      <td>127</td>\n",
       "    </tr>\n",
       "    <tr>\n",
       "      <th>2470372</th>\n",
       "      <td>47.533028</td>\n",
       "      <td>52.703342</td>\n",
       "      <td>47.493408</td>\n",
       "      <td>1.075663</td>\n",
       "      <td>58628300</td>\n",
       "      <td>127</td>\n",
       "    </tr>\n",
       "    <tr>\n",
       "      <th>2470373</th>\n",
       "      <td>43.021019</td>\n",
       "      <td>52.529324</td>\n",
       "      <td>51.973789</td>\n",
       "      <td>20.666836</td>\n",
       "      <td>58628373</td>\n",
       "      <td>127</td>\n",
       "    </tr>\n",
       "    <tr>\n",
       "      <th>2470374</th>\n",
       "      <td>44.489315</td>\n",
       "      <td>52.920021</td>\n",
       "      <td>45.290688</td>\n",
       "      <td>1.065083</td>\n",
       "      <td>58628374</td>\n",
       "      <td>127</td>\n",
       "    </tr>\n",
       "    <tr>\n",
       "      <th>2470375</th>\n",
       "      <td>44.116119</td>\n",
       "      <td>54.117611</td>\n",
       "      <td>44.505085</td>\n",
       "      <td>3.411104</td>\n",
       "      <td>58628375</td>\n",
       "      <td>127</td>\n",
       "    </tr>\n",
       "    <tr>\n",
       "      <th>2470376</th>\n",
       "      <td>41.948608</td>\n",
       "      <td>53.385941</td>\n",
       "      <td>52.083534</td>\n",
       "      <td>6.630814</td>\n",
       "      <td>58628376</td>\n",
       "      <td>127</td>\n",
       "    </tr>\n",
       "    <tr>\n",
       "      <th>2470377</th>\n",
       "      <td>42.090679</td>\n",
       "      <td>53.283157</td>\n",
       "      <td>52.149834</td>\n",
       "      <td>9.253721</td>\n",
       "      <td>58628377</td>\n",
       "      <td>127</td>\n",
       "    </tr>\n",
       "    <tr>\n",
       "      <th>2470378</th>\n",
       "      <td>42.311520</td>\n",
       "      <td>54.491764</td>\n",
       "      <td>51.397469</td>\n",
       "      <td>10.536137</td>\n",
       "      <td>58628378</td>\n",
       "      <td>127</td>\n",
       "    </tr>\n",
       "    <tr>\n",
       "      <th>2470379</th>\n",
       "      <td>46.122204</td>\n",
       "      <td>50.198963</td>\n",
       "      <td>52.686401</td>\n",
       "      <td>193.612411</td>\n",
       "      <td>58628956</td>\n",
       "      <td>127</td>\n",
       "    </tr>\n",
       "  </tbody>\n",
       "</table>\n",
       "<p>118652623 rows × 6 columns</p>\n",
       "</div>"
      ]
     },
     "execution_count": 7,
     "metadata": {
     },
     "output_type": "execute_result"
    }
   ],
   "source": [
    "dfa"
   ]
  },
  {
   "cell_type": "code",
   "execution_count": 8,
   "metadata": {
    "collapsed": false,
    "scrolled": true
   },
   "outputs": [
    {
     "data": {
      "text/html": [
       "<div>\n",
       "<style scoped>\n",
       "    .dataframe tbody tr th:only-of-type {\n",
       "        vertical-align: middle;\n",
       "    }\n",
       "\n",
       "    .dataframe tbody tr th {\n",
       "        vertical-align: top;\n",
       "    }\n",
       "\n",
       "    .dataframe thead th {\n",
       "        text-align: right;\n",
       "    }\n",
       "</style>\n",
       "<table border=\"1\" class=\"dataframe\">\n",
       "  <thead>\n",
       "    <tr style=\"text-align: right;\">\n",
       "      <th></th>\n",
       "      <th>x</th>\n",
       "      <th>y</th>\n",
       "      <th>z</th>\n",
       "      <th>dens</th>\n",
       "      <th>ID</th>\n",
       "      <th>snap</th>\n",
       "    </tr>\n",
       "  </thead>\n",
       "  <tbody>\n",
       "    <tr>\n",
       "      <th>count</th>\n",
       "      <td>1.186526e+08</td>\n",
       "      <td>1.186526e+08</td>\n",
       "      <td>1.186526e+08</td>\n",
       "      <td>1.186526e+08</td>\n",
       "      <td>1.186526e+08</td>\n",
       "      <td>1.186526e+08</td>\n",
       "    </tr>\n",
       "    <tr>\n",
       "      <th>mean</th>\n",
       "      <td>1.809891e+01</td>\n",
       "      <td>1.809891e+01</td>\n",
       "      <td>1.809891e+01</td>\n",
       "      <td>2.521798e+04</td>\n",
       "      <td>4.410636e+07</td>\n",
       "      <td>1.244991e+02</td>\n",
       "    </tr>\n",
       "    <tr>\n",
       "      <th>std</th>\n",
       "      <td>3.403425e+01</td>\n",
       "      <td>3.403425e+01</td>\n",
       "      <td>3.403425e+01</td>\n",
       "      <td>6.113227e+05</td>\n",
       "      <td>6.306486e+06</td>\n",
       "      <td>1.707818e+00</td>\n",
       "    </tr>\n",
       "    <tr>\n",
       "      <th>min</th>\n",
       "      <td>3.456381e-07</td>\n",
       "      <td>4.836077e-07</td>\n",
       "      <td>1.393293e-06</td>\n",
       "      <td>1.507569e-02</td>\n",
       "      <td>3.355443e+07</td>\n",
       "      <td>1.220000e+02</td>\n",
       "    </tr>\n",
       "    <tr>\n",
       "      <th>25%</th>\n",
       "      <td>2.774444e+01</td>\n",
       "      <td>3.488257e+01</td>\n",
       "      <td>3.077706e+01</td>\n",
       "      <td>1.188143e+00</td>\n",
       "      <td>3.872657e+07</td>\n",
       "      <td>1.230000e+02</td>\n",
       "    </tr>\n",
       "    <tr>\n",
       "      <th>50%</th>\n",
       "      <td>4.635962e+01</td>\n",
       "      <td>5.126282e+01</td>\n",
       "      <td>4.803590e+01</td>\n",
       "      <td>9.586143e+00</td>\n",
       "      <td>4.393541e+07</td>\n",
       "      <td>1.240000e+02</td>\n",
       "    </tr>\n",
       "    <tr>\n",
       "      <th>75%</th>\n",
       "      <td>6.893924e+01</td>\n",
       "      <td>6.709458e+01</td>\n",
       "      <td>6.515394e+01</td>\n",
       "      <td>8.671930e+01</td>\n",
       "      <td>4.909708e+07</td>\n",
       "      <td>1.260000e+02</td>\n",
       "    </tr>\n",
       "    <tr>\n",
       "      <th>max</th>\n",
       "      <td>1.000000e+02</td>\n",
       "      <td>1.000000e+02</td>\n",
       "      <td>1.000000e+02</td>\n",
       "      <td>2.270858e+08</td>\n",
       "      <td>5.862930e+07</td>\n",
       "      <td>1.270000e+02</td>\n",
       "    </tr>\n",
       "  </tbody>\n",
       "</table>\n",
       "</div>"
      ]
     },
     "execution_count": 8,
     "metadata": {
     },
     "output_type": "execute_result"
    }
   ],
   "source": [
    "dfa.describe()"
   ]
  },
  {
   "cell_type": "markdown",
   "metadata": {
    "collapsed": false
   },
   "source": [
    "sel=(df0.x>50)&(df0.x<55)\n",
    "df0[sel].plot.scatter(x='x',y='y',s=0.1)"
   ]
  },
  {
   "cell_type": "code",
   "execution_count": 9,
   "metadata": {
    "collapsed": false
   },
   "outputs": [
    {
     "name": "stdout",
     "output_type": "stream",
     "text": [
      "                 x          y          z          dens        ID  snap\n",
      "0  5027  46.652546  50.480007  48.031471  526875.62500  58304188   122\n",
      "8  986   46.604977  50.537735  48.017849  170030.31250  58304188   123\n",
      "16 206   46.574314  50.577168  48.006504  522335.90625  58304188   124\n",
      "24 28    46.531536  50.637737  47.988941  882011.37500  58304188   125\n",
      "32 236   46.502686  50.679474  47.978268  803143.25000  58304188   126\n",
      "40 160   46.459652  50.741268  47.961018  178254.18750  58304188   127\n"
     ]
    }
   ],
   "source": [
    "dfSelect = dfa[dfa[\"ID\"] == 58304188]\n",
    "print(dfSelect)"
   ]
  },
  {
   "cell_type": "code",
   "execution_count": 10,
   "metadata": {
    "collapsed": false
   },
   "outputs": [
   ],
   "source": [
    "x = dfSelect[\"snap\"]\n",
    "y = dfSelect[\"x\"]\n",
    "\n",
    "xSmooth = np.linspace(np.min(x), np.max(x), 51)\n",
    "fspline = scipy.interpolate.interp1d(x, y, \"quadratic\")\n",
    "fspline2 = scipy.interpolate.interp1d(x, y, \"cubic\")\n",
    "ySmooth = fspline(xSmooth)\n",
    "y2Smooth = fspline2(xSmooth)"
   ]
  },
  {
   "cell_type": "code",
   "execution_count": 11,
   "metadata": {
    "collapsed": false,
    "scrolled": true
   },
   "outputs": [
    {
     "data": {
      "image/png": "[encoded data removed]"
     },
     "execution_count": 11,
     "metadata": {
     },
     "output_type": "execute_result"
    }
   ],
   "source": [
    "plt.plot(xSmooth, ySmooth, \":\")\n",
    "plt.plot(xSmooth, y2Smooth, \"g:\")\n",
    "plt.plot(x, y, \"o\")\n",
    "plt.show()"
   ]
  },
  {
   "cell_type": "code",
   "execution_count": 25,
   "metadata": {
    "collapsed": false
   },
   "outputs": [
   ],
   "source": [
    "snap = dfSelect[\"snap\"]\n",
    "xRaw = dfSelect[\"x\"]\n",
    "yRaw = dfSelect[\"y\"]\n",
    "zRaw = dfSelect[\"z\"]\n",
    "\n",
    "snapSmooth = np.linspace(np.min(snap), np.max(snap), 51)\n",
    "\n",
    "smoothingType = [\"linear\", \"nearest\", \"quadratic\", \"cubic\"]\n",
    "\n",
    "xSpline = scipy.interpolate.interp1d(snap, xRaw, smoothingType[2])\n",
    "ySpline = scipy.interpolate.interp1d(snap, yRaw, smoothingType[2])\n",
    "zSpline = scipy.interpolate.interp1d(snap, zRaw, smoothingType[2])\n",
    "\n",
    "xSmooth = xSpline(snapSmooth)\n",
    "ySmooth = ySpline(snapSmooth)\n",
    "zSmooth = zSpline(snapSmooth)"
   ]
  },
  {
   "cell_type": "code",
   "execution_count": 26,
   "metadata": {
    "collapsed": false,
    "scrolled": true
   },
   "outputs": [
    {
     "data": {
      "image/png": "[encoded data removed]"
     },
     "execution_count": 26,
     "metadata": {
     },
     "output_type": "execute_result"
    }
   ],
   "source": [
    "from mpl_toolkits.mplot3d import Axes3D\n",
    "\n",
    "fig = plt.figure()\n",
    "ax = fig.gca(projection=\"3d\")\n",
    "ax.plot(xSmooth, ySmooth, zSmooth)\n",
    "\n",
    "ax.view_init(30, 120)\n",
    "plt.show()"
   ]
  },
  {
   "cell_type": "code",
   "execution_count": 30,
   "metadata": {
    "collapsed": false,
    "scrolled": true
   },
   "outputs": [
    {
     "data": {
      "text/html": [
       "\n",
       "    <div class=\"bk-root\">\n",
       "        <a href=\"https://bokeh.pydata.org\" target=\"_blank\" class=\"bk-logo bk-logo-small bk-logo-notebook\"></a>\n",
       "        <span id=\"1969\">Loading BokehJS ...</span>\n",
       "    </div>"
      ]
     },
     "execution_count": 30,
     "metadata": {
     },
     "output_type": "execute_result"
    },
    {
     "data": {
      "application/javascript": "\n(function(root) {\n  function now() {\n    return new Date();\n  }\n\n  var force = true;\n\n  if (typeof (root._bokeh_onload_callbacks) === \"undefined\" || force === true) {\n    root._bokeh_onload_callbacks = [];\n    root._bokeh_is_loading = undefined;\n  }\n\n  var JS_MIME_TYPE = 'application/javascript';\n  var HTML_MIME_TYPE = 'text/html';\n  var EXEC_MIME_TYPE = 'application/vnd.bokehjs_exec.v0+json';\n  var CLASS_NAME = 'output_bokeh rendered_html';\n\n  /**\n   * Render data to the DOM node\n   */\n  function render(props, node) {\n    var script = document.createElement(\"script\");\n    node.appendChild(script);\n  }\n\n  /**\n   * Handle when an output is cleared or removed\n   */\n  function handleClearOutput(event, handle) {\n    var cell = handle.cell;\n\n    var id = cell.output_area._bokeh_element_id;\n    var server_id = cell.output_area._bokeh_server_id;\n    // Clean up Bokeh references\n    if (id != null && id in Bokeh.index) {\n      Bokeh.index[id].model.document.clear();\n      delete Bokeh.index[id];\n    }\n\n    if (server_id !== undefined) {\n      // Clean up Bokeh references\n      var cmd = \"from bokeh.io.state import curstate; print(curstate().uuid_to_server['\" + server_id + \"'].get_sessions()[0].document.roots[0]._id)\";\n      cell.notebook.kernel.execute(cmd, {\n        iopub: {\n          output: function(msg) {\n            var id = msg.content.text.trim();\n            if (id in Bokeh.index) {\n              Bokeh.index[id].model.document.clear();\n              delete Bokeh.index[id];\n            }\n          }\n        }\n      });\n      // Destroy server and session\n      var cmd = \"import bokeh.io.notebook as ion; ion.destroy_server('\" + server_id + \"')\";\n      cell.notebook.kernel.execute(cmd);\n    }\n  }\n\n  /**\n   * Handle when a new output is added\n   */\n  function handleAddOutput(event, handle) {\n    var output_area = handle.output_area;\n    var output = handle.output;\n\n    // limit handleAddOutput to display_data with EXEC_MIME_TYPE content only\n    if ((output.output_type != \"display_data\") || (!output.data.hasOwnProperty(EXEC_MIME_TYPE))) {\n      return\n    }\n\n    var toinsert = output_area.element.find(\".\" + CLASS_NAME.split(' ')[0]);\n\n    if (output.metadata[EXEC_MIME_TYPE][\"id\"] !== undefined) {\n      toinsert[toinsert.length - 1].firstChild.textContent = output.data[JS_MIME_TYPE];\n      // store reference to embed id on output_area\n      output_area._bokeh_element_id = output.metadata[EXEC_MIME_TYPE][\"id\"];\n    }\n    if (output.metadata[EXEC_MIME_TYPE][\"server_id\"] !== undefined) {\n      var bk_div = document.createElement(\"div\");\n      bk_div.innerHTML = output.data[HTML_MIME_TYPE];\n      var script_attrs = bk_div.children[0].attributes;\n      for (var i = 0; i < script_attrs.length; i++) {\n        toinsert[toinsert.length - 1].firstChild.setAttribute(script_attrs[i].name, script_attrs[i].value);\n      }\n      // store reference to server id on output_area\n      output_area._bokeh_server_id = output.metadata[EXEC_MIME_TYPE][\"server_id\"];\n    }\n  }\n\n  function register_renderer(events, OutputArea) {\n\n    function append_mime(data, metadata, element) {\n      // create a DOM node to render to\n      var toinsert = this.create_output_subarea(\n        metadata,\n        CLASS_NAME,\n        EXEC_MIME_TYPE\n      );\n      this.keyboard_manager.register_events(toinsert);\n      // Render to node\n      var props = {data: data, metadata: metadata[EXEC_MIME_TYPE]};\n      render(props, toinsert[toinsert.length - 1]);\n      element.append(toinsert);\n      return toinsert\n    }\n\n    /* Handle when an output is cleared or removed */\n    events.on('clear_output.CodeCell', handleClearOutput);\n    events.on('delete.Cell', handleClearOutput);\n\n    /* Handle when a new output is added */\n    events.on('output_added.OutputArea', handleAddOutput);\n\n    /**\n     * Register the mime type and append_mime function with output_area\n     */\n    OutputArea.prototype.register_mime_type(EXEC_MIME_TYPE, append_mime, {\n      /* Is output safe? */\n      safe: true,\n      /* Index of renderer in `output_area.display_order` */\n      index: 0\n    });\n  }\n\n  // register the mime type if in Jupyter Notebook environment and previously unregistered\n  if (root.Jupyter !== undefined) {\n    var events = require('base/js/events');\n    var OutputArea = require('notebook/js/outputarea').OutputArea;\n\n    if (OutputArea.prototype.mime_types().indexOf(EXEC_MIME_TYPE) == -1) {\n      register_renderer(events, OutputArea);\n    }\n  }\n\n  \n  if (typeof (root._bokeh_timeout) === \"undefined\" || force === true) {\n    root._bokeh_timeout = Date.now() + 5000;\n    root._bokeh_failed_load = false;\n  }\n\n  var NB_LOAD_WARNING = {'data': {'text/html':\n     \"<div style='background-color: #fdd'>\\n\"+\n     \"<p>\\n\"+\n     \"BokehJS does not appear to have successfully loaded. If loading BokehJS from CDN, this \\n\"+\n     \"may be due to a slow or bad network connection. Possible fixes:\\n\"+\n     \"</p>\\n\"+\n     \"<ul>\\n\"+\n     \"<li>re-rerun `output_notebook()` to attempt to load from CDN again, or</li>\\n\"+\n     \"<li>use INLINE resources instead, as so:</li>\\n\"+\n     \"</ul>\\n\"+\n     \"<code>\\n\"+\n     \"from bokeh.resources import INLINE\\n\"+\n     \"output_notebook(resources=INLINE)\\n\"+\n     \"</code>\\n\"+\n     \"</div>\"}};\n\n  function display_loaded() {\n    var el = document.getElementById(\"1969\");\n    if (el != null) {\n      el.textContent = \"BokehJS is loading...\";\n    }\n    if (root.Bokeh !== undefined) {\n      if (el != null) {\n        el.textContent = \"BokehJS \" + root.Bokeh.version + \" successfully loaded.\";\n      }\n    } else if (Date.now() < root._bokeh_timeout) {\n      setTimeout(display_loaded, 100)\n    }\n  }\n\n\n  function run_callbacks() {\n    try {\n      root._bokeh_onload_callbacks.forEach(function(callback) { callback() });\n    }\n    finally {\n      delete root._bokeh_onload_callbacks\n    }\n    console.info(\"Bokeh: all callbacks have finished\");\n  }\n\n  function load_libs(js_urls, callback) {\n    root._bokeh_onload_callbacks.push(callback);\n    if (root._bokeh_is_loading > 0) {\n      console.log(\"Bokeh: BokehJS is being loaded, scheduling callback at\", now());\n      return null;\n    }\n    if (js_urls == null || js_urls.length === 0) {\n      run_callbacks();\n      return null;\n    }\n    console.log(\"Bokeh: BokehJS not loaded, scheduling load and callback at\", now());\n    root._bokeh_is_loading = js_urls.length;\n    for (var i = 0; i < js_urls.length; i++) {\n      var url = js_urls[i];\n      var s = document.createElement('script');\n      s.src = url;\n      s.async = false;\n      s.onreadystatechange = s.onload = function() {\n        root._bokeh_is_loading--;\n        if (root._bokeh_is_loading === 0) {\n          console.log(\"Bokeh: all BokehJS libraries loaded\");\n          run_callbacks()\n        }\n      };\n      s.onerror = function() {\n        console.warn(\"failed to load library \" + url);\n      };\n      console.log(\"Bokeh: injecting script tag for BokehJS library: \", url);\n      document.getElementsByTagName(\"head\")[0].appendChild(s);\n    }\n  };var element = document.getElementById(\"1969\");\n  if (element == null) {\n    console.log(\"Bokeh: ERROR: autoload.js configured with elementid '1969' but no matching script tag was found. \")\n    return false;\n  }\n\n  var js_urls = [\"https://cdn.pydata.org/bokeh/release/bokeh-1.0.3.min.js\", \"https://cdn.pydata.org/bokeh/release/bokeh-widgets-1.0.3.min.js\", \"https://cdn.pydata.org/bokeh/release/bokeh-tables-1.0.3.min.js\", \"https://cdn.pydata.org/bokeh/release/bokeh-gl-1.0.3.min.js\"];\n\n  var inline_js = [\n    function(Bokeh) {\n      Bokeh.set_log_level(\"info\");\n    },\n    \n    function(Bokeh) {\n      \n    },\n    function(Bokeh) {\n      console.log(\"Bokeh: injecting CSS: https://cdn.pydata.org/bokeh/release/bokeh-1.0.3.min.css\");\n      Bokeh.embed.inject_css(\"https://cdn.pydata.org/bokeh/release/bokeh-1.0.3.min.css\");\n      console.log(\"Bokeh: injecting CSS: https://cdn.pydata.org/bokeh/release/bokeh-widgets-1.0.3.min.css\");\n      Bokeh.embed.inject_css(\"https://cdn.pydata.org/bokeh/release/bokeh-widgets-1.0.3.min.css\");\n      console.log(\"Bokeh: injecting CSS: https://cdn.pydata.org/bokeh/release/bokeh-tables-1.0.3.min.css\");\n      Bokeh.embed.inject_css(\"https://cdn.pydata.org/bokeh/release/bokeh-tables-1.0.3.min.css\");\n    }\n  ];\n\n  function run_inline_js() {\n    \n    if ((root.Bokeh !== undefined) || (force === true)) {\n      for (var i = 0; i < inline_js.length; i++) {\n        inline_js[i].call(root, root.Bokeh);\n      }if (force === true) {\n        display_loaded();\n      }} else if (Date.now() < root._bokeh_timeout) {\n      setTimeout(run_inline_js, 100);\n    } else if (!root._bokeh_failed_load) {\n      console.log(\"Bokeh: BokehJS failed to load within specified timeout.\");\n      root._bokeh_failed_load = true;\n    } else if (force !== true) {\n      var cell = $(document.getElementById(\"1969\")).parents('.cell').data().cell;\n      cell.output_area.append_execute_result(NB_LOAD_WARNING)\n    }\n\n  }\n\n  if (root._bokeh_is_loading === 0) {\n    console.log(\"Bokeh: BokehJS loaded, going straight to plotting\");\n    run_inline_js();\n  } else {\n    load_libs(js_urls, function() {\n      console.log(\"Bokeh: BokehJS plotting callback run at\", now());\n      run_inline_js();\n    });\n  }\n}(window));"
     },
     "execution_count": 30,
     "metadata": {
     },
     "output_type": "execute_result"
    },
    {
     "data": {
      "text/html": [
       "\n",
       "\n",
       "\n",
       "\n",
       "\n",
       "\n",
       "  <div class=\"bk-root\" id=\"54184473-4763-4cdb-a534-ccf132bc7cb0\" data-root-id=\"2212\"></div>\n"
      ]
     },
     "execution_count": 30,
     "metadata": {
     },
     "output_type": "execute_result"
    },
    {
     "data": {
      "application/javascript": "(function(root) {\n  function embed_document(root) {\n    \n  var docs_json = {\"4d2c9f08-f5e5-41fa-8f0f-b25e0a289f9e\":{\"roots\":{\"references\":[{\"attributes\":{\"children\":[{\"id\":\"2211\",\"type\":\"ToolbarBox\"},{\"id\":\"2209\",\"type\":\"Column\"}]},\"id\":\"2212\",\"type\":\"Column\"},{\"attributes\":{},\"id\":\"1987\",\"type\":\"BasicTicker\"},{\"attributes\":{\"formatter\":{\"id\":\"2017\",\"type\":\"BasicTickFormatter\"},\"plot\":{\"id\":\"1971\",\"subtype\":\"Figure\",\"type\":\"Plot\"},\"ticker\":{\"id\":\"1987\",\"type\":\"BasicTicker\"}},\"id\":\"1986\",\"type\":\"LinearAxis\"},{\"attributes\":{},\"id\":\"1982\",\"type\":\"BasicTicker\"},{\"attributes\":{\"formatter\":{\"id\":\"2015\",\"type\":\"BasicTickFormatter\"},\"plot\":{\"id\":\"1971\",\"subtype\":\"Figure\",\"type\":\"Plot\"},\"ticker\":{\"id\":\"1982\",\"type\":\"BasicTicker\"}},\"id\":\"1981\",\"type\":\"LinearAxis\"},{\"attributes\":{\"plot\":{\"id\":\"1971\",\"subtype\":\"Figure\",\"type\":\"Plot\"},\"ticker\":{\"id\":\"1982\",\"type\":\"BasicTicker\"}},\"id\":\"1985\",\"type\":\"Grid\"},{\"attributes\":{},\"id\":\"2050\",\"type\":\"Selection\"},{\"attributes\":{\"data_source\":{\"id\":\"2008\",\"type\":\"ColumnDataSource\"},\"glyph\":{\"id\":\"2009\",\"type\":\"Circle\"},\"hover_glyph\":null,\"muted_glyph\":null,\"nonselection_glyph\":{\"id\":\"2010\",\"type\":\"Circle\"},\"selection_glyph\":null,\"view\":{\"id\":\"2012\",\"type\":\"CDSView\"}},\"id\":\"2011\",\"type\":\"GlyphRenderer\"},{\"attributes\":{},\"id\":\"2203\",\"type\":\"UnionRenderers\"},{\"attributes\":{\"below\":[{\"id\":\"2065\",\"type\":\"LinearAxis\"}],\"left\":[{\"id\":\"2070\",\"type\":\"LinearAxis\"}],\"plot_height\":400,\"plot_width\":400,\"renderers\":[{\"id\":\"2065\",\"type\":\"LinearAxis\"},{\"id\":\"2069\",\"type\":\"Grid\"},{\"id\":\"2070\",\"type\":\"LinearAxis\"},{\"id\":\"2074\",\"type\":\"Grid\"},{\"id\":\"2083\",\"type\":\"BoxAnnotation\"},{\"id\":\"2088\",\"type\":\"BoxAnnotation\"},{\"id\":\"2104\",\"type\":\"Legend\"},{\"id\":\"2095\",\"type\":\"GlyphRenderer\"},{\"id\":\"2109\",\"type\":\"GlyphRenderer\"},{\"id\":\"2123\",\"type\":\"GlyphRenderer\"},{\"id\":\"2140\",\"type\":\"GlyphRenderer\"},{\"id\":\"2159\",\"type\":\"GlyphRenderer\"}],\"title\":{\"id\":\"2054\",\"type\":\"Title\"},\"toolbar\":{\"id\":\"2081\",\"type\":\"Toolbar\"},\"toolbar_location\":null,\"x_range\":{\"id\":\"2057\",\"type\":\"DataRange1d\"},\"x_scale\":{\"id\":\"2061\",\"type\":\"LinearScale\"},\"y_range\":{\"id\":\"2059\",\"type\":\"DataRange1d\"},\"y_scale\":{\"id\":\"2063\",\"type\":\"LinearScale\"}},\"id\":\"2055\",\"subtype\":\"Figure\",\"type\":\"Plot\"},{\"attributes\":{\"fill_color\":{\"value\":\"green\"},\"line_color\":{\"value\":\"green\"},\"x\":{\"field\":\"x\"},\"y\":{\"field\":\"y\"}},\"id\":\"2038\",\"type\":\"Circle\"},{\"attributes\":{\"callback\":null,\"overlay\":{\"id\":\"2004\",\"type\":\"BoxAnnotation\"}},\"id\":\"1996\",\"type\":\"BoxSelectTool\"},{\"attributes\":{},\"id\":\"2099\",\"type\":\"BasicTickFormatter\"},{\"attributes\":{},\"id\":\"2186\",\"type\":\"Selection\"},{\"attributes\":{\"children\":[{\"id\":\"2208\",\"type\":\"Row\"}]},\"id\":\"2209\",\"type\":\"Column\"},{\"attributes\":{\"formatter\":{\"id\":\"2099\",\"type\":\"BasicTickFormatter\"},\"plot\":{\"id\":\"2055\",\"subtype\":\"Figure\",\"type\":\"Plot\"},\"ticker\":{\"id\":\"2066\",\"type\":\"BasicTicker\"}},\"id\":\"2065\",\"type\":\"LinearAxis\"},{\"attributes\":{\"fill_alpha\":{\"value\":0.1},\"fill_color\":{\"value\":\"#1f77b4\"},\"line_alpha\":{\"value\":0.1},\"line_color\":{\"value\":\"#1f77b4\"},\"x\":{\"field\":\"x\"},\"y\":{\"field\":\"y\"}},\"id\":\"2039\",\"type\":\"Circle\"},{\"attributes\":{},\"id\":\"2185\",\"type\":\"UnionRenderers\"},{\"attributes\":{\"bottom_units\":\"screen\",\"fill_alpha\":{\"value\":0.5},\"fill_color\":{\"value\":\"lightgrey\"},\"left_units\":\"screen\",\"level\":\"overlay\",\"line_alpha\":{\"value\":1.0},\"line_color\":{\"value\":\"black\"},\"line_dash\":[4,4],\"line_width\":{\"value\":2},\"plot\":null,\"render_mode\":\"css\",\"right_units\":\"screen\",\"top_units\":\"screen\"},\"id\":\"2004\",\"type\":\"BoxAnnotation\"},{\"attributes\":{\"children\":[{\"id\":\"1971\",\"subtype\":\"Figure\",\"type\":\"Plot\"},{\"id\":\"2055\",\"subtype\":\"Figure\",\"type\":\"Plot\"}]},\"id\":\"2208\",\"type\":\"Row\"},{\"attributes\":{\"source\":{\"id\":\"2092\",\"type\":\"ColumnDataSource\"}},\"id\":\"2096\",\"type\":\"CDSView\"},{\"attributes\":{},\"id\":\"2173\",\"type\":\"Selection\"},{\"attributes\":{\"data_source\":{\"id\":\"2092\",\"type\":\"ColumnDataSource\"},\"glyph\":{\"id\":\"2093\",\"type\":\"Circle\"},\"hover_glyph\":null,\"muted_glyph\":null,\"nonselection_glyph\":{\"id\":\"2094\",\"type\":\"Circle\"},\"selection_glyph\":null,\"view\":{\"id\":\"2096\",\"type\":\"CDSView\"}},\"id\":\"2095\",\"type\":\"GlyphRenderer\"},{\"attributes\":{\"callback\":null,\"data\":{\"x\":{\"__ndarray__\":\"AAAAAAAAAACRGkt8Vz/AP5EaS3xXP9A/2qdwOgNf2D+RGkt8Vz/gPzXhXVstT+Q/2qdwOgNf6D9+boMZ2W7sP5EaS3xXP/A/433Ua0JH8j814V1bLU/0P4dE50oYV/Y/2qdwOgNf+D8sC/op7mb6P35ugxnZbvw/0NEMCcR2/j+RGkt8Vz8AQDrMD/RMQwFA433Ua0JHAkCML5njN0sDQDXhXVstTwRA3pIi0yJTBUCHROdKGFcGQDD2q8INWwdA2qdwOgNfCECDWTWy+GIJQCwL+inuZgpA1by+oeNqC0B+boMZ2W4MQCcgSJHOcg1A0NEMCcR2DkB5g9GAuXoPQJEaS3xXPxBAZnMtOFLBEEA6zA/0TEMRQA8l8q9HxRFA433Ua0JHEkC41rYnPckSQIwvmeM3SxNAYYh7nzLNE0A14V1bLU8UQAo6QBco0RRA3pIi0yJTFUCz6wSPHdUVQIdE50oYVxZAXJ3JBhPZFkAw9qvCDVsXQAVPjn4I3RdA2qdwOgNfGECuAFP2/eAYQINZNbL4YhlAV7IXbvPkGUAsC/op7mYaQABk3OXo6BpA1by+oeNqG0CpFaFd3uwbQH5ugxnZbhxAUsdl1dPwHEAnIEiRznIdQPt4Kk3J9B1A0NEMCcR2HkCkKu/EvvgeQHmD0YC5eh9ATdyzPLT8H0CRGkt8Vz8gQPtGPNpUgCBAZnMtOFLBIEDQnx6WTwIhQDrMD/RMQyFApPgAUkqEIUAPJfKvR8UhQHlR4w1FBiJA433Ua0JHIkBNqsXJP4giQLjWtic9ySJAIgOohToKI0CML5njN0sjQPZbikE1jCNAYYh7nzLNI0DLtGz9Lw4kQDXhXVstTyRAoA1PuSqQJEAKOkAXKNEkQHRmMXUlEiVA3pIi0yJTJUBJvxMxIJQlQLPrBI8d1SVAHRj27BoWJkCHROdKGFcmQPJw2KgVmCZAXJ3JBhPZJkDGybpkEBonQDD2q8INWydAmyKdIAucJ0AFT45+CN0nQG97f9wFHihA2qdwOgNfKEBE1GGYAKAoQK4AU/b94ChAGC1EVPshKUA=\",\"dtype\":\"float64\",\"shape\":[100]},\"y\":{\"__ndarray__\":\"AAAAAAAAAADwgwJ4LjTQP5qI2QHPEuA/+5MNU1HJ5z8ZTT7q2B3vP0aFmgwa+fI/ABg/lCAV9j+IQCEcMdb4P3fOhmLzMPs/EyzujrQb/T/9Izwlj47+PxccgYyLg/8/g6xao7j2/z9mZrL8O+b/P7+X94FZUv8/xVNiW3I9/j9RB8Ai+6v8P5FWKYlppPo/oSg6uxkv+D/Th2bxK1b1PyZGRbpaJfI/8qg+VZVT7T/4C4p0qOPlP+UppLIiM9w/3FNHxZdVyD/J23zJpD6wv+3ENsZjOdS/wo12/ecH4r/dgWKM2Kjpv2MTsJELcPC/83ixWvXH87+358MBZM72v5eCD4nhdvm/rExY6Hq2+7+TIxAn7YP9vwSssILL1/6/70I4BJ6s/7/vOc8G+P7/vzTGy1KGzf+/3176khQZ/7/C8a4NiuT9vzGcHq/dNPy/l0FFlgER+r+FGZN4xoH3vx8WPFK3kfS/Cli7+O1M8b+HQNqEwoHrv9kfIiFb+OO/gKyggGI52L8EhrXMjDzAvyGGtcyMPMA/jqyggGI52D/gHyIhW/jjP39A2oTCges/DVi7+O1M8T8bFjxSt5H0P4cZk3jGgfc/lUFFlgER+j8ynB6v3TT8P8Hxrg2K5P0/4F76khQZ/z80xstShs3/P+85zwb4/v8/8EI4BJ6s/z8DrLCCy9f+P5UjECftg/0/p0xY6Hq2+z+Vgg+J4Xb5P7fnwwFkzvY/9nixWvXH8z9dE7CRC3DwP9eBYozYqOk/w412/ecH4j/+xDbGYznUP0/bfMmkPrA/+FNHxZdVyL/UKaSyIjPcv+gLinSo4+W/+Kg+VZVT7b8lRkW6WiXyv8+HZvErVvW/pig6uxkv+L+TVimJaaT6v1EHwCL7q/y/xFNiW3I9/r/Al/eBWVL/v2Zmsvw75v+/g6xao7j2/78YHIGMi4P/v/sjPCWPjv6/EyzujrQb/b94zoZi8zD7v4xAIRwx1vi//Bc/lCAV9r9GhZoMGvnyvx9NPurYHe+/65MNU1HJ57+SiNkBzxLgv/GDAnguNNC/B1wUMyam0bw=\",\"dtype\":\"float64\",\"shape\":[100]}},\"selected\":{\"id\":\"2050\",\"type\":\"Selection\"},\"selection_policy\":{\"id\":\"2049\",\"type\":\"UnionRenderers\"}},\"id\":\"2022\",\"type\":\"ColumnDataSource\"},{\"attributes\":{},\"id\":\"2101\",\"type\":\"BasicTickFormatter\"},{\"attributes\":{\"bottom_units\":\"screen\",\"fill_alpha\":{\"value\":0.5},\"fill_color\":{\"value\":\"lightgrey\"},\"left_units\":\"screen\",\"level\":\"overlay\",\"line_alpha\":{\"value\":1.0},\"line_color\":{\"value\":\"black\"},\"line_dash\":[4,4],\"line_width\":{\"value\":2},\"plot\":null,\"render_mode\":\"css\",\"right_units\":\"screen\",\"top_units\":\"screen\"},\"id\":\"2088\",\"type\":\"BoxAnnotation\"},{\"attributes\":{\"label\":{\"value\":\"2*sin(x)\"},\"renderers\":[{\"id\":\"2025\",\"type\":\"GlyphRenderer\"}]},\"id\":\"2036\",\"type\":\"LegendItem\"},{\"attributes\":{\"bottom_units\":\"screen\",\"fill_alpha\":{\"value\":0.5},\"fill_color\":{\"value\":\"lightgrey\"},\"left_units\":\"screen\",\"level\":\"overlay\",\"line_alpha\":{\"value\":1.0},\"line_color\":{\"value\":\"black\"},\"line_dash\":[4,4],\"line_width\":{\"value\":2},\"plot\":null,\"render_mode\":\"css\",\"right_units\":\"screen\",\"top_units\":\"screen\"},\"id\":\"2083\",\"type\":\"BoxAnnotation\"},{\"attributes\":{},\"id\":\"2033\",\"type\":\"Selection\"},{\"attributes\":{},\"id\":\"2204\",\"type\":\"Selection\"},{\"attributes\":{},\"id\":\"2032\",\"type\":\"UnionRenderers\"},{\"attributes\":{},\"id\":\"2172\",\"type\":\"UnionRenderers\"},{\"attributes\":{\"source\":{\"id\":\"2022\",\"type\":\"ColumnDataSource\"}},\"id\":\"2026\",\"type\":\"CDSView\"},{\"attributes\":{\"line_color\":\"#1f77b4\",\"x\":{\"field\":\"x\"},\"y\":{\"field\":\"y\"}},\"id\":\"2107\",\"type\":\"Line\"},{\"attributes\":{\"data_source\":{\"id\":\"2022\",\"type\":\"ColumnDataSource\"},\"glyph\":{\"id\":\"2023\",\"type\":\"Circle\"},\"hover_glyph\":null,\"muted_glyph\":null,\"nonselection_glyph\":{\"id\":\"2024\",\"type\":\"Circle\"},\"selection_glyph\":null,\"view\":{\"id\":\"2026\",\"type\":\"CDSView\"}},\"id\":\"2025\",\"type\":\"GlyphRenderer\"},{\"attributes\":{},\"id\":\"2116\",\"type\":\"UnionRenderers\"},{\"attributes\":{\"callback\":null,\"overlay\":{\"id\":\"2088\",\"type\":\"BoxAnnotation\"}},\"id\":\"2080\",\"type\":\"BoxSelectTool\"},{\"attributes\":{},\"id\":\"1979\",\"type\":\"LinearScale\"},{\"attributes\":{\"source\":{\"id\":\"2106\",\"type\":\"ColumnDataSource\"}},\"id\":\"2110\",\"type\":\"CDSView\"},{\"attributes\":{},\"id\":\"2079\",\"type\":\"SaveTool\"},{\"attributes\":{\"bottom_units\":\"screen\",\"fill_alpha\":{\"value\":0.5},\"fill_color\":{\"value\":\"lightgrey\"},\"left_units\":\"screen\",\"level\":\"overlay\",\"line_alpha\":{\"value\":1.0},\"line_color\":{\"value\":\"black\"},\"line_dash\":[4,4],\"line_width\":{\"value\":2},\"plot\":null,\"render_mode\":\"css\",\"right_units\":\"screen\",\"top_units\":\"screen\"},\"id\":\"1999\",\"type\":\"BoxAnnotation\"},{\"attributes\":{\"data_source\":{\"id\":\"2106\",\"type\":\"ColumnDataSource\"},\"glyph\":{\"id\":\"2107\",\"type\":\"Line\"},\"hover_glyph\":null,\"muted_glyph\":null,\"nonselection_glyph\":{\"id\":\"2108\",\"type\":\"Line\"},\"selection_glyph\":null,\"view\":{\"id\":\"2110\",\"type\":\"CDSView\"}},\"id\":\"2109\",\"type\":\"GlyphRenderer\"},{\"attributes\":{\"callback\":null,\"data\":{\"x\":{\"__ndarray__\":\"AAAAAAAAAACRGkt8Vz/AP5EaS3xXP9A/2qdwOgNf2D+RGkt8Vz/gPzXhXVstT+Q/2qdwOgNf6D9+boMZ2W7sP5EaS3xXP/A/433Ua0JH8j814V1bLU/0P4dE50oYV/Y/2qdwOgNf+D8sC/op7mb6P35ugxnZbvw/0NEMCcR2/j+RGkt8Vz8AQDrMD/RMQwFA433Ua0JHAkCML5njN0sDQDXhXVstTwRA3pIi0yJTBUCHROdKGFcGQDD2q8INWwdA2qdwOgNfCECDWTWy+GIJQCwL+inuZgpA1by+oeNqC0B+boMZ2W4MQCcgSJHOcg1A0NEMCcR2DkB5g9GAuXoPQJEaS3xXPxBAZnMtOFLBEEA6zA/0TEMRQA8l8q9HxRFA433Ua0JHEkC41rYnPckSQIwvmeM3SxNAYYh7nzLNE0A14V1bLU8UQAo6QBco0RRA3pIi0yJTFUCz6wSPHdUVQIdE50oYVxZAXJ3JBhPZFkAw9qvCDVsXQAVPjn4I3RdA2qdwOgNfGECuAFP2/eAYQINZNbL4YhlAV7IXbvPkGUAsC/op7mYaQABk3OXo6BpA1by+oeNqG0CpFaFd3uwbQH5ugxnZbhxAUsdl1dPwHEAnIEiRznIdQPt4Kk3J9B1A0NEMCcR2HkCkKu/EvvgeQHmD0YC5eh9ATdyzPLT8H0CRGkt8Vz8gQPtGPNpUgCBAZnMtOFLBIEDQnx6WTwIhQDrMD/RMQyFApPgAUkqEIUAPJfKvR8UhQHlR4w1FBiJA433Ua0JHIkBNqsXJP4giQLjWtic9ySJAIgOohToKI0CML5njN0sjQPZbikE1jCNAYYh7nzLNI0DLtGz9Lw4kQDXhXVstTyRAoA1PuSqQJEAKOkAXKNEkQHRmMXUlEiVA3pIi0yJTJUBJvxMxIJQlQLPrBI8d1SVAHRj27BoWJkCHROdKGFcmQPJw2KgVmCZAXJ3JBhPZJkDGybpkEBonQDD2q8INWydAmyKdIAucJ0AFT45+CN0nQG97f9wFHihA2qdwOgNfKEBE1GGYAKAoQK4AU/b94ChAGC1EVPshKUA=\",\"dtype\":\"float64\",\"shape\":[100]},\"y\":{\"__ndarray__\":\"AAAAAAAAAADwgwJ4LjTQP5qI2QHPEuA/+5MNU1HJ5z8ZTT7q2B3vP0aFmgwa+fI/ABg/lCAV9j+IQCEcMdb4P3fOhmLzMPs/EyzujrQb/T/9Izwlj47+PxccgYyLg/8/g6xao7j2/z9mZrL8O+b/P7+X94FZUv8/xVNiW3I9/j9RB8Ai+6v8P5FWKYlppPo/oSg6uxkv+D/Th2bxK1b1PyZGRbpaJfI/8qg+VZVT7T/4C4p0qOPlP+UppLIiM9w/3FNHxZdVyD/J23zJpD6wv+3ENsZjOdS/wo12/ecH4r/dgWKM2Kjpv2MTsJELcPC/83ixWvXH87+358MBZM72v5eCD4nhdvm/rExY6Hq2+7+TIxAn7YP9vwSssILL1/6/70I4BJ6s/7/vOc8G+P7/vzTGy1KGzf+/3176khQZ/7/C8a4NiuT9vzGcHq/dNPy/l0FFlgER+r+FGZN4xoH3vx8WPFK3kfS/Cli7+O1M8b+HQNqEwoHrv9kfIiFb+OO/gKyggGI52L8EhrXMjDzAvyGGtcyMPMA/jqyggGI52D/gHyIhW/jjP39A2oTCges/DVi7+O1M8T8bFjxSt5H0P4cZk3jGgfc/lUFFlgER+j8ynB6v3TT8P8Hxrg2K5P0/4F76khQZ/z80xstShs3/P+85zwb4/v8/8EI4BJ6s/z8DrLCCy9f+P5UjECftg/0/p0xY6Hq2+z+Vgg+J4Xb5P7fnwwFkzvY/9nixWvXH8z9dE7CRC3DwP9eBYozYqOk/w412/ecH4j/+xDbGYznUP0/bfMmkPrA/+FNHxZdVyL/UKaSyIjPcv+gLinSo4+W/+Kg+VZVT7b8lRkW6WiXyv8+HZvErVvW/pig6uxkv+L+TVimJaaT6v1EHwCL7q/y/xFNiW3I9/r/Al/eBWVL/v2Zmsvw75v+/g6xao7j2/78YHIGMi4P/v/sjPCWPjv6/EyzujrQb/b94zoZi8zD7v4xAIRwx1vi//Bc/lCAV9r9GhZoMGvnyvx9NPurYHe+/65MNU1HJ57+SiNkBzxLgv/GDAnguNNC/B1wUMyam0bw=\",\"dtype\":\"float64\",\"shape\":[100]}},\"selected\":{\"id\":\"2152\",\"type\":\"Selection\"},\"selection_policy\":{\"id\":\"2151\",\"type\":\"UnionRenderers\"}},\"id\":\"2120\",\"type\":\"ColumnDataSource\"},{\"attributes\":{},\"id\":\"2078\",\"type\":\"ResetTool\"},{\"attributes\":{\"tools\":[{\"id\":\"1991\",\"type\":\"PanTool\"},{\"id\":\"1992\",\"type\":\"WheelZoomTool\"},{\"id\":\"1993\",\"type\":\"BoxZoomTool\"},{\"id\":\"1994\",\"type\":\"ResetTool\"},{\"id\":\"1995\",\"type\":\"SaveTool\"},{\"id\":\"1996\",\"type\":\"BoxSelectTool\"},{\"id\":\"2075\",\"type\":\"PanTool\"},{\"id\":\"2076\",\"type\":\"WheelZoomTool\"},{\"id\":\"2077\",\"type\":\"BoxZoomTool\"},{\"id\":\"2078\",\"type\":\"ResetTool\"},{\"id\":\"2079\",\"type\":\"SaveTool\"},{\"id\":\"2080\",\"type\":\"BoxSelectTool\"}]},\"id\":\"2210\",\"type\":\"ProxyToolbar\"},{\"attributes\":{\"fill_alpha\":{\"value\":0.1},\"fill_color\":{\"value\":\"#1f77b4\"},\"line_alpha\":{\"value\":0.1},\"line_color\":{\"value\":\"#1f77b4\"},\"x\":{\"field\":\"x\"},\"y\":{\"field\":\"y\"}},\"id\":\"2010\",\"type\":\"Circle\"},{\"attributes\":{\"line_alpha\":0.1,\"line_color\":\"#1f77b4\",\"x\":{\"field\":\"x\"},\"y\":{\"field\":\"y\"}},\"id\":\"2108\",\"type\":\"Line\"},{\"attributes\":{\"overlay\":{\"id\":\"2083\",\"type\":\"BoxAnnotation\"}},\"id\":\"2077\",\"type\":\"BoxZoomTool\"},{\"attributes\":{\"toolbar\":{\"id\":\"2210\",\"type\":\"ProxyToolbar\"},\"toolbar_location\":\"above\"},\"id\":\"2211\",\"type\":\"ToolbarBox\"},{\"attributes\":{\"fill_alpha\":{\"value\":0.1},\"fill_color\":{\"value\":\"#1f77b4\"},\"line_alpha\":{\"value\":0.1},\"line_color\":{\"value\":\"#1f77b4\"},\"x\":{\"field\":\"x\"},\"y\":{\"field\":\"y\"}},\"id\":\"2024\",\"type\":\"Circle\"},{\"attributes\":{},\"id\":\"2076\",\"type\":\"WheelZoomTool\"},{\"attributes\":{\"callback\":null,\"data\":{\"x\":{\"__ndarray__\":\"AAAAAAAAAACRGkt8Vz/AP5EaS3xXP9A/2qdwOgNf2D+RGkt8Vz/gPzXhXVstT+Q/2qdwOgNf6D9+boMZ2W7sP5EaS3xXP/A/433Ua0JH8j814V1bLU/0P4dE50oYV/Y/2qdwOgNf+D8sC/op7mb6P35ugxnZbvw/0NEMCcR2/j+RGkt8Vz8AQDrMD/RMQwFA433Ua0JHAkCML5njN0sDQDXhXVstTwRA3pIi0yJTBUCHROdKGFcGQDD2q8INWwdA2qdwOgNfCECDWTWy+GIJQCwL+inuZgpA1by+oeNqC0B+boMZ2W4MQCcgSJHOcg1A0NEMCcR2DkB5g9GAuXoPQJEaS3xXPxBAZnMtOFLBEEA6zA/0TEMRQA8l8q9HxRFA433Ua0JHEkC41rYnPckSQIwvmeM3SxNAYYh7nzLNE0A14V1bLU8UQAo6QBco0RRA3pIi0yJTFUCz6wSPHdUVQIdE50oYVxZAXJ3JBhPZFkAw9qvCDVsXQAVPjn4I3RdA2qdwOgNfGECuAFP2/eAYQINZNbL4YhlAV7IXbvPkGUAsC/op7mYaQABk3OXo6BpA1by+oeNqG0CpFaFd3uwbQH5ugxnZbhxAUsdl1dPwHEAnIEiRznIdQPt4Kk3J9B1A0NEMCcR2HkCkKu/EvvgeQHmD0YC5eh9ATdyzPLT8H0CRGkt8Vz8gQPtGPNpUgCBAZnMtOFLBIEDQnx6WTwIhQDrMD/RMQyFApPgAUkqEIUAPJfKvR8UhQHlR4w1FBiJA433Ua0JHIkBNqsXJP4giQLjWtic9ySJAIgOohToKI0CML5njN0sjQPZbikE1jCNAYYh7nzLNI0DLtGz9Lw4kQDXhXVstTyRAoA1PuSqQJEAKOkAXKNEkQHRmMXUlEiVA3pIi0yJTJUBJvxMxIJQlQLPrBI8d1SVAHRj27BoWJkCHROdKGFcmQPJw2KgVmCZAXJ3JBhPZJkDGybpkEBonQDD2q8INWydAmyKdIAucJ0AFT45+CN0nQG97f9wFHihA2qdwOgNfKEBE1GGYAKAoQK4AU/b94ChAGC1EVPshKUA=\",\"dtype\":\"float64\",\"shape\":[100]},\"y\":{\"__ndarray__\":\"AAAAAAAAAADoxQO0RU7YP+dMxoI2HOg//C5K/vzW8T/Tua6vYlb3P+nH5xKndfw/AFIvb9iPAEBm8BjVpKACQNka5Ym2ZARADqEya8fUBUD+Gu1b6+oGQBHVYKmoogdAYgGEegr5B0DMzIX9rOwHQM+xeSHDfQdA1L6JxBWuBkB9BRBa/IAFQO0A3yZP+wNAeZ5rTFMjAkDe5Qz1oAAAQDnpZxcIOPs/tv7u/6/+9T/6iGdXvmrwP2wf+wVaJuU/5X710zFA0j+uSTsu9124v2QnUqkVVt6/o9Qx/NsL679m4Ulpoj7zvxQdiFoRqPi/bDUKCPCr/b/J7VIByxoBwPGhyyYpGQPAgTlCLtzIBMCuGkzd8SIGwAOBBKLYIQfAMzIqg3bBB8BzaxsFOv8HwKfUGL4k2gfAJ8c7bs9SB8BSNUOKZ2sGwCX1VkOmJwXAMfGzMMGMA8AkU27aVKEBwC4hWvuS2v6/DwQZ9WTz+b9lsKPjUaH0v8Yvs7GI9O2/YIF44Akr4r8GSRAz01rIvzJJEDPTWsg/aoF44Akr4j/QL7OxiPTtP1+wo+NRofQ/FAQZ9WTz+T8oIVr7ktr+PyVTbtpUoQFAMPGzMMGMA0Am9VZDpicFQFE1Q4pnawZAKMc7bs9SB0Cn1Bi+JNoHQHNrGwU6/wdANDIqg3bBB0ACgQSi2CEHQLAaTN3xIgZAfTlCLtzIBEDwocsmKRkDQMntUgHLGgFAcTUKCPCr/T8MHYhaEaj4P2HhSWmiPvM/pNQx/NsL6z99J1KpFVbeP/ZIOy73Xbg/+n710zFA0r9fH/sFWiblv+6IZ1e+avC/uv7u/6/+9b846WcXCDj7v9vlDPWgAADAfJ5rTFMjAsDuAN8mT/sDwH0FEFr8gAXA076JxBWuBsDQsXkhw30HwMzMhf2s7AfAYgGEegr5B8AS1WCpqKIHwPwa7Vvr6gbADqEya8fUBcDaGuWJtmQEwGnwGNWkoALA/VEvb9iPAMDpx+cSp3X8v9e5rq9iVve/8C5K/vzW8b/bTMaCNhzov+rFA7RFTti/CoqeTDl52rw=\",\"dtype\":\"float64\",\"shape\":[100]}},\"selected\":{\"id\":\"2186\",\"type\":\"Selection\"},\"selection_policy\":{\"id\":\"2185\",\"type\":\"UnionRenderers\"}},\"id\":\"2037\",\"type\":\"ColumnDataSource\"},{\"attributes\":{},\"id\":\"2075\",\"type\":\"PanTool\"},{\"attributes\":{\"fill_color\":{\"value\":\"orange\"},\"line_color\":{\"value\":\"orange\"},\"x\":{\"field\":\"x\"},\"y\":{\"field\":\"y\"}},\"id\":\"2023\",\"type\":\"Circle\"},{\"attributes\":{\"line_alpha\":0.1,\"line_color\":\"#1f77b4\",\"line_dash\":[4,4],\"line_width\":2,\"x\":{\"field\":\"x\"},\"y\":{\"field\":\"y\"}},\"id\":\"2122\",\"type\":\"Line\"},{\"attributes\":{\"label\":{\"value\":\"sin(x)\"},\"renderers\":[{\"id\":\"2011\",\"type\":\"GlyphRenderer\"}]},\"id\":\"2021\",\"type\":\"LegendItem\"},{\"attributes\":{\"callback\":null,\"data\":{\"x\":{\"__ndarray__\":\"AAAAAAAAAACRGkt8Vz/AP5EaS3xXP9A/2qdwOgNf2D+RGkt8Vz/gPzXhXVstT+Q/2qdwOgNf6D9+boMZ2W7sP5EaS3xXP/A/433Ua0JH8j814V1bLU/0P4dE50oYV/Y/2qdwOgNf+D8sC/op7mb6P35ugxnZbvw/0NEMCcR2/j+RGkt8Vz8AQDrMD/RMQwFA433Ua0JHAkCML5njN0sDQDXhXVstTwRA3pIi0yJTBUCHROdKGFcGQDD2q8INWwdA2qdwOgNfCECDWTWy+GIJQCwL+inuZgpA1by+oeNqC0B+boMZ2W4MQCcgSJHOcg1A0NEMCcR2DkB5g9GAuXoPQJEaS3xXPxBAZnMtOFLBEEA6zA/0TEMRQA8l8q9HxRFA433Ua0JHEkC41rYnPckSQIwvmeM3SxNAYYh7nzLNE0A14V1bLU8UQAo6QBco0RRA3pIi0yJTFUCz6wSPHdUVQIdE50oYVxZAXJ3JBhPZFkAw9qvCDVsXQAVPjn4I3RdA2qdwOgNfGECuAFP2/eAYQINZNbL4YhlAV7IXbvPkGUAsC/op7mYaQABk3OXo6BpA1by+oeNqG0CpFaFd3uwbQH5ugxnZbhxAUsdl1dPwHEAnIEiRznIdQPt4Kk3J9B1A0NEMCcR2HkCkKu/EvvgeQHmD0YC5eh9ATdyzPLT8H0CRGkt8Vz8gQPtGPNpUgCBAZnMtOFLBIEDQnx6WTwIhQDrMD/RMQyFApPgAUkqEIUAPJfKvR8UhQHlR4w1FBiJA433Ua0JHIkBNqsXJP4giQLjWtic9ySJAIgOohToKI0CML5njN0sjQPZbikE1jCNAYYh7nzLNI0DLtGz9Lw4kQDXhXVstTyRAoA1PuSqQJEAKOkAXKNEkQHRmMXUlEiVA3pIi0yJTJUBJvxMxIJQlQLPrBI8d1SVAHRj27BoWJkCHROdKGFcmQPJw2KgVmCZAXJ3JBhPZJkDGybpkEBonQDD2q8INWydAmyKdIAucJ0AFT45+CN0nQG97f9wFHihA2qdwOgNfKEBE1GGYAKAoQK4AU/b94ChAGC1EVPshKUA=\",\"dtype\":\"float64\",\"shape\":[100]},\"y\":{\"__ndarray__\":\"AAAAAAAAAADoxQO0RU7YP+dMxoI2HOg//C5K/vzW8T/Tua6vYlb3P+nH5xKndfw/AFIvb9iPAEBm8BjVpKACQNka5Ym2ZARADqEya8fUBUD+Gu1b6+oGQBHVYKmoogdAYgGEegr5B0DMzIX9rOwHQM+xeSHDfQdA1L6JxBWuBkB9BRBa/IAFQO0A3yZP+wNAeZ5rTFMjAkDe5Qz1oAAAQDnpZxcIOPs/tv7u/6/+9T/6iGdXvmrwP2wf+wVaJuU/5X710zFA0j+uSTsu9124v2QnUqkVVt6/o9Qx/NsL679m4Ulpoj7zvxQdiFoRqPi/bDUKCPCr/b/J7VIByxoBwPGhyyYpGQPAgTlCLtzIBMCuGkzd8SIGwAOBBKLYIQfAMzIqg3bBB8BzaxsFOv8HwKfUGL4k2gfAJ8c7bs9SB8BSNUOKZ2sGwCX1VkOmJwXAMfGzMMGMA8AkU27aVKEBwC4hWvuS2v6/DwQZ9WTz+b9lsKPjUaH0v8Yvs7GI9O2/YIF44Akr4r8GSRAz01rIvzJJEDPTWsg/aoF44Akr4j/QL7OxiPTtP1+wo+NRofQ/FAQZ9WTz+T8oIVr7ktr+PyVTbtpUoQFAMPGzMMGMA0Am9VZDpicFQFE1Q4pnawZAKMc7bs9SB0Cn1Bi+JNoHQHNrGwU6/wdANDIqg3bBB0ACgQSi2CEHQLAaTN3xIgZAfTlCLtzIBEDwocsmKRkDQMntUgHLGgFAcTUKCPCr/T8MHYhaEaj4P2HhSWmiPvM/pNQx/NsL6z99J1KpFVbeP/ZIOy73Xbg/+n710zFA0r9fH/sFWiblv+6IZ1e+avC/uv7u/6/+9b846WcXCDj7v9vlDPWgAADAfJ5rTFMjAsDuAN8mT/sDwH0FEFr8gAXA076JxBWuBsDQsXkhw30HwMzMhf2s7AfAYgGEegr5B8AS1WCpqKIHwPwa7Vvr6gbADqEya8fUBcDaGuWJtmQEwGnwGNWkoALA/VEvb9iPAMDpx+cSp3X8v9e5rq9iVve/8C5K/vzW8b/bTMaCNhzov+rFA7RFTti/CoqeTDl52rw=\",\"dtype\":\"float64\",\"shape\":[100]}},\"selected\":{\"id\":\"2173\",\"type\":\"Selection\"},\"selection_policy\":{\"id\":\"2172\",\"type\":\"UnionRenderers\"}},\"id\":\"2137\",\"type\":\"ColumnDataSource\"},{\"attributes\":{\"callback\":null,\"data\":{\"x\":{\"__ndarray__\":\"AAAAAAAAAACRGkt8Vz/AP5EaS3xXP9A/2qdwOgNf2D+RGkt8Vz/gPzXhXVstT+Q/2qdwOgNf6D9+boMZ2W7sP5EaS3xXP/A/433Ua0JH8j814V1bLU/0P4dE50oYV/Y/2qdwOgNf+D8sC/op7mb6P35ugxnZbvw/0NEMCcR2/j+RGkt8Vz8AQDrMD/RMQwFA433Ua0JHAkCML5njN0sDQDXhXVstTwRA3pIi0yJTBUCHROdKGFcGQDD2q8INWwdA2qdwOgNfCECDWTWy+GIJQCwL+inuZgpA1by+oeNqC0B+boMZ2W4MQCcgSJHOcg1A0NEMCcR2DkB5g9GAuXoPQJEaS3xXPxBAZnMtOFLBEEA6zA/0TEMRQA8l8q9HxRFA433Ua0JHEkC41rYnPckSQIwvmeM3SxNAYYh7nzLNE0A14V1bLU8UQAo6QBco0RRA3pIi0yJTFUCz6wSPHdUVQIdE50oYVxZAXJ3JBhPZFkAw9qvCDVsXQAVPjn4I3RdA2qdwOgNfGECuAFP2/eAYQINZNbL4YhlAV7IXbvPkGUAsC/op7mYaQABk3OXo6BpA1by+oeNqG0CpFaFd3uwbQH5ugxnZbhxAUsdl1dPwHEAnIEiRznIdQPt4Kk3J9B1A0NEMCcR2HkCkKu/EvvgeQHmD0YC5eh9ATdyzPLT8H0CRGkt8Vz8gQPtGPNpUgCBAZnMtOFLBIEDQnx6WTwIhQDrMD/RMQyFApPgAUkqEIUAPJfKvR8UhQHlR4w1FBiJA433Ua0JHIkBNqsXJP4giQLjWtic9ySJAIgOohToKI0CML5njN0sjQPZbikE1jCNAYYh7nzLNI0DLtGz9Lw4kQDXhXVstTyRAoA1PuSqQJEAKOkAXKNEkQHRmMXUlEiVA3pIi0yJTJUBJvxMxIJQlQLPrBI8d1SVAHRj27BoWJkCHROdKGFcmQPJw2KgVmCZAXJ3JBhPZJkDGybpkEBonQDD2q8INWydAmyKdIAucJ0AFT45+CN0nQG97f9wFHihA2qdwOgNfKEBE1GGYAKAoQK4AU/b94ChAGC1EVPshKUA=\",\"dtype\":\"float64\",\"shape\":[100]},\"y\":{\"__ndarray__\":\"AAAAAAAAAADwgwJ4LjTAP5qI2QHPEtA/+5MNU1HJ1z8ZTT7q2B3fP0aFmgwa+eI/ABg/lCAV5j+IQCEcMdboP3fOhmLzMOs/EyzujrQb7T/9Izwlj47uPxccgYyLg+8/g6xao7j27z9mZrL8O+bvP7+X94FZUu8/xVNiW3I97j9RB8Ai+6vsP5FWKYlppOo/oSg6uxkv6D/Th2bxK1blPyZGRbpaJeI/8qg+VZVT3T/4C4p0qOPVP+UppLIiM8w/3FNHxZdVuD/J23zJpD6gv+3ENsZjOcS/wo12/ecH0r/dgWKM2KjZv2MTsJELcOC/83ixWvXH47+358MBZM7mv5eCD4nhdum/rExY6Hq267+TIxAn7YPtvwSssILL1+6/70I4BJ6s77/vOc8G+P7vvzTGy1KGze+/3176khQZ77/C8a4NiuTtvzGcHq/dNOy/l0FFlgER6r+FGZN4xoHnvx8WPFK3keS/Cli7+O1M4b+HQNqEwoHbv9kfIiFb+NO/gKyggGI5yL8EhrXMjDywvyGGtcyMPLA/jqyggGI5yD/gHyIhW/jTP39A2oTCgds/DVi7+O1M4T8bFjxSt5HkP4cZk3jGgec/lUFFlgER6j8ynB6v3TTsP8Hxrg2K5O0/4F76khQZ7z80xstShs3vP+85zwb4/u8/8EI4BJ6s7z8DrLCCy9fuP5UjECftg+0/p0xY6Hq26z+Vgg+J4XbpP7fnwwFkzuY/9nixWvXH4z9dE7CRC3DgP9eBYozYqNk/w412/ecH0j/+xDbGYznEP0/bfMmkPqA/+FNHxZdVuL/UKaSyIjPMv+gLinSo49W/+Kg+VZVT3b8lRkW6WiXiv8+HZvErVuW/pig6uxkv6L+TVimJaaTqv1EHwCL7q+y/xFNiW3I97r/Al/eBWVLvv2Zmsvw75u+/g6xao7j2778YHIGMi4Pvv/sjPCWPju6/EyzujrQb7b94zoZi8zDrv4xAIRwx1ui//Bc/lCAV5r9GhZoMGvnivx9NPurYHd+/65MNU1HJ17+SiNkBzxLQv/GDAnguNMC/B1wUMyamwbw=\",\"dtype\":\"float64\",\"shape\":[100]}},\"selected\":{\"id\":\"2133\",\"type\":\"Selection\"},\"selection_policy\":{\"id\":\"2132\",\"type\":\"UnionRenderers\"}},\"id\":\"2106\",\"type\":\"ColumnDataSource\"},{\"attributes\":{\"line_color\":\"orange\",\"line_dash\":[4,4],\"line_width\":2,\"x\":{\"field\":\"x\"},\"y\":{\"field\":\"y\"}},\"id\":\"2121\",\"type\":\"Line\"},{\"attributes\":{\"items\":[{\"id\":\"2021\",\"type\":\"LegendItem\"},{\"id\":\"2036\",\"type\":\"LegendItem\"},{\"id\":\"2053\",\"type\":\"LegendItem\"}],\"plot\":{\"id\":\"1971\",\"subtype\":\"Figure\",\"type\":\"Plot\"}},\"id\":\"2020\",\"type\":\"Legend\"},{\"attributes\":{\"active_drag\":\"auto\",\"active_inspect\":\"auto\",\"active_multi\":null,\"active_scroll\":\"auto\",\"active_tap\":\"auto\",\"tools\":[{\"id\":\"2075\",\"type\":\"PanTool\"},{\"id\":\"2076\",\"type\":\"WheelZoomTool\"},{\"id\":\"2077\",\"type\":\"BoxZoomTool\"},{\"id\":\"2078\",\"type\":\"ResetTool\"},{\"id\":\"2079\",\"type\":\"SaveTool\"},{\"id\":\"2080\",\"type\":\"BoxSelectTool\"}]},\"id\":\"2081\",\"type\":\"Toolbar\"},{\"attributes\":{\"fill_color\":{\"value\":\"#1f77b4\"},\"line_color\":{\"value\":\"#1f77b4\"},\"x\":{\"field\":\"x\"},\"y\":{\"field\":\"y\"}},\"id\":\"2093\",\"type\":\"Circle\"},{\"attributes\":{},\"id\":\"2117\",\"type\":\"Selection\"},{\"attributes\":{\"dimension\":1,\"plot\":{\"id\":\"2055\",\"subtype\":\"Figure\",\"type\":\"Plot\"},\"ticker\":{\"id\":\"2071\",\"type\":\"BasicTicker\"}},\"id\":\"2074\",\"type\":\"Grid\"},{\"attributes\":{\"line_alpha\":0.1,\"line_color\":\"#1f77b4\",\"x\":{\"field\":\"x\"},\"y\":{\"field\":\"y\"}},\"id\":\"2158\",\"type\":\"Line\"},{\"attributes\":{},\"id\":\"1994\",\"type\":\"ResetTool\"},{\"attributes\":{\"line_color\":\"green\",\"x\":{\"field\":\"x\"},\"y\":{\"field\":\"y\"}},\"id\":\"2157\",\"type\":\"Line\"},{\"attributes\":{\"callback\":null,\"data\":{\"x\":{\"__ndarray__\":\"AAAAAAAAAACRGkt8Vz/AP5EaS3xXP9A/2qdwOgNf2D+RGkt8Vz/gPzXhXVstT+Q/2qdwOgNf6D9+boMZ2W7sP5EaS3xXP/A/433Ua0JH8j814V1bLU/0P4dE50oYV/Y/2qdwOgNf+D8sC/op7mb6P35ugxnZbvw/0NEMCcR2/j+RGkt8Vz8AQDrMD/RMQwFA433Ua0JHAkCML5njN0sDQDXhXVstTwRA3pIi0yJTBUCHROdKGFcGQDD2q8INWwdA2qdwOgNfCECDWTWy+GIJQCwL+inuZgpA1by+oeNqC0B+boMZ2W4MQCcgSJHOcg1A0NEMCcR2DkB5g9GAuXoPQJEaS3xXPxBAZnMtOFLBEEA6zA/0TEMRQA8l8q9HxRFA433Ua0JHEkC41rYnPckSQIwvmeM3SxNAYYh7nzLNE0A14V1bLU8UQAo6QBco0RRA3pIi0yJTFUCz6wSPHdUVQIdE50oYVxZAXJ3JBhPZFkAw9qvCDVsXQAVPjn4I3RdA2qdwOgNfGECuAFP2/eAYQINZNbL4YhlAV7IXbvPkGUAsC/op7mYaQABk3OXo6BpA1by+oeNqG0CpFaFd3uwbQH5ugxnZbhxAUsdl1dPwHEAnIEiRznIdQPt4Kk3J9B1A0NEMCcR2HkCkKu/EvvgeQHmD0YC5eh9ATdyzPLT8H0CRGkt8Vz8gQPtGPNpUgCBAZnMtOFLBIEDQnx6WTwIhQDrMD/RMQyFApPgAUkqEIUAPJfKvR8UhQHlR4w1FBiJA433Ua0JHIkBNqsXJP4giQLjWtic9ySJAIgOohToKI0CML5njN0sjQPZbikE1jCNAYYh7nzLNI0DLtGz9Lw4kQDXhXVstTyRAoA1PuSqQJEAKOkAXKNEkQHRmMXUlEiVA3pIi0yJTJUBJvxMxIJQlQLPrBI8d1SVAHRj27BoWJkCHROdKGFcmQPJw2KgVmCZAXJ3JBhPZJkDGybpkEBonQDD2q8INWydAmyKdIAucJ0AFT45+CN0nQG97f9wFHihA2qdwOgNfKEBE1GGYAKAoQK4AU/b94ChAGC1EVPshKUA=\",\"dtype\":\"float64\",\"shape\":[100]},\"y\":{\"__ndarray__\":\"AAAAAAAAAADoxQO0RU7YP+dMxoI2HOg//C5K/vzW8T/Tua6vYlb3P+nH5xKndfw/AFIvb9iPAEBm8BjVpKACQNka5Ym2ZARADqEya8fUBUD+Gu1b6+oGQBHVYKmoogdAYgGEegr5B0DMzIX9rOwHQM+xeSHDfQdA1L6JxBWuBkB9BRBa/IAFQO0A3yZP+wNAeZ5rTFMjAkDe5Qz1oAAAQDnpZxcIOPs/tv7u/6/+9T/6iGdXvmrwP2wf+wVaJuU/5X710zFA0j+uSTsu9124v2QnUqkVVt6/o9Qx/NsL679m4Ulpoj7zvxQdiFoRqPi/bDUKCPCr/b/J7VIByxoBwPGhyyYpGQPAgTlCLtzIBMCuGkzd8SIGwAOBBKLYIQfAMzIqg3bBB8BzaxsFOv8HwKfUGL4k2gfAJ8c7bs9SB8BSNUOKZ2sGwCX1VkOmJwXAMfGzMMGMA8AkU27aVKEBwC4hWvuS2v6/DwQZ9WTz+b9lsKPjUaH0v8Yvs7GI9O2/YIF44Akr4r8GSRAz01rIvzJJEDPTWsg/aoF44Akr4j/QL7OxiPTtP1+wo+NRofQ/FAQZ9WTz+T8oIVr7ktr+PyVTbtpUoQFAMPGzMMGMA0Am9VZDpicFQFE1Q4pnawZAKMc7bs9SB0Cn1Bi+JNoHQHNrGwU6/wdANDIqg3bBB0ACgQSi2CEHQLAaTN3xIgZAfTlCLtzIBEDwocsmKRkDQMntUgHLGgFAcTUKCPCr/T8MHYhaEaj4P2HhSWmiPvM/pNQx/NsL6z99J1KpFVbeP/ZIOy73Xbg/+n710zFA0r9fH/sFWiblv+6IZ1e+avC/uv7u/6/+9b846WcXCDj7v9vlDPWgAADAfJ5rTFMjAsDuAN8mT/sDwH0FEFr8gAXA076JxBWuBsDQsXkhw30HwMzMhf2s7AfAYgGEegr5B8AS1WCpqKIHwPwa7Vvr6gbADqEya8fUBcDaGuWJtmQEwGnwGNWkoALA/VEvb9iPAMDpx+cSp3X8v9e5rq9iVve/8C5K/vzW8b/bTMaCNhzov+rFA7RFTti/CoqeTDl52rw=\",\"dtype\":\"float64\",\"shape\":[100]}},\"selected\":{\"id\":\"2204\",\"type\":\"Selection\"},\"selection_policy\":{\"id\":\"2203\",\"type\":\"UnionRenderers\"}},\"id\":\"2156\",\"type\":\"ColumnDataSource\"},{\"attributes\":{\"dimension\":1,\"plot\":{\"id\":\"1971\",\"subtype\":\"Figure\",\"type\":\"Plot\"},\"ticker\":{\"id\":\"1987\",\"type\":\"BasicTicker\"}},\"id\":\"1990\",\"type\":\"Grid\"},{\"attributes\":{},\"id\":\"2071\",\"type\":\"BasicTicker\"},{\"attributes\":{\"formatter\":{\"id\":\"2101\",\"type\":\"BasicTickFormatter\"},\"plot\":{\"id\":\"2055\",\"subtype\":\"Figure\",\"type\":\"Plot\"},\"ticker\":{\"id\":\"2071\",\"type\":\"BasicTicker\"}},\"id\":\"2070\",\"type\":\"LinearAxis\"},{\"attributes\":{},\"id\":\"2017\",\"type\":\"BasicTickFormatter\"},{\"attributes\":{\"data_source\":{\"id\":\"2120\",\"type\":\"ColumnDataSource\"},\"glyph\":{\"id\":\"2121\",\"type\":\"Line\"},\"hover_glyph\":null,\"muted_glyph\":null,\"nonselection_glyph\":{\"id\":\"2122\",\"type\":\"Line\"},\"selection_glyph\":null,\"view\":{\"id\":\"2124\",\"type\":\"CDSView\"}},\"id\":\"2123\",\"type\":\"GlyphRenderer\"},{\"attributes\":{},\"id\":\"2015\",\"type\":\"BasicTickFormatter\"},{\"attributes\":{},\"id\":\"1977\",\"type\":\"LinearScale\"},{\"attributes\":{\"overlay\":{\"id\":\"1999\",\"type\":\"BoxAnnotation\"}},\"id\":\"1993\",\"type\":\"BoxZoomTool\"},{\"attributes\":{\"source\":{\"id\":\"2120\",\"type\":\"ColumnDataSource\"}},\"id\":\"2124\",\"type\":\"CDSView\"},{\"attributes\":{\"plot\":{\"id\":\"2055\",\"subtype\":\"Figure\",\"type\":\"Plot\"},\"ticker\":{\"id\":\"2066\",\"type\":\"BasicTicker\"}},\"id\":\"2069\",\"type\":\"Grid\"},{\"attributes\":{},\"id\":\"1992\",\"type\":\"WheelZoomTool\"},{\"attributes\":{},\"id\":\"2132\",\"type\":\"UnionRenderers\"},{\"attributes\":{},\"id\":\"2066\",\"type\":\"BasicTicker\"},{\"attributes\":{\"label\":{\"value\":\"2*sin(x)\"},\"renderers\":[{\"id\":\"2123\",\"type\":\"GlyphRenderer\"}]},\"id\":\"2136\",\"type\":\"LegendItem\"},{\"attributes\":{},\"id\":\"2063\",\"type\":\"LinearScale\"},{\"attributes\":{\"label\":{\"value\":\"sin(x)\"},\"renderers\":[{\"id\":\"2095\",\"type\":\"GlyphRenderer\"},{\"id\":\"2109\",\"type\":\"GlyphRenderer\"}]},\"id\":\"2105\",\"type\":\"LegendItem\"},{\"attributes\":{},\"id\":\"1995\",\"type\":\"SaveTool\"},{\"attributes\":{\"items\":[{\"id\":\"2105\",\"type\":\"LegendItem\"},{\"id\":\"2136\",\"type\":\"LegendItem\"},{\"id\":\"2155\",\"type\":\"LegendItem\"}],\"plot\":{\"id\":\"2055\",\"subtype\":\"Figure\",\"type\":\"Plot\"}},\"id\":\"2104\",\"type\":\"Legend\"},{\"attributes\":{},\"id\":\"2061\",\"type\":\"LinearScale\"},{\"attributes\":{},\"id\":\"2133\",\"type\":\"Selection\"},{\"attributes\":{},\"id\":\"2152\",\"type\":\"Selection\"},{\"attributes\":{\"callback\":null},\"id\":\"2059\",\"type\":\"DataRange1d\"},{\"attributes\":{\"fill_color\":{\"value\":\"#1f77b4\"},\"line_color\":{\"value\":\"#1f77b4\"},\"x\":{\"field\":\"x\"},\"y\":{\"field\":\"y\"}},\"id\":\"2009\",\"type\":\"Circle\"},{\"attributes\":{},\"id\":\"1991\",\"type\":\"PanTool\"},{\"attributes\":{\"fill_alpha\":{\"value\":0.1},\"fill_color\":{\"value\":\"#1f77b4\"},\"line_alpha\":{\"value\":0.1},\"line_color\":{\"value\":\"#1f77b4\"},\"x\":{\"field\":\"x\"},\"y\":{\"field\":\"y\"}},\"id\":\"2139\",\"type\":\"Square\"},{\"attributes\":{\"callback\":null},\"id\":\"2057\",\"type\":\"DataRange1d\"},{\"attributes\":{\"source\":{\"id\":\"2008\",\"type\":\"ColumnDataSource\"}},\"id\":\"2012\",\"type\":\"CDSView\"},{\"attributes\":{\"fill_color\":{\"value\":null},\"line_color\":{\"value\":\"green\"},\"x\":{\"field\":\"x\"},\"y\":{\"field\":\"y\"}},\"id\":\"2138\",\"type\":\"Square\"},{\"attributes\":{\"callback\":null},\"id\":\"1973\",\"type\":\"DataRange1d\"},{\"attributes\":{\"active_drag\":\"auto\",\"active_inspect\":\"auto\",\"active_multi\":null,\"active_scroll\":\"auto\",\"active_tap\":\"auto\",\"tools\":[{\"id\":\"1991\",\"type\":\"PanTool\"},{\"id\":\"1992\",\"type\":\"WheelZoomTool\"},{\"id\":\"1993\",\"type\":\"BoxZoomTool\"},{\"id\":\"1994\",\"type\":\"ResetTool\"},{\"id\":\"1995\",\"type\":\"SaveTool\"},{\"id\":\"1996\",\"type\":\"BoxSelectTool\"}]},\"id\":\"1997\",\"type\":\"Toolbar\"},{\"attributes\":{\"plot\":null,\"text\":\"Another Legend Example\"},\"id\":\"2054\",\"type\":\"Title\"},{\"attributes\":{},\"id\":\"2151\",\"type\":\"UnionRenderers\"},{\"attributes\":{\"fill_alpha\":{\"value\":0.1},\"fill_color\":{\"value\":\"#1f77b4\"},\"line_alpha\":{\"value\":0.1},\"line_color\":{\"value\":\"#1f77b4\"},\"x\":{\"field\":\"x\"},\"y\":{\"field\":\"y\"}},\"id\":\"2094\",\"type\":\"Circle\"},{\"attributes\":{\"plot\":null,\"text\":\"Legend Example\"},\"id\":\"1970\",\"type\":\"Title\"},{\"attributes\":{\"callback\":null,\"data\":{\"x\":{\"__ndarray__\":\"AAAAAAAAAACRGkt8Vz/AP5EaS3xXP9A/2qdwOgNf2D+RGkt8Vz/gPzXhXVstT+Q/2qdwOgNf6D9+boMZ2W7sP5EaS3xXP/A/433Ua0JH8j814V1bLU/0P4dE50oYV/Y/2qdwOgNf+D8sC/op7mb6P35ugxnZbvw/0NEMCcR2/j+RGkt8Vz8AQDrMD/RMQwFA433Ua0JHAkCML5njN0sDQDXhXVstTwRA3pIi0yJTBUCHROdKGFcGQDD2q8INWwdA2qdwOgNfCECDWTWy+GIJQCwL+inuZgpA1by+oeNqC0B+boMZ2W4MQCcgSJHOcg1A0NEMCcR2DkB5g9GAuXoPQJEaS3xXPxBAZnMtOFLBEEA6zA/0TEMRQA8l8q9HxRFA433Ua0JHEkC41rYnPckSQIwvmeM3SxNAYYh7nzLNE0A14V1bLU8UQAo6QBco0RRA3pIi0yJTFUCz6wSPHdUVQIdE50oYVxZAXJ3JBhPZFkAw9qvCDVsXQAVPjn4I3RdA2qdwOgNfGECuAFP2/eAYQINZNbL4YhlAV7IXbvPkGUAsC/op7mYaQABk3OXo6BpA1by+oeNqG0CpFaFd3uwbQH5ugxnZbhxAUsdl1dPwHEAnIEiRznIdQPt4Kk3J9B1A0NEMCcR2HkCkKu/EvvgeQHmD0YC5eh9ATdyzPLT8H0CRGkt8Vz8gQPtGPNpUgCBAZnMtOFLBIEDQnx6WTwIhQDrMD/RMQyFApPgAUkqEIUAPJfKvR8UhQHlR4w1FBiJA433Ua0JHIkBNqsXJP4giQLjWtic9ySJAIgOohToKI0CML5njN0sjQPZbikE1jCNAYYh7nzLNI0DLtGz9Lw4kQDXhXVstTyRAoA1PuSqQJEAKOkAXKNEkQHRmMXUlEiVA3pIi0yJTJUBJvxMxIJQlQLPrBI8d1SVAHRj27BoWJkCHROdKGFcmQPJw2KgVmCZAXJ3JBhPZJkDGybpkEBonQDD2q8INWydAmyKdIAucJ0AFT45+CN0nQG97f9wFHihA2qdwOgNfKEBE1GGYAKAoQK4AU/b94ChAGC1EVPshKUA=\",\"dtype\":\"float64\",\"shape\":[100]},\"y\":{\"__ndarray__\":\"AAAAAAAAAADwgwJ4LjTAP5qI2QHPEtA/+5MNU1HJ1z8ZTT7q2B3fP0aFmgwa+eI/ABg/lCAV5j+IQCEcMdboP3fOhmLzMOs/EyzujrQb7T/9Izwlj47uPxccgYyLg+8/g6xao7j27z9mZrL8O+bvP7+X94FZUu8/xVNiW3I97j9RB8Ai+6vsP5FWKYlppOo/oSg6uxkv6D/Th2bxK1blPyZGRbpaJeI/8qg+VZVT3T/4C4p0qOPVP+UppLIiM8w/3FNHxZdVuD/J23zJpD6gv+3ENsZjOcS/wo12/ecH0r/dgWKM2KjZv2MTsJELcOC/83ixWvXH47+358MBZM7mv5eCD4nhdum/rExY6Hq267+TIxAn7YPtvwSssILL1+6/70I4BJ6s77/vOc8G+P7vvzTGy1KGze+/3176khQZ77/C8a4NiuTtvzGcHq/dNOy/l0FFlgER6r+FGZN4xoHnvx8WPFK3keS/Cli7+O1M4b+HQNqEwoHbv9kfIiFb+NO/gKyggGI5yL8EhrXMjDywvyGGtcyMPLA/jqyggGI5yD/gHyIhW/jTP39A2oTCgds/DVi7+O1M4T8bFjxSt5HkP4cZk3jGgec/lUFFlgER6j8ynB6v3TTsP8Hxrg2K5O0/4F76khQZ7z80xstShs3vP+85zwb4/u8/8EI4BJ6s7z8DrLCCy9fuP5UjECftg+0/p0xY6Hq26z+Vgg+J4XbpP7fnwwFkzuY/9nixWvXH4z9dE7CRC3DgP9eBYozYqNk/w412/ecH0j/+xDbGYznEP0/bfMmkPqA/+FNHxZdVuL/UKaSyIjPMv+gLinSo49W/+Kg+VZVT3b8lRkW6WiXiv8+HZvErVuW/pig6uxkv6L+TVimJaaTqv1EHwCL7q+y/xFNiW3I97r/Al/eBWVLvv2Zmsvw75u+/g6xao7j2778YHIGMi4Pvv/sjPCWPju6/EyzujrQb7b94zoZi8zDrv4xAIRwx1ui//Bc/lCAV5r9GhZoMGvnivx9NPurYHd+/65MNU1HJ17+SiNkBzxLQv/GDAnguNMC/B1wUMyamwbw=\",\"dtype\":\"float64\",\"shape\":[100]}},\"selected\":{\"id\":\"2117\",\"type\":\"Selection\"},\"selection_policy\":{\"id\":\"2116\",\"type\":\"UnionRenderers\"}},\"id\":\"2092\",\"type\":\"ColumnDataSource\"},{\"attributes\":{\"source\":{\"id\":\"2137\",\"type\":\"ColumnDataSource\"}},\"id\":\"2141\",\"type\":\"CDSView\"},{\"attributes\":{\"data_source\":{\"id\":\"2137\",\"type\":\"ColumnDataSource\"},\"glyph\":{\"id\":\"2138\",\"type\":\"Square\"},\"hover_glyph\":null,\"muted_glyph\":null,\"nonselection_glyph\":{\"id\":\"2139\",\"type\":\"Square\"},\"selection_glyph\":null,\"view\":{\"id\":\"2141\",\"type\":\"CDSView\"}},\"id\":\"2140\",\"type\":\"GlyphRenderer\"},{\"attributes\":{\"below\":[{\"id\":\"1981\",\"type\":\"LinearAxis\"}],\"left\":[{\"id\":\"1986\",\"type\":\"LinearAxis\"}],\"plot_height\":400,\"plot_width\":400,\"renderers\":[{\"id\":\"1981\",\"type\":\"LinearAxis\"},{\"id\":\"1985\",\"type\":\"Grid\"},{\"id\":\"1986\",\"type\":\"LinearAxis\"},{\"id\":\"1990\",\"type\":\"Grid\"},{\"id\":\"1999\",\"type\":\"BoxAnnotation\"},{\"id\":\"2004\",\"type\":\"BoxAnnotation\"},{\"id\":\"2020\",\"type\":\"Legend\"},{\"id\":\"2011\",\"type\":\"GlyphRenderer\"},{\"id\":\"2025\",\"type\":\"GlyphRenderer\"},{\"id\":\"2040\",\"type\":\"GlyphRenderer\"}],\"title\":{\"id\":\"1970\",\"type\":\"Title\"},\"toolbar\":{\"id\":\"1997\",\"type\":\"Toolbar\"},\"toolbar_location\":null,\"x_range\":{\"id\":\"1973\",\"type\":\"DataRange1d\"},\"x_scale\":{\"id\":\"1977\",\"type\":\"LinearScale\"},\"y_range\":{\"id\":\"1975\",\"type\":\"DataRange1d\"},\"y_scale\":{\"id\":\"1979\",\"type\":\"LinearScale\"}},\"id\":\"1971\",\"subtype\":\"Figure\",\"type\":\"Plot\"},{\"attributes\":{\"label\":{\"value\":\"3*sin(x)\"},\"renderers\":[{\"id\":\"2040\",\"type\":\"GlyphRenderer\"}]},\"id\":\"2053\",\"type\":\"LegendItem\"},{\"attributes\":{\"source\":{\"id\":\"2156\",\"type\":\"ColumnDataSource\"}},\"id\":\"2160\",\"type\":\"CDSView\"},{\"attributes\":{},\"id\":\"2049\",\"type\":\"UnionRenderers\"},{\"attributes\":{\"data_source\":{\"id\":\"2156\",\"type\":\"ColumnDataSource\"},\"glyph\":{\"id\":\"2157\",\"type\":\"Line\"},\"hover_glyph\":null,\"muted_glyph\":null,\"nonselection_glyph\":{\"id\":\"2158\",\"type\":\"Line\"},\"selection_glyph\":null,\"view\":{\"id\":\"2160\",\"type\":\"CDSView\"}},\"id\":\"2159\",\"type\":\"GlyphRenderer\"},{\"attributes\":{\"source\":{\"id\":\"2037\",\"type\":\"ColumnDataSource\"}},\"id\":\"2041\",\"type\":\"CDSView\"},{\"attributes\":{\"label\":{\"value\":\"3*sin(x)\"},\"renderers\":[{\"id\":\"2140\",\"type\":\"GlyphRenderer\"},{\"id\":\"2159\",\"type\":\"GlyphRenderer\"}]},\"id\":\"2155\",\"type\":\"LegendItem\"},{\"attributes\":{\"data_source\":{\"id\":\"2037\",\"type\":\"ColumnDataSource\"},\"glyph\":{\"id\":\"2038\",\"type\":\"Circle\"},\"hover_glyph\":null,\"muted_glyph\":null,\"nonselection_glyph\":{\"id\":\"2039\",\"type\":\"Circle\"},\"selection_glyph\":null,\"view\":{\"id\":\"2041\",\"type\":\"CDSView\"}},\"id\":\"2040\",\"type\":\"GlyphRenderer\"},{\"attributes\":{\"callback\":null,\"data\":{\"x\":{\"__ndarray__\":\"AAAAAAAAAACRGkt8Vz/AP5EaS3xXP9A/2qdwOgNf2D+RGkt8Vz/gPzXhXVstT+Q/2qdwOgNf6D9+boMZ2W7sP5EaS3xXP/A/433Ua0JH8j814V1bLU/0P4dE50oYV/Y/2qdwOgNf+D8sC/op7mb6P35ugxnZbvw/0NEMCcR2/j+RGkt8Vz8AQDrMD/RMQwFA433Ua0JHAkCML5njN0sDQDXhXVstTwRA3pIi0yJTBUCHROdKGFcGQDD2q8INWwdA2qdwOgNfCECDWTWy+GIJQCwL+inuZgpA1by+oeNqC0B+boMZ2W4MQCcgSJHOcg1A0NEMCcR2DkB5g9GAuXoPQJEaS3xXPxBAZnMtOFLBEEA6zA/0TEMRQA8l8q9HxRFA433Ua0JHEkC41rYnPckSQIwvmeM3SxNAYYh7nzLNE0A14V1bLU8UQAo6QBco0RRA3pIi0yJTFUCz6wSPHdUVQIdE50oYVxZAXJ3JBhPZFkAw9qvCDVsXQAVPjn4I3RdA2qdwOgNfGECuAFP2/eAYQINZNbL4YhlAV7IXbvPkGUAsC/op7mYaQABk3OXo6BpA1by+oeNqG0CpFaFd3uwbQH5ugxnZbhxAUsdl1dPwHEAnIEiRznIdQPt4Kk3J9B1A0NEMCcR2HkCkKu/EvvgeQHmD0YC5eh9ATdyzPLT8H0CRGkt8Vz8gQPtGPNpUgCBAZnMtOFLBIEDQnx6WTwIhQDrMD/RMQyFApPgAUkqEIUAPJfKvR8UhQHlR4w1FBiJA433Ua0JHIkBNqsXJP4giQLjWtic9ySJAIgOohToKI0CML5njN0sjQPZbikE1jCNAYYh7nzLNI0DLtGz9Lw4kQDXhXVstTyRAoA1PuSqQJEAKOkAXKNEkQHRmMXUlEiVA3pIi0yJTJUBJvxMxIJQlQLPrBI8d1SVAHRj27BoWJkCHROdKGFcmQPJw2KgVmCZAXJ3JBhPZJkDGybpkEBonQDD2q8INWydAmyKdIAucJ0AFT45+CN0nQG97f9wFHihA2qdwOgNfKEBE1GGYAKAoQK4AU/b94ChAGC1EVPshKUA=\",\"dtype\":\"float64\",\"shape\":[100]},\"y\":{\"__ndarray__\":\"AAAAAAAAAADwgwJ4LjTAP5qI2QHPEtA/+5MNU1HJ1z8ZTT7q2B3fP0aFmgwa+eI/ABg/lCAV5j+IQCEcMdboP3fOhmLzMOs/EyzujrQb7T/9Izwlj47uPxccgYyLg+8/g6xao7j27z9mZrL8O+bvP7+X94FZUu8/xVNiW3I97j9RB8Ai+6vsP5FWKYlppOo/oSg6uxkv6D/Th2bxK1blPyZGRbpaJeI/8qg+VZVT3T/4C4p0qOPVP+UppLIiM8w/3FNHxZdVuD/J23zJpD6gv+3ENsZjOcS/wo12/ecH0r/dgWKM2KjZv2MTsJELcOC/83ixWvXH47+358MBZM7mv5eCD4nhdum/rExY6Hq267+TIxAn7YPtvwSssILL1+6/70I4BJ6s77/vOc8G+P7vvzTGy1KGze+/3176khQZ77/C8a4NiuTtvzGcHq/dNOy/l0FFlgER6r+FGZN4xoHnvx8WPFK3keS/Cli7+O1M4b+HQNqEwoHbv9kfIiFb+NO/gKyggGI5yL8EhrXMjDywvyGGtcyMPLA/jqyggGI5yD/gHyIhW/jTP39A2oTCgds/DVi7+O1M4T8bFjxSt5HkP4cZk3jGgec/lUFFlgER6j8ynB6v3TTsP8Hxrg2K5O0/4F76khQZ7z80xstShs3vP+85zwb4/u8/8EI4BJ6s7z8DrLCCy9fuP5UjECftg+0/p0xY6Hq26z+Vgg+J4XbpP7fnwwFkzuY/9nixWvXH4z9dE7CRC3DgP9eBYozYqNk/w412/ecH0j/+xDbGYznEP0/bfMmkPqA/+FNHxZdVuL/UKaSyIjPMv+gLinSo49W/+Kg+VZVT3b8lRkW6WiXiv8+HZvErVuW/pig6uxkv6L+TVimJaaTqv1EHwCL7q+y/xFNiW3I97r/Al/eBWVLvv2Zmsvw75u+/g6xao7j2778YHIGMi4Pvv/sjPCWPju6/EyzujrQb7b94zoZi8zDrv4xAIRwx1ui//Bc/lCAV5r9GhZoMGvnivx9NPurYHd+/65MNU1HJ17+SiNkBzxLQv/GDAnguNMC/B1wUMyamwbw=\",\"dtype\":\"float64\",\"shape\":[100]}},\"selected\":{\"id\":\"2033\",\"type\":\"Selection\"},\"selection_policy\":{\"id\":\"2032\",\"type\":\"UnionRenderers\"}},\"id\":\"2008\",\"type\":\"ColumnDataSource\"},{\"attributes\":{\"callback\":null},\"id\":\"1975\",\"type\":\"DataRange1d\"}],\"root_ids\":[\"2212\"]},\"title\":\"Bokeh Application\",\"version\":\"1.0.3\"}};\n  var render_items = [{\"docid\":\"4d2c9f08-f5e5-41fa-8f0f-b25e0a289f9e\",\"roots\":{\"2212\":\"54184473-4763-4cdb-a534-ccf132bc7cb0\"}}];\n  root.Bokeh.embed.embed_items_notebook(docs_json, render_items);\n\n  }\n  if (root.Bokeh !== undefined) {\n    embed_document(root);\n  } else {\n    var attempts = 0;\n    var timer = setInterval(function(root) {\n      if (root.Bokeh !== undefined) {\n        embed_document(root);\n        clearInterval(timer);\n      }\n      attempts++;\n      if (attempts > 100) {\n        console.log(\"Bokeh: ERROR: Unable to run BokehJS code because BokehJS library is missing\");\n        clearInterval(timer);\n      }\n    }, 10, root)\n  }\n})(window);"
     },
     "execution_count": 30,
     "metadata": {
     },
     "output_type": "execute_result"
    }
   ],
   "source": [
    "from bokeh.layouts import gridplot\n",
    "from bokeh.plotting import figure, show, output_file\n",
    "from bokeh.io import output_notebook\n",
    "output_notebook()\n",
    "x = np.linspace(0, 4*np.pi, 100)\n",
    "y = np.sin(x)\n",
    "\n",
    "TOOLS = \"pan,wheel_zoom,box_zoom,reset,save,box_select\"\n",
    "\n",
    "p1 = figure(title=\"Legend Example\", tools=TOOLS)\n",
    "\n",
    "p1.circle(x,   y, legend=\"sin(x)\")\n",
    "p1.circle(x, 2*y, legend=\"2*sin(x)\", color=\"orange\")\n",
    "p1.circle(x, 3*y, legend=\"3*sin(x)\", color=\"green\")\n",
    "\n",
    "p2 = figure(title=\"Another Legend Example\", tools=TOOLS)\n",
    "\n",
    "p2.circle(x, y, legend=\"sin(x)\")\n",
    "p2.line(x, y, legend=\"sin(x)\")\n",
    "\n",
    "p2.line(x, 2*y, legend=\"2*sin(x)\", line_dash=(4, 4), line_color=\"orange\", line_width=2)\n",
    "\n",
    "p2.square(x, 3*y, legend=\"3*sin(x)\", fill_color=None, line_color=\"green\")\n",
    "p2.line(x, 3*y, legend=\"3*sin(x)\", line_color=\"green\")\n",
    "\n",
    "output_file(\"legend.html\", title=\"legend.py example\")\n",
    "\n",
    "show(gridplot([p1, p2], ncols=2, plot_width=400, plot_height=400))  # open a browser"
   ]
  },
  {
   "cell_type": "code",
   "execution_count": 15,
   "metadata": {
    "collapsed": false
   },
   "outputs": [
    {
     "ename": "KeyboardInterrupt",
     "evalue": "",
     "output_type": "error",
     "traceback": [
      "\u001b[0;31m---------------------------------------------------------------------------\u001b[0m",
      "\u001b[0;31mKeyboardInterrupt\u001b[0m                         Traceback (most recent call last)",
      "\u001b[0;32m<ipython-input-15-f2f67e514fba>\u001b[0m in \u001b[0;36m<module>\u001b[0;34m\u001b[0m\n\u001b[1;32m      5\u001b[0m \u001b[0;34m\u001b[0m\u001b[0m\n\u001b[1;32m      6\u001b[0m \u001b[0mplt\u001b[0m\u001b[0;34m.\u001b[0m\u001b[0mscatter\u001b[0m\u001b[0;34m(\u001b[0m\u001b[0mx\u001b[0m\u001b[0;34m,\u001b[0m \u001b[0my\u001b[0m\u001b[0;34m,\u001b[0m \u001b[0;36m0.1\u001b[0m\u001b[0;34m)\u001b[0m\u001b[0;34m\u001b[0m\u001b[0;34m\u001b[0m\u001b[0m\n\u001b[0;32m----> 7\u001b[0;31m \u001b[0mplt\u001b[0m\u001b[0;34m.\u001b[0m\u001b[0mshow\u001b[0m\u001b[0;34m(\u001b[0m\u001b[0;34m)\u001b[0m\u001b[0;34m\u001b[0m\u001b[0;34m\u001b[0m\u001b[0m\n\u001b[0m",
      "\u001b[0;32m/projects/anaconda3/lib/python3.6/site-packages/matplotlib/pyplot.py\u001b[0m in \u001b[0;36mshow\u001b[0;34m(*args, **kw)\u001b[0m\n\u001b[1;32m    249\u001b[0m     \"\"\"\n\u001b[1;32m    250\u001b[0m     \u001b[0;32mglobal\u001b[0m \u001b[0m_show\u001b[0m\u001b[0;34m\u001b[0m\u001b[0;34m\u001b[0m\u001b[0m\n\u001b[0;32m--> 251\u001b[0;31m     \u001b[0;32mreturn\u001b[0m \u001b[0m_show\u001b[0m\u001b[0;34m(\u001b[0m\u001b[0;34m*\u001b[0m\u001b[0margs\u001b[0m\u001b[0;34m,\u001b[0m \u001b[0;34m**\u001b[0m\u001b[0mkw\u001b[0m\u001b[0;34m)\u001b[0m\u001b[0;34m\u001b[0m\u001b[0;34m\u001b[0m\u001b[0m\n\u001b[0m\u001b[1;32m    252\u001b[0m \u001b[0;34m\u001b[0m\u001b[0m\n\u001b[1;32m    253\u001b[0m \u001b[0;34m\u001b[0m\u001b[0m\n",
      "\u001b[0;32m/projects/anaconda3/lib/python3.6/site-packages/ipykernel/pylab/backend_inline.py\u001b[0m in \u001b[0;36mshow\u001b[0;34m(close, block)\u001b[0m\n\u001b[1;32m     37\u001b[0m             display(\n\u001b[1;32m     38\u001b[0m                 \u001b[0mfigure_manager\u001b[0m\u001b[0;34m.\u001b[0m\u001b[0mcanvas\u001b[0m\u001b[0;34m.\u001b[0m\u001b[0mfigure\u001b[0m\u001b[0;34m,\u001b[0m\u001b[0;34m\u001b[0m\u001b[0;34m\u001b[0m\u001b[0m\n\u001b[0;32m---> 39\u001b[0;31m                 \u001b[0mmetadata\u001b[0m\u001b[0;34m=\u001b[0m\u001b[0m_fetch_figure_metadata\u001b[0m\u001b[0;34m(\u001b[0m\u001b[0mfigure_manager\u001b[0m\u001b[0;34m.\u001b[0m\u001b[0mcanvas\u001b[0m\u001b[0;34m.\u001b[0m\u001b[0mfigure\u001b[0m\u001b[0;34m)\u001b[0m\u001b[0;34m\u001b[0m\u001b[0;34m\u001b[0m\u001b[0m\n\u001b[0m\u001b[1;32m     40\u001b[0m             )\n\u001b[1;32m     41\u001b[0m     \u001b[0;32mfinally\u001b[0m\u001b[0;34m:\u001b[0m\u001b[0;34m\u001b[0m\u001b[0;34m\u001b[0m\u001b[0m\n",
      "\u001b[0;32m/projects/anaconda3/lib/python3.6/site-packages/IPython/core/display.py\u001b[0m in \u001b[0;36mdisplay\u001b[0;34m(include, exclude, metadata, transient, display_id, *objs, **kwargs)\u001b[0m\n\u001b[1;32m    302\u001b[0m             \u001b[0mpublish_display_data\u001b[0m\u001b[0;34m(\u001b[0m\u001b[0mdata\u001b[0m\u001b[0;34m=\u001b[0m\u001b[0mobj\u001b[0m\u001b[0;34m,\u001b[0m \u001b[0mmetadata\u001b[0m\u001b[0;34m=\u001b[0m\u001b[0mmetadata\u001b[0m\u001b[0;34m,\u001b[0m \u001b[0;34m**\u001b[0m\u001b[0mkwargs\u001b[0m\u001b[0;34m)\u001b[0m\u001b[0;34m\u001b[0m\u001b[0;34m\u001b[0m\u001b[0m\n\u001b[1;32m    303\u001b[0m         \u001b[0;32melse\u001b[0m\u001b[0;34m:\u001b[0m\u001b[0;34m\u001b[0m\u001b[0;34m\u001b[0m\u001b[0m\n\u001b[0;32m--> 304\u001b[0;31m             \u001b[0mformat_dict\u001b[0m\u001b[0;34m,\u001b[0m \u001b[0mmd_dict\u001b[0m \u001b[0;34m=\u001b[0m \u001b[0mformat\u001b[0m\u001b[0;34m(\u001b[0m\u001b[0mobj\u001b[0m\u001b[0;34m,\u001b[0m \u001b[0minclude\u001b[0m\u001b[0;34m=\u001b[0m\u001b[0minclude\u001b[0m\u001b[0;34m,\u001b[0m \u001b[0mexclude\u001b[0m\u001b[0;34m=\u001b[0m\u001b[0mexclude\u001b[0m\u001b[0;34m)\u001b[0m\u001b[0;34m\u001b[0m\u001b[0;34m\u001b[0m\u001b[0m\n\u001b[0m\u001b[1;32m    305\u001b[0m             \u001b[0;32mif\u001b[0m \u001b[0;32mnot\u001b[0m \u001b[0mformat_dict\u001b[0m\u001b[0;34m:\u001b[0m\u001b[0;34m\u001b[0m\u001b[0;34m\u001b[0m\u001b[0m\n\u001b[1;32m    306\u001b[0m                 \u001b[0;31m# nothing to display (e.g. _ipython_display_ took over)\u001b[0m\u001b[0;34m\u001b[0m\u001b[0;34m\u001b[0m\u001b[0;34m\u001b[0m\u001b[0m\n",
      "\u001b[0;32m/projects/anaconda3/lib/python3.6/site-packages/IPython/core/formatters.py\u001b[0m in \u001b[0;36mformat\u001b[0;34m(self, obj, include, exclude)\u001b[0m\n\u001b[1;32m    178\u001b[0m             \u001b[0mmd\u001b[0m \u001b[0;34m=\u001b[0m \u001b[0;32mNone\u001b[0m\u001b[0;34m\u001b[0m\u001b[0;34m\u001b[0m\u001b[0m\n\u001b[1;32m    179\u001b[0m             \u001b[0;32mtry\u001b[0m\u001b[0;34m:\u001b[0m\u001b[0;34m\u001b[0m\u001b[0;34m\u001b[0m\u001b[0m\n\u001b[0;32m--> 180\u001b[0;31m                 \u001b[0mdata\u001b[0m \u001b[0;34m=\u001b[0m \u001b[0mformatter\u001b[0m\u001b[0;34m(\u001b[0m\u001b[0mobj\u001b[0m\u001b[0;34m)\u001b[0m\u001b[0;34m\u001b[0m\u001b[0;34m\u001b[0m\u001b[0m\n\u001b[0m\u001b[1;32m    181\u001b[0m             \u001b[0;32mexcept\u001b[0m\u001b[0;34m:\u001b[0m\u001b[0;34m\u001b[0m\u001b[0;34m\u001b[0m\u001b[0m\n\u001b[1;32m    182\u001b[0m                 \u001b[0;31m# FIXME: log the exception\u001b[0m\u001b[0;34m\u001b[0m\u001b[0;34m\u001b[0m\u001b[0;34m\u001b[0m\u001b[0m\n",
      "\u001b[0;32m<decorator-gen-9>\u001b[0m in \u001b[0;36m__call__\u001b[0;34m(self, obj)\u001b[0m\n",
      "\u001b[0;32m/projects/anaconda3/lib/python3.6/site-packages/IPython/core/formatters.py\u001b[0m in \u001b[0;36mcatch_format_error\u001b[0;34m(method, self, *args, **kwargs)\u001b[0m\n\u001b[1;32m    222\u001b[0m     \u001b[0;34m\"\"\"show traceback on failed format call\"\"\"\u001b[0m\u001b[0;34m\u001b[0m\u001b[0;34m\u001b[0m\u001b[0m\n\u001b[1;32m    223\u001b[0m     \u001b[0;32mtry\u001b[0m\u001b[0;34m:\u001b[0m\u001b[0;34m\u001b[0m\u001b[0;34m\u001b[0m\u001b[0m\n\u001b[0;32m--> 224\u001b[0;31m         \u001b[0mr\u001b[0m \u001b[0;34m=\u001b[0m \u001b[0mmethod\u001b[0m\u001b[0;34m(\u001b[0m\u001b[0mself\u001b[0m\u001b[0;34m,\u001b[0m \u001b[0;34m*\u001b[0m\u001b[0margs\u001b[0m\u001b[0;34m,\u001b[0m \u001b[0;34m**\u001b[0m\u001b[0mkwargs\u001b[0m\u001b[0;34m)\u001b[0m\u001b[0;34m\u001b[0m\u001b[0;34m\u001b[0m\u001b[0m\n\u001b[0m\u001b[1;32m    225\u001b[0m     \u001b[0;32mexcept\u001b[0m \u001b[0mNotImplementedError\u001b[0m\u001b[0;34m:\u001b[0m\u001b[0;34m\u001b[0m\u001b[0;34m\u001b[0m\u001b[0m\n\u001b[1;32m    226\u001b[0m         \u001b[0;31m# don't warn on NotImplementedErrors\u001b[0m\u001b[0;34m\u001b[0m\u001b[0;34m\u001b[0m\u001b[0;34m\u001b[0m\u001b[0m\n",
      "\u001b[0;32m/projects/anaconda3/lib/python3.6/site-packages/IPython/core/formatters.py\u001b[0m in \u001b[0;36m__call__\u001b[0;34m(self, obj)\u001b[0m\n\u001b[1;32m    339\u001b[0m                 \u001b[0;32mpass\u001b[0m\u001b[0;34m\u001b[0m\u001b[0;34m\u001b[0m\u001b[0m\n\u001b[1;32m    340\u001b[0m             \u001b[0;32melse\u001b[0m\u001b[0;34m:\u001b[0m\u001b[0;34m\u001b[0m\u001b[0;34m\u001b[0m\u001b[0m\n\u001b[0;32m--> 341\u001b[0;31m                 \u001b[0;32mreturn\u001b[0m \u001b[0mprinter\u001b[0m\u001b[0;34m(\u001b[0m\u001b[0mobj\u001b[0m\u001b[0;34m)\u001b[0m\u001b[0;34m\u001b[0m\u001b[0;34m\u001b[0m\u001b[0m\n\u001b[0m\u001b[1;32m    342\u001b[0m             \u001b[0;31m# Finally look for special method names\u001b[0m\u001b[0;34m\u001b[0m\u001b[0;34m\u001b[0m\u001b[0;34m\u001b[0m\u001b[0m\n\u001b[1;32m    343\u001b[0m             \u001b[0mmethod\u001b[0m \u001b[0;34m=\u001b[0m \u001b[0mget_real_method\u001b[0m\u001b[0;34m(\u001b[0m\u001b[0mobj\u001b[0m\u001b[0;34m,\u001b[0m \u001b[0mself\u001b[0m\u001b[0;34m.\u001b[0m\u001b[0mprint_method\u001b[0m\u001b[0;34m)\u001b[0m\u001b[0;34m\u001b[0m\u001b[0;34m\u001b[0m\u001b[0m\n",
      "\u001b[0;32m/projects/anaconda3/lib/python3.6/site-packages/IPython/core/pylabtools.py\u001b[0m in \u001b[0;36m<lambda>\u001b[0;34m(fig)\u001b[0m\n\u001b[1;32m    242\u001b[0m \u001b[0;34m\u001b[0m\u001b[0m\n\u001b[1;32m    243\u001b[0m     \u001b[0;32mif\u001b[0m \u001b[0;34m'png'\u001b[0m \u001b[0;32min\u001b[0m \u001b[0mformats\u001b[0m\u001b[0;34m:\u001b[0m\u001b[0;34m\u001b[0m\u001b[0;34m\u001b[0m\u001b[0m\n\u001b[0;32m--> 244\u001b[0;31m         \u001b[0mpng_formatter\u001b[0m\u001b[0;34m.\u001b[0m\u001b[0mfor_type\u001b[0m\u001b[0;34m(\u001b[0m\u001b[0mFigure\u001b[0m\u001b[0;34m,\u001b[0m \u001b[0;32mlambda\u001b[0m \u001b[0mfig\u001b[0m\u001b[0;34m:\u001b[0m \u001b[0mprint_figure\u001b[0m\u001b[0;34m(\u001b[0m\u001b[0mfig\u001b[0m\u001b[0;34m,\u001b[0m \u001b[0;34m'png'\u001b[0m\u001b[0;34m,\u001b[0m \u001b[0;34m**\u001b[0m\u001b[0mkwargs\u001b[0m\u001b[0;34m)\u001b[0m\u001b[0;34m)\u001b[0m\u001b[0;34m\u001b[0m\u001b[0;34m\u001b[0m\u001b[0m\n\u001b[0m\u001b[1;32m    245\u001b[0m     \u001b[0;32mif\u001b[0m \u001b[0;34m'retina'\u001b[0m \u001b[0;32min\u001b[0m \u001b[0mformats\u001b[0m \u001b[0;32mor\u001b[0m \u001b[0;34m'png2x'\u001b[0m \u001b[0;32min\u001b[0m \u001b[0mformats\u001b[0m\u001b[0;34m:\u001b[0m\u001b[0;34m\u001b[0m\u001b[0;34m\u001b[0m\u001b[0m\n\u001b[1;32m    246\u001b[0m         \u001b[0mpng_formatter\u001b[0m\u001b[0;34m.\u001b[0m\u001b[0mfor_type\u001b[0m\u001b[0;34m(\u001b[0m\u001b[0mFigure\u001b[0m\u001b[0;34m,\u001b[0m \u001b[0;32mlambda\u001b[0m \u001b[0mfig\u001b[0m\u001b[0;34m:\u001b[0m \u001b[0mretina_figure\u001b[0m\u001b[0;34m(\u001b[0m\u001b[0mfig\u001b[0m\u001b[0;34m,\u001b[0m \u001b[0;34m**\u001b[0m\u001b[0mkwargs\u001b[0m\u001b[0;34m)\u001b[0m\u001b[0;34m)\u001b[0m\u001b[0;34m\u001b[0m\u001b[0;34m\u001b[0m\u001b[0m\n",
      "\u001b[0;32m/projects/anaconda3/lib/python3.6/site-packages/IPython/core/pylabtools.py\u001b[0m in \u001b[0;36mprint_figure\u001b[0;34m(fig, fmt, bbox_inches, **kwargs)\u001b[0m\n\u001b[1;32m    126\u001b[0m \u001b[0;34m\u001b[0m\u001b[0m\n\u001b[1;32m    127\u001b[0m     \u001b[0mbytes_io\u001b[0m \u001b[0;34m=\u001b[0m \u001b[0mBytesIO\u001b[0m\u001b[0;34m(\u001b[0m\u001b[0;34m)\u001b[0m\u001b[0;34m\u001b[0m\u001b[0;34m\u001b[0m\u001b[0m\n\u001b[0;32m--> 128\u001b[0;31m     \u001b[0mfig\u001b[0m\u001b[0;34m.\u001b[0m\u001b[0mcanvas\u001b[0m\u001b[0;34m.\u001b[0m\u001b[0mprint_figure\u001b[0m\u001b[0;34m(\u001b[0m\u001b[0mbytes_io\u001b[0m\u001b[0;34m,\u001b[0m \u001b[0;34m**\u001b[0m\u001b[0mkw\u001b[0m\u001b[0;34m)\u001b[0m\u001b[0;34m\u001b[0m\u001b[0;34m\u001b[0m\u001b[0m\n\u001b[0m\u001b[1;32m    129\u001b[0m     \u001b[0mdata\u001b[0m \u001b[0;34m=\u001b[0m \u001b[0mbytes_io\u001b[0m\u001b[0;34m.\u001b[0m\u001b[0mgetvalue\u001b[0m\u001b[0;34m(\u001b[0m\u001b[0;34m)\u001b[0m\u001b[0;34m\u001b[0m\u001b[0;34m\u001b[0m\u001b[0m\n\u001b[1;32m    130\u001b[0m     \u001b[0;32mif\u001b[0m \u001b[0mfmt\u001b[0m \u001b[0;34m==\u001b[0m \u001b[0;34m'svg'\u001b[0m\u001b[0;34m:\u001b[0m\u001b[0;34m\u001b[0m\u001b[0;34m\u001b[0m\u001b[0m\n",
      "\u001b[0;32m/projects/anaconda3/lib/python3.6/site-packages/matplotlib/backend_bases.py\u001b[0m in \u001b[0;36mprint_figure\u001b[0;34m(self, filename, dpi, facecolor, edgecolor, orientation, format, **kwargs)\u001b[0m\n\u001b[1;32m   2216\u001b[0m                 \u001b[0mbbox_filtered\u001b[0m \u001b[0;34m=\u001b[0m \u001b[0;34m[\u001b[0m\u001b[0;34m]\u001b[0m\u001b[0;34m\u001b[0m\u001b[0;34m\u001b[0m\u001b[0m\n\u001b[1;32m   2217\u001b[0m                 \u001b[0;32mfor\u001b[0m \u001b[0ma\u001b[0m \u001b[0;32min\u001b[0m \u001b[0mbbox_artists\u001b[0m\u001b[0;34m:\u001b[0m\u001b[0;34m\u001b[0m\u001b[0;34m\u001b[0m\u001b[0m\n\u001b[0;32m-> 2218\u001b[0;31m                     \u001b[0mbbox\u001b[0m \u001b[0;34m=\u001b[0m \u001b[0ma\u001b[0m\u001b[0;34m.\u001b[0m\u001b[0mget_window_extent\u001b[0m\u001b[0;34m(\u001b[0m\u001b[0mrenderer\u001b[0m\u001b[0;34m)\u001b[0m\u001b[0;34m\u001b[0m\u001b[0;34m\u001b[0m\u001b[0m\n\u001b[0m\u001b[1;32m   2219\u001b[0m                     \u001b[0;32mif\u001b[0m \u001b[0ma\u001b[0m\u001b[0;34m.\u001b[0m\u001b[0mget_clip_on\u001b[0m\u001b[0;34m(\u001b[0m\u001b[0;34m)\u001b[0m\u001b[0;34m:\u001b[0m\u001b[0;34m\u001b[0m\u001b[0;34m\u001b[0m\u001b[0m\n\u001b[1;32m   2220\u001b[0m                         \u001b[0mclip_box\u001b[0m \u001b[0;34m=\u001b[0m \u001b[0ma\u001b[0m\u001b[0;34m.\u001b[0m\u001b[0mget_clip_box\u001b[0m\u001b[0;34m(\u001b[0m\u001b[0;34m)\u001b[0m\u001b[0;34m\u001b[0m\u001b[0;34m\u001b[0m\u001b[0m\n",
      "\u001b[0;32m/projects/anaconda3/lib/python3.6/site-packages/matplotlib/collections.py\u001b[0m in \u001b[0;36mget_window_extent\u001b[0;34m(self, renderer)\u001b[0m\n\u001b[1;32m    206\u001b[0m         \u001b[0;31m# TODO:check to ensure that this does not fail for\u001b[0m\u001b[0;34m\u001b[0m\u001b[0;34m\u001b[0m\u001b[0;34m\u001b[0m\u001b[0m\n\u001b[1;32m    207\u001b[0m         \u001b[0;31m# cases other than scatter plot legend\u001b[0m\u001b[0;34m\u001b[0m\u001b[0;34m\u001b[0m\u001b[0;34m\u001b[0m\u001b[0m\n\u001b[0;32m--> 208\u001b[0;31m         \u001b[0;32mreturn\u001b[0m \u001b[0mself\u001b[0m\u001b[0;34m.\u001b[0m\u001b[0mget_datalim\u001b[0m\u001b[0;34m(\u001b[0m\u001b[0mtransforms\u001b[0m\u001b[0;34m.\u001b[0m\u001b[0mIdentityTransform\u001b[0m\u001b[0;34m(\u001b[0m\u001b[0;34m)\u001b[0m\u001b[0;34m)\u001b[0m\u001b[0;34m\u001b[0m\u001b[0;34m\u001b[0m\u001b[0m\n\u001b[0m\u001b[1;32m    209\u001b[0m \u001b[0;34m\u001b[0m\u001b[0m\n\u001b[1;32m    210\u001b[0m     \u001b[0;32mdef\u001b[0m \u001b[0m_prepare_points\u001b[0m\u001b[0;34m(\u001b[0m\u001b[0mself\u001b[0m\u001b[0;34m)\u001b[0m\u001b[0;34m:\u001b[0m\u001b[0;34m\u001b[0m\u001b[0;34m\u001b[0m\u001b[0m\n",
      "\u001b[0;32m/projects/anaconda3/lib/python3.6/site-packages/matplotlib/collections.py\u001b[0m in \u001b[0;36mget_datalim\u001b[0;34m(self, transData)\u001b[0m\n\u001b[1;32m    197\u001b[0m             result = mpath.get_path_collection_extents(\n\u001b[1;32m    198\u001b[0m                 \u001b[0mtransform\u001b[0m\u001b[0;34m.\u001b[0m\u001b[0mfrozen\u001b[0m\u001b[0;34m(\u001b[0m\u001b[0;34m)\u001b[0m\u001b[0;34m,\u001b[0m \u001b[0mpaths\u001b[0m\u001b[0;34m,\u001b[0m \u001b[0mself\u001b[0m\u001b[0;34m.\u001b[0m\u001b[0mget_transforms\u001b[0m\u001b[0;34m(\u001b[0m\u001b[0;34m)\u001b[0m\u001b[0;34m,\u001b[0m\u001b[0;34m\u001b[0m\u001b[0;34m\u001b[0m\u001b[0m\n\u001b[0;32m--> 199\u001b[0;31m                 offsets, transOffset.frozen())\n\u001b[0m\u001b[1;32m    200\u001b[0m             \u001b[0mresult\u001b[0m \u001b[0;34m=\u001b[0m \u001b[0mresult\u001b[0m\u001b[0;34m.\u001b[0m\u001b[0minverse_transformed\u001b[0m\u001b[0;34m(\u001b[0m\u001b[0mtransData\u001b[0m\u001b[0;34m)\u001b[0m\u001b[0;34m\u001b[0m\u001b[0;34m\u001b[0m\u001b[0m\n\u001b[1;32m    201\u001b[0m         \u001b[0;32melse\u001b[0m\u001b[0;34m:\u001b[0m\u001b[0;34m\u001b[0m\u001b[0;34m\u001b[0m\u001b[0m\n",
      "\u001b[0;32m/projects/anaconda3/lib/python3.6/site-packages/matplotlib/path.py\u001b[0m in \u001b[0;36mget_path_collection_extents\u001b[0;34m(master_transform, paths, transforms, offsets, offset_transform)\u001b[0m\n\u001b[1;32m   1013\u001b[0m     return Bbox.from_extents(*_path.get_path_collection_extents(\n\u001b[1;32m   1014\u001b[0m         \u001b[0mmaster_transform\u001b[0m\u001b[0;34m,\u001b[0m \u001b[0mpaths\u001b[0m\u001b[0;34m,\u001b[0m \u001b[0mnp\u001b[0m\u001b[0;34m.\u001b[0m\u001b[0matleast_3d\u001b[0m\u001b[0;34m(\u001b[0m\u001b[0mtransforms\u001b[0m\u001b[0;34m)\u001b[0m\u001b[0;34m,\u001b[0m\u001b[0;34m\u001b[0m\u001b[0;34m\u001b[0m\u001b[0m\n\u001b[0;32m-> 1015\u001b[0;31m         offsets, offset_transform))\n\u001b[0m\u001b[1;32m   1016\u001b[0m \u001b[0;34m\u001b[0m\u001b[0m\n\u001b[1;32m   1017\u001b[0m \u001b[0;34m\u001b[0m\u001b[0m\n",
      "\u001b[0;32m/projects/anaconda3/lib/python3.6/site-packages/matplotlib/path.py\u001b[0m in \u001b[0;36mshould_simplify\u001b[0;34m(self)\u001b[0m\n\u001b[1;32m    264\u001b[0m         \u001b[0;32mreturn\u001b[0m \u001b[0mself\u001b[0m\u001b[0;34m.\u001b[0m\u001b[0m_has_nonfinite\u001b[0m\u001b[0;34m\u001b[0m\u001b[0;34m\u001b[0m\u001b[0m\n\u001b[1;32m    265\u001b[0m \u001b[0;34m\u001b[0m\u001b[0m\n\u001b[0;32m--> 266\u001b[0;31m     \u001b[0;34m@\u001b[0m\u001b[0mproperty\u001b[0m\u001b[0;34m\u001b[0m\u001b[0;34m\u001b[0m\u001b[0m\n\u001b[0m\u001b[1;32m    267\u001b[0m     \u001b[0;32mdef\u001b[0m \u001b[0mshould_simplify\u001b[0m\u001b[0;34m(\u001b[0m\u001b[0mself\u001b[0m\u001b[0;34m)\u001b[0m\u001b[0;34m:\u001b[0m\u001b[0;34m\u001b[0m\u001b[0;34m\u001b[0m\u001b[0m\n\u001b[1;32m    268\u001b[0m         \"\"\"\n",
      "\u001b[0;31mKeyboardInterrupt\u001b[0m: "
     ]
    }
   ],
   "source": [
    "x = dfa.x#[:10000]\n",
    "y = dfa.y#[:10000]\n",
    "#densa = dfa.dens[:10000].values\n",
    "#dens = densa/25\n",
    "\n",
    "plt.scatter(x, y, 0.1)\n",
    "plt.show()"
   ]
  },
  {
   "cell_type": "code",
   "execution_count": 0,
   "metadata": {
    "collapsed": false
   },
   "outputs": [
   ],
   "source": [
    "#f = h5py.File('/store/clues/HESTIA/RE_SIMS/2048/GAL_FOR/37_11/output/snapdir_022/snapshot_022.7.hdf5', 'r')\n",
    "#list(f.keys())\n",
    "#ID  = np.uint32(f['/PartType0/ParticleIDs'].value)\n",
    "#print(len(ID))\n",
    "\n",
    "#pos = np.float32(f['/PartType0/Coordinates'].value)\n",
    "#ID  = np.uint32(f['/PartType0/ParticleIDs'].value)\n",
    "\n",
    "#df.append(ID,pos)\n",
    "\n",
    "#a = dfa.dens[:10].values\n",
    "#print(a)\n",
    "#b = a / 100\n",
    "#print(b)"
   ]
  },
  {
   "cell_type": "code",
   "execution_count": 55,
   "metadata": {
    "collapsed": false,
    "scrolled": true
   },
   "outputs": [
    {
     "data": {
      "text/plain": [
       "['snapshot_127.1.hdf5',\n",
       " 'snapshot_127.6.hdf5',\n",
       " 'snapshot_127.7.hdf5',\n",
       " 'snapshot_127.4.hdf5',\n",
       " 'snapshot_127.2.hdf5',\n",
       " 'snapshot_127.0.hdf5',\n",
       " 'snapshot_127.3.hdf5',\n",
       " 'snapshot_127.5.hdf5']"
      ]
     },
     "execution_count": 55,
     "metadata": {
     },
     "output_type": "execute_result"
    }
   ],
   "source": [
    "path = '/store/clues/HESTIA/RE_SIMS/2048/GAL_FOR/37_11/output/snapdir_127'\n",
    "\n",
    "#h5files = [f for f in os.listdir(folder) if os.path.isfile(os.path.join(folder, f))]\n",
    "os.listdir(path)"
   ]
  },
  {
   "cell_type": "code",
   "execution_count": 53,
   "metadata": {
    "collapsed": false
   },
   "outputs": [
    {
     "name": "stdout",
     "output_type": "stream",
     "text": [
      "NumPart_ThisFile [2470380  366016   20641 2161035  117700       3       0]\n",
      "NumPart_Total [19759498  3474944   245696 16799434   900164       47        0]\n",
      "NumPart_Total_HighWord [0 0 0 0 0 0 0]\n",
      "MassTable [0. 0. 0. 0. 0. 0. 0.]\n",
      "Time 0.9999999999999996\n",
      "Redshift 4.440892098500626e-16\n",
      "BoxSize 100.0\n",
      "NumFilesPerSnapshot 8\n",
      "Omega0 0.318\n",
      "OmegaLambda 0.682\n",
      "OmegaBaryon 0.048\n",
      "HubbleParam 0.6777\n",
      "Flag_Sfr 1\n",
      "Flag_Cooling 1\n",
      "Flag_StellarAge 0\n",
      "Flag_Metals 0\n",
      "Flag_Feedback 1\n",
      "Flag_DoublePrecision 0\n",
      "Composition_vector_length 0\n",
      "Git_commit b'unknown'\n",
      "Git_date b'unknown'\n",
      "UnitLength_in_cm 3.085678e+24\n",
      "UnitMass_in_g 1.989e+43\n",
      "UnitVelocity_in_cm_per_s 100000.0\n",
      "8\n"
     ]
    }
   ],
   "source": [
    "\n",
    "attrs = f['/Header'].attrs\n",
    "for i in list(attrs):\n",
    "    print(i,attrs[i])\n",
    "print(attrs[\"NumFilesPerSnapshot\"])\n"
   ]
  },
  {
   "cell_type": "code",
   "execution_count": 0,
   "metadata": {
    "collapsed": false
   },
   "outputs": [
   ],
   "source": [
   ]
  },
  {
   "cell_type": "code",
   "execution_count": 54,
   "metadata": {
    "collapsed": false
   },
   "outputs": [
    {
     "name": "stdout",
     "output_type": "stream",
     "text": [
      "<HDF5 file \"snapshot_127.7.hdf5\" (mode r)>\n"
     ]
    }
   ],
   "source": [
    "print(f)"
   ]
  },
  {
   "cell_type": "code",
   "execution_count": 50,
   "metadata": {
    "collapsed": false
   },
   "outputs": [
    {
     "ename": "AttributeError",
     "evalue": "type object 'abba' has no attribute 'name'",
     "output_type": "error",
     "traceback": [
      "\u001b[0;31m---------------------------------------------------------------------------\u001b[0m",
      "\u001b[0;31mAttributeError\u001b[0m                            Traceback (most recent call last)",
      "\u001b[0;32m<ipython-input-50-3bfc6d8b10f0>\u001b[0m in \u001b[0;36m<module>\u001b[0;34m\u001b[0m\n\u001b[1;32m      6\u001b[0m         \u001b[0mjob\u001b[0m \u001b[0;34m=\u001b[0m \u001b[0;34m\"do nothing\"\u001b[0m\u001b[0;34m\u001b[0m\u001b[0;34m\u001b[0m\u001b[0m\n\u001b[1;32m      7\u001b[0m \u001b[0mabba\u001b[0m\u001b[0;34m.\u001b[0m\u001b[0mvanity\u001b[0m\u001b[0;34m(\u001b[0m\u001b[0;34m)\u001b[0m\u001b[0;34m\u001b[0m\u001b[0;34m\u001b[0m\u001b[0m\n\u001b[0;32m----> 8\u001b[0;31m \u001b[0mprint\u001b[0m\u001b[0;34m(\u001b[0m\u001b[0mabba\u001b[0m\u001b[0;34m.\u001b[0m\u001b[0mname\u001b[0m\u001b[0;34m)\u001b[0m\u001b[0;34m\u001b[0m\u001b[0;34m\u001b[0m\u001b[0m\n\u001b[0m",
      "\u001b[0;31mAttributeError\u001b[0m: type object 'abba' has no attribute 'name'"
     ]
    }
   ],
   "source": [
    "class abba:\n",
    "    def __init__():\n",
    "        abba.name = 'haha'\n",
    "\n",
    "    def vanity():\n",
    "        job = \"do nothing\"\n"
   ]
  },
  {
   "cell_type": "code",
   "execution_count": 57,
   "metadata": {
    "collapsed": false
   },
   "outputs": [
    {
     "ename": "AttributeError",
     "evalue": "'dict' object has no attribute 'append'",
     "output_type": "error",
     "traceback": [
      "\u001b[0;31m---------------------------------------------------------------------------\u001b[0m",
      "\u001b[0;31mAttributeError\u001b[0m                            Traceback (most recent call last)",
      "\u001b[0;32m<ipython-input-57-64a09f9b268f>\u001b[0m in \u001b[0;36m<module>\u001b[0;34m\u001b[0m\n\u001b[1;32m      1\u001b[0m \u001b[0md\u001b[0m \u001b[0;34m=\u001b[0m \u001b[0;34m{\u001b[0m\u001b[0;34m\"x\"\u001b[0m\u001b[0;34m:\u001b[0m\u001b[0mpos\u001b[0m\u001b[0;34m[\u001b[0m\u001b[0;34m:\u001b[0m\u001b[0;34m,\u001b[0m\u001b[0;36m0\u001b[0m\u001b[0;34m]\u001b[0m\u001b[0;34m,\u001b[0m\u001b[0;34m\"y\"\u001b[0m\u001b[0;34m:\u001b[0m\u001b[0mpos\u001b[0m\u001b[0;34m[\u001b[0m\u001b[0;34m:\u001b[0m\u001b[0;34m,\u001b[0m\u001b[0;36m1\u001b[0m\u001b[0;34m]\u001b[0m\u001b[0;34m,\u001b[0m\u001b[0;34m\"z\"\u001b[0m\u001b[0;34m:\u001b[0m\u001b[0mpos\u001b[0m\u001b[0;34m[\u001b[0m\u001b[0;34m:\u001b[0m\u001b[0;34m,\u001b[0m\u001b[0;36m2\u001b[0m\u001b[0;34m]\u001b[0m\u001b[0;34m,\u001b[0m\u001b[0;34m\"dens\"\u001b[0m\u001b[0;34m:\u001b[0m\u001b[0mdens\u001b[0m \u001b[0;34m,\u001b[0m \u001b[0;34m\"ID\"\u001b[0m\u001b[0;34m:\u001b[0m\u001b[0mID\u001b[0m\u001b[0;34m}\u001b[0m\u001b[0;34m\u001b[0m\u001b[0;34m\u001b[0m\u001b[0m\n\u001b[0;32m----> 2\u001b[0;31m \u001b[0md\u001b[0m\u001b[0;34m.\u001b[0m\u001b[0mappend\u001b[0m\u001b[0;34m(\u001b[0m\u001b[0;34m{\u001b[0m\u001b[0;34m\"snap\"\u001b[0m\u001b[0;34m:\u001b[0m\u001b[0mID\u001b[0m\u001b[0;34m*\u001b[0m\u001b[0;36m0\u001b[0m\u001b[0;34m+\u001b[0m\u001b[0ms\u001b[0m\u001b[0;34m}\u001b[0m\u001b[0;34m)\u001b[0m\u001b[0;34m\u001b[0m\u001b[0;34m\u001b[0m\u001b[0m\n\u001b[0m\u001b[1;32m      3\u001b[0m \u001b[0md\u001b[0m\u001b[0;34m\u001b[0m\u001b[0;34m\u001b[0m\u001b[0m\n",
      "\u001b[0;31mAttributeError\u001b[0m: 'dict' object has no attribute 'append'"
     ]
    }
   ],
   "source": [
    "d = {\"x\":pos[:,0],\"y\":pos[:,1],\"z\":pos[:,2],\"dens\":dens , \"ID\":ID}\n",
    "d.append({\"snap\":ID*0+s})\n",
    "d"
   ]
  }
 ],
 "metadata": {
  "kernelspec": {
   "display_name": "Anaconda(Py3.6)",
   "language": "python",
   "name": "anaconda3"
  },
  "language_info": {
   "codemirror_mode": {
    "name": "ipython",
    "version": 3
   },
   "file_extension": ".py",
   "mimetype": "text/x-python",
   "name": "python",
   "nbconvert_exporter": "python",
   "pygments_lexer": "ipython3",
   "version": "3.6.7"
  }
 },
 "nbformat": 4,
 "nbformat_minor": 0
}