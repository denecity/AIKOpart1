{
 "cells": [
  {
   "cell_type": "code",
   "execution_count": 15,
   "metadata": {
    "collapsed": false,
    "scrolled": true
   },
   "outputs": [
   ],
   "source": [
    "import matplotlib\n",
    "import matplotlib.pyplot as plt\n",
    "import matplotlib.animation\n",
    "import numpy as np\n",
    "from IPython.display import HTML\n",
    "\n",
    "\n",
    "def init_animation():\n",
    "    global line\n",
    "    line, = ax.plot(x, np.zeros_like(x))\n",
    "    ax.set_xlim(0, 2*np.pi)\n",
    "    ax.set_ylim(-1,1)\n",
    "\n",
    "def animate(i):\n",
    "    line.set_ydata(np.sin(2*np.pi*i / 25)*np.sin(x+i*0.1))\n",
    "    return line,\n",
    "\n",
    "plt.ioff()\n",
    "fig = plt.figure()\n",
    "fig, ax = plt.subplots()\n",
    "ax = fig.add_subplot(111)\n",
    "plt.xlabel(\"$M_\\odot$\")\n",
    "x = np.linspace(0, 2*np.pi, 200)\n",
    "\n",
    "ani = matplotlib.animation.FuncAnimation(fig, animate, init_func=init_animation, frames=50)\n",
    "ani.save('animation.gif', writer='imagemagick', fps=30)\n"
   ]
  },
  {
   "cell_type": "code",
   "execution_count": 16,
   "metadata": {
    "collapsed": false
   },
   "outputs": [
    {
     "data": {
      "text/html": [
       "<img src=\"animation.gif?var=477828\">"
      ]
     },
     "execution_count": 16,
     "metadata": {
     },
     "output_type": "execute_result"
    }
   ],
   "source": [
    "from random import randint\n",
    "HTML('<img src=\"animation.gif?var='+str(randint(0, 1e6))+'\">')"
   ]
  },
  {
   "cell_type": "code",
   "execution_count": 0,
   "metadata": {
    "collapsed": false
   },
   "outputs": [
   ],
   "source": [
   ]
  }
 ],
 "metadata": {
  "kernelspec": {
   "display_name": "Anaconda(Py3.6)",
   "language": "python",
   "name": "anaconda3"
  },
  "language_info": {
   "codemirror_mode": {
    "name": "ipython",
    "version": 3
   },
   "file_extension": ".py",
   "mimetype": "text/x-python",
   "name": "python",
   "nbconvert_exporter": "python",
   "pygments_lexer": "ipython3",
   "version": "3.6.7"
  }
 },
 "nbformat": 4,
 "nbformat_minor": 0
}