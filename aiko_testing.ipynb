{
 "cells": [
  {
   "cell_type": "code",
   "execution_count": 1,
   "metadata": {
    "collapsed": false,
    "scrolled": true
   },
   "outputs": [
   ],
   "source": [
    "import importlib\n",
    "import aiko\n",
    "import matplotlib.pyplot as plt\n",
    "import matplotlib.colors as colors #plot data\n",
    "import h5py\n",
    "import numpy as np\n",
    "import pandas as pd\n",
    "import scipy.interpolate"
   ]
  },
  {
   "cell_type": "code",
   "execution_count": 2,
   "metadata": {
    "collapsed": false
   },
   "outputs": [
   ],
   "source": [
    "a = aiko.arepo_reader(path=\"/store/clues/HESTIA/RE_SIMS/2048/GAL_FOR/37_11/output\", snapshotRange=[127])"
   ]
  },
  {
   "cell_type": "code",
   "execution_count": 3,
   "metadata": {
    "collapsed": false
   },
   "outputs": [
    {
     "name": "stdout",
     "output_type": "stream",
     "text": [
      "reading...\n",
      "processing...\n",
      "done!\n"
     ]
    }
   ],
   "source": [
    "groupData = a.read_arepo_gal()"
   ]
  },
  {
   "cell_type": "code",
   "execution_count": 4,
   "metadata": {
    "collapsed": false
   },
   "outputs": [
    {
     "name": "stdout",
     "output_type": "stream",
     "text": [
      "reading...\n"
     ]
    },
    {
     "name": "stdout",
     "output_type": "stream",
     "text": [
      "processing...\n"
     ]
    },
    {
     "name": "stdout",
     "output_type": "stream",
     "text": [
      "done!\n"
     ]
    }
   ],
   "source": [
    "data = a.read_arepo_raw()"
   ]
  },
  {
   "cell_type": "code",
   "execution_count": 5,
   "metadata": {
    "collapsed": false
   },
   "outputs": [
    {
     "data": {
      "text/plain": [
       "24"
      ]
     },
     "execution_count": 5,
     "metadata": {
     },
     "output_type": "execute_result"
    }
   ],
   "source": [
    "int(len(data)/1000000)"
   ]
  },
  {
   "cell_type": "code",
   "execution_count": 6,
   "metadata": {
    "collapsed": false
   },
   "outputs": [
    {
     "ename": "IndexError",
     "evalue": "list index out of range",
     "output_type": "error",
     "traceback": [
      "\u001b[0;31m---------------------------------------------------------------------------\u001b[0m",
      "\u001b[0;31mIndexError\u001b[0m                                Traceback (most recent call last)",
      "\u001b[0;32m<ipython-input-6-601ff338fc92>\u001b[0m in \u001b[0;36m<module>\u001b[0;34m\u001b[0m\n\u001b[1;32m      2\u001b[0m \u001b[0mns\u001b[0m \u001b[0;34m=\u001b[0m \u001b[0;36m3\u001b[0m\u001b[0;34m\u001b[0m\u001b[0;34m\u001b[0m\u001b[0m\n\u001b[1;32m      3\u001b[0m \u001b[0ms\u001b[0m \u001b[0;34m=\u001b[0m \u001b[0;36m4\u001b[0m\u001b[0;34m\u001b[0m\u001b[0;34m\u001b[0m\u001b[0m\n\u001b[0;32m----> 4\u001b[0;31m \u001b[0maiko\u001b[0m\u001b[0;34m.\u001b[0m\u001b[0morbit\u001b[0m\u001b[0;34m(\u001b[0m\u001b[0mdata\u001b[0m\u001b[0;34m,\u001b[0m \u001b[0mgroupData\u001b[0m\u001b[0;34m,\u001b[0m \u001b[0msamples\u001b[0m\u001b[0;34m=\u001b[0m\u001b[0mns\u001b[0m\u001b[0;34m,\u001b[0m \u001b[0minterpol\u001b[0m\u001b[0;34m=\u001b[0m\u001b[0;32mFalse\u001b[0m\u001b[0;34m,\u001b[0m \u001b[0mseed\u001b[0m\u001b[0;34m=\u001b[0m\u001b[0ms\u001b[0m\u001b[0;34m)\u001b[0m\u001b[0;34m\u001b[0m\u001b[0;34m\u001b[0m\u001b[0m\n\u001b[0m\u001b[1;32m      5\u001b[0m \u001b[0maiko\u001b[0m\u001b[0;34m.\u001b[0m\u001b[0morbit\u001b[0m\u001b[0;34m(\u001b[0m\u001b[0mdata\u001b[0m\u001b[0;34m,\u001b[0m \u001b[0mgroupData\u001b[0m\u001b[0;34m,\u001b[0m\u001b[0msamples\u001b[0m\u001b[0;34m=\u001b[0m\u001b[0mns\u001b[0m\u001b[0;34m,\u001b[0m \u001b[0minterpol\u001b[0m\u001b[0;34m=\u001b[0m\u001b[0;34m\"quadratic\"\u001b[0m\u001b[0;34m,\u001b[0m \u001b[0mseed\u001b[0m\u001b[0;34m=\u001b[0m\u001b[0ms\u001b[0m\u001b[0;34m)\u001b[0m\u001b[0;34m\u001b[0m\u001b[0;34m\u001b[0m\u001b[0m\n\u001b[1;32m      6\u001b[0m \u001b[0maiko\u001b[0m\u001b[0;34m.\u001b[0m\u001b[0morbit\u001b[0m\u001b[0;34m(\u001b[0m\u001b[0mdata\u001b[0m\u001b[0;34m,\u001b[0m \u001b[0mgroupData\u001b[0m\u001b[0;34m,\u001b[0m\u001b[0msamples\u001b[0m\u001b[0;34m=\u001b[0m\u001b[0mns\u001b[0m\u001b[0;34m,\u001b[0m \u001b[0minterpol\u001b[0m\u001b[0;34m=\u001b[0m\u001b[0;34m\"cubic\"\u001b[0m\u001b[0;34m,\u001b[0m \u001b[0mseed\u001b[0m\u001b[0;34m=\u001b[0m\u001b[0ms\u001b[0m\u001b[0;34m)\u001b[0m\u001b[0;34m\u001b[0m\u001b[0;34m\u001b[0m\u001b[0m\n",
      "\u001b[0;32m~/1/aiko.py\u001b[0m in \u001b[0;36morbit\u001b[0;34m(particles, groups, samples, interpol, steps, location, radius, seed)\u001b[0m\n\u001b[1;32m    302\u001b[0m \u001b[0;34m\u001b[0m\u001b[0m\n\u001b[1;32m    303\u001b[0m     \u001b[0;32mif\u001b[0m \u001b[0minterpol\u001b[0m \u001b[0;34m==\u001b[0m \u001b[0;32mFalse\u001b[0m\u001b[0;34m:\u001b[0m\u001b[0;34m\u001b[0m\u001b[0;34m\u001b[0m\u001b[0m\n\u001b[0;32m--> 304\u001b[0;31m         \u001b[0mline\u001b[0m \u001b[0;34m=\u001b[0m \u001b[0mnormList\u001b[0m\u001b[0;34m[\u001b[0m\u001b[0;36m0\u001b[0m\u001b[0;34m]\u001b[0m\u001b[0;34m*\u001b[0m\u001b[0;36m0\u001b[0m\u001b[0;34m\u001b[0m\u001b[0;34m\u001b[0m\u001b[0m\n\u001b[0m\u001b[1;32m    305\u001b[0m         \u001b[0max\u001b[0m \u001b[0;34m=\u001b[0m\u001b[0mline\u001b[0m\u001b[0;34m.\u001b[0m\u001b[0mplot\u001b[0m\u001b[0;34m(\u001b[0m\u001b[0mx\u001b[0m\u001b[0;34m=\u001b[0m\u001b[0;34m\"posX\"\u001b[0m\u001b[0;34m,\u001b[0m\u001b[0my\u001b[0m\u001b[0;34m=\u001b[0m\u001b[0;34m\"posY\"\u001b[0m\u001b[0;34m,\u001b[0m \u001b[0mlegend\u001b[0m\u001b[0;34m=\u001b[0m\u001b[0;32mFalse\u001b[0m\u001b[0;34m)\u001b[0m\u001b[0;34m\u001b[0m\u001b[0;34m\u001b[0m\u001b[0m\n\u001b[1;32m    306\u001b[0m         \u001b[0;32mfor\u001b[0m \u001b[0mi\u001b[0m \u001b[0;32min\u001b[0m \u001b[0mnormList\u001b[0m\u001b[0;34m:\u001b[0m\u001b[0;34m\u001b[0m\u001b[0;34m\u001b[0m\u001b[0m\n",
      "\u001b[0;31mIndexError\u001b[0m: list index out of range"
     ]
    }
   ],
   "source": [
    "importlib.reload(aiko)\n",
    "ns = 3\n",
    "s = 4\n",
    "aiko.orbit(data, groupData, samples=ns, interpol=False, seed=s)\n",
    "aiko.orbit(data, groupData,samples=ns, interpol=\"quadratic\", seed=s)\n",
    "aiko.orbit(data, groupData,samples=ns, interpol=\"cubic\", seed=s)"
   ]
  },
  {
   "cell_type": "code",
   "execution_count": 0,
   "metadata": {
    "collapsed": false
   },
   "outputs": [
   ],
   "source": [
    "groupData.sample(5)"
   ]
  },
  {
   "cell_type": "code",
   "execution_count": 0,
   "metadata": {
    "collapsed": false
   },
   "outputs": [
   ],
   "source": [
    "importlib.reload(aiko)\n",
    "ns = 100\n",
    "aiko.orbit(data, groupData,samples=ns, interpol=False)"
   ]
  },
  {
   "cell_type": "code",
   "execution_count": 0,
   "metadata": {
    "collapsed": false
   },
   "outputs": [
   ],
   "source": [
    "groups = groupData\n",
    "groups[groups[\"Mass\"] > 100]"
   ]
  },
  {
   "cell_type": "code",
   "execution_count": 0,
   "metadata": {
    "collapsed": false
   },
   "outputs": [
   ],
   "source": [
    "galRad = 0.01\n",
    "\"\"\"\n",
    "ID = 25442\n",
    "galPosX = groupData.loc[ID].posX\n",
    "galPosY = groupData.loc[ID].posY\n",
    "galPosZ = groupData.loc[ID].posZ\n",
    "\"\"\"\n",
    "MW=[46.7916   ,   49.0647   ,   49.8877]\n",
    "MW=np.array([46804.33830082 ,         50308.27574418  ,        47809.80076320])/1000.0\n",
    "#galPos = [groupData.loc[ID].posX, groupData.loc[ID].posY, groupData.loc[ID].posZ]\n",
    "\n",
    "galPos=MW\n",
    "particles = data\n",
    "\n",
    "sel = (particles.Snap == 127)&\\\n",
    "      (particles.posX<(galPos[0]+galRad))&(particles.posX>(galPos[0]-galRad))&\\\n",
    "      (particles.posY<(galPos[1]+galRad))&(particles.posY>(galPos[1]-galRad))&\\\n",
    "      (particles.posZ<(galPos[2]+galRad))&(particles.posZ>(galPos[2]-galRad))\n",
    "\n",
    "#selSam = particles[sel].sample(100).copy(deep=True)\n",
    "galDens = particles[sel][\"Dens\"]**0.2\n",
    "\n",
    "#data[sel].plot(kind=\"hexbin\",x=\"posX\",y=\"posY\",gridsize=70,bins=\"log\", cmap='jet')\n",
    "#data[sel].plot(kind='hexbin',x=\"posX\",y=\"posY\",gridsize=100,colormap='jet',norm=colors.LogNorm(),vmin=1)#,vmax=10000)\n",
    "data[sel].plot(kind='scatter',x=\"posX\",y=\"posY\", c=galDens, cmap=plt.cm.get_cmap('RdBu'),s=0.4, marker=\".\", norm=colors.LogNorm(), vmin=1).set_facecolor('black')"
   ]
  },
  {
   "cell_type": "code",
   "execution_count": 0,
   "metadata": {
    "collapsed": false,
    "scrolled": true
   },
   "outputs": [
   ],
   "source": [
    "groupData[groupData[\"Snap\"] == 124]"
   ]
  },
  {
   "cell_type": "code",
   "execution_count": 0,
   "metadata": {
    "collapsed": false
   },
   "outputs": [
   ],
   "source": [
    "groupData.loc[176].posY"
   ]
  },
  {
   "cell_type": "code",
   "execution_count": 0,
   "metadata": {
    "collapsed": false
   },
   "outputs": [
   ],
   "source": [
    "nab = 3\n",
    "if type(nab) == int:\n",
    "    print(\"yep\")"
   ]
  },
  {
   "cell_type": "code",
   "execution_count": 0,
   "metadata": {
    "collapsed": false
   },
   "outputs": [
   ],
   "source": [
    "groupData.sort_values(\"Mass\")"
   ]
  },
  {
   "cell_type": "code",
   "execution_count": 0,
   "metadata": {
    "collapsed": false
   },
   "outputs": [
   ],
   "source": [
    "importlib.reload(aiko)\n",
    "aiko.map(data, groupData, kind=\"hexbin\", zoom=0.1)"
   ]
  },
  {
   "cell_type": "code",
   "execution_count": 0,
   "metadata": {
    "collapsed": false
   },
   "outputs": [
   ],
   "source": [
    "importlib.reload(aiko)\n",
    "aiko.map(data, groupData, kind=\"scatter\", density=True, zoom=0.01, cmap=\"bwr\")\n",
    "aiko.map(data, groupData, kind=\"scatter\", density=True, zoom=0.1, cmap=\"seismic\")\n",
    "aiko.map(data, groupData, kind=\"scatter\", density=True, zoom=0.5, cmap=\"Spectral\")\n",
    "aiko.map(data, groupData, kind=\"scatter\", density=True, zoom=0.1, cmap=\"RdBu\")\n",
    "aiko.map(data, groupData, kind=\"scatter\", density=True, zoom=0.05, cmap=\"PiYG\")\n",
    "aiko.map(data, groupData, kind=\"scatter\", density=True, zoom=0.1, cmap=\"RdGy\")\n",
    "aiko.map(data, groupData, kind=\"scatter\", density=True, zoom=0.005, cmap=\"hot\")\n",
    "aiko.map(data, groupData, kind=\"scatter\", density=True, zoom=0.1, cmap=\"cool\")"
   ]
  },
  {
   "cell_type": "code",
   "execution_count": 0,
   "metadata": {
    "collapsed": false
   },
   "outputs": [
   ],
   "source": [
    "MW=\n",
    "aiko.orbit(data, groupData,samples=ns, interpol=\"cubic\", seed=s)"
   ]
  },
  {
   "cell_type": "code",
   "execution_count": 0,
   "metadata": {
    "collapsed": false
   },
   "outputs": [
   ],
   "source": [
    "importlib.reload(aiko)\n",
    "l = aiko.map(data, groupData, kind=\"hexbin\", density=False, zoom=0.01, cmap=\"seismic\", give_location=True)\n",
    "plt.title(\"star density of \" + str(l))\n",
    "plt.savefig('Star1.png', dpi=600, transparent=True, bbox_inches=\"tight\")\n",
    "aiko.orbit(data, groupData, samples=10,seed=l, interpol=False, location = l)\n",
    "plt.title(\"10 raw orbits\")\n",
    "aiko.orbit(data, groupData, samples=10,seed=l, interpol=\"quadratic\", location = l)\n",
    "plt.title(\"quadraticly-interpolated orbits\")\n",
    "aiko.orbit(data, groupData, samples=10,seed=l, interpol=\"cubic\", location = l)\n",
    "plt.title(\"cubicly-interpolated orbits\")"
   ]
  },
  {
   "cell_type": "code",
   "execution_count": 0,
   "metadata": {
    "collapsed": false
   },
   "outputs": [
   ],
   "source": [
    "aiko.orbit(data, groupData, samples=10,seed=l, interpol=False, location = l)\n",
    "plt.title(\"10 raw orbits\")\n",
    "plt.savefig('plot_raw.png', dpi=600, transparent=True, bbox_inches=\"tight\")\n",
    "aiko.orbit(data, groupData, samples=10,seed=l, interpol=\"quadratic\", location = l)\n",
    "plt.title(\"quadraticly-interpolated orbits\")\n",
    "plt.savefig('plot_quad.png', dpi=600, transparent=True, bbox_inches=\"tight\")\n",
    "aiko.orbit(data, groupData, samples=10,seed=l, interpol=\"cubic\", location = l)\n",
    "plt.title(\"cubicly-interpolated orbits\")\n",
    "plt.savefig('plot_cube.png', dpi=600, transparent=True, bbox_inches=\"tight\") "
   ]
  },
  {
   "cell_type": "code",
   "execution_count": 0,
   "metadata": {
    "collapsed": false
   },
   "outputs": [
   ],
   "source": [
    "groupData.loc[int(20110)]"
   ]
  },
  {
   "cell_type": "code",
   "execution_count": 0,
   "metadata": {
    "collapsed": false
   },
   "outputs": [
   ],
   "source": [
    "aiko.map(data, groupData, kind=\"scatter\", density=True, zoom=0.04, cmap=\"seismic\", give_location=True, location=l)\n",
    "plt.title(\"density-map of a galaxy\")\n",
    "plt.savefig('seismic1_near.png', dpi=600, transparent=False, bbox_inches=\"tight\")"
   ]
  },
  {
   "cell_type": "code",
   "execution_count": 0,
   "metadata": {
    "collapsed": false,
    "scrolled": true
   },
   "outputs": [
   ],
   "source": [
    "plt.savefig('seismic1.png', dpi=600, transparent=False, bbox_inches=\"tight\")"
   ]
  },
  {
   "cell_type": "code",
   "execution_count": 0,
   "metadata": {
    "collapsed": false,
    "scrolled": true
   },
   "outputs": [
   ],
   "source": [
    "aiko.map(data, groupData, kind=\"scatter\", density=True, zoom=1, cmap=\"seismic\", give_location=True, location=l)"
   ]
  },
  {
   "cell_type": "code",
   "execution_count": 0,
   "metadata": {
    "collapsed": false
   },
   "outputs": [
   ],
   "source": [
    "plt.savefig('density_faaaar.png', dpi=2000, transparent=False, bbox_inches=\"tight\")"
   ]
  },
  {
   "cell_type": "code",
   "execution_count": 0,
   "metadata": {
    "collapsed": false
   },
   "outputs": [
   ],
   "source": [
    "print(len(data)/1000000)\n",
    "list(data.columns)"
   ]
  },
  {
   "cell_type": "raw",
   "metadata": {
    "collapsed": false
   },
   "source": [
    "from colorcet import fire\n",
    "from functools import partial\n",
    "from datashader.colors import colormap_select, Greys9\n",
    "from datashader.utils import export_image\n",
    "from matplotlib.cm import get_cmap\n",
    "import datashader as ds\n",
    "import datashader.transfer_functions as tf\n",
    "from datashader.colors import inferno\n",
    "from matplotlib.colors import rgb2hex\n",
    "import holoviews as hv\n",
    "import matplotlib.cm as cm\n",
    "from holoviews.operation.datashader import datashade, dynspread\n",
    "import numpy as np\n",
    "hv.extension('matplotlib')\n"
   ]
  },
  {
   "cell_type": "raw",
   "metadata": {
    "collapsed": false
   },
   "source": [
    "%%output dpi=300\n",
    "MW=np.array([46.80433830082, 50.30827574418, 47.80980076320])\n",
    "#['black','blue',  'red',   'yellow','white']\n",
    "plot_width=600\n",
    "plot_height=600\n",
    "sizes  = dict(width=plot_width,height=plot_height)\n",
    "opts   = dict( bgcolor=\"black\", **sizes)#xaxis=None, yaxis=None,\n",
    "points = hv.Points(data, kdims=['posX', 'posY'])\n",
    "dynspread(datashade(points,aggregator=ds.mean(\"Snap\"),cmap=cm.jet)).options(**opts)# * hv.Box(MW[0], MW[1], 2.5 ).options(color='red', line_width=5)"
   ]
  },
  {
   "cell_type": "code",
   "execution_count": 0,
   "metadata": {
    "collapsed": false
   },
   "outputs": [
   ],
   "source": [
   ]
  }
 ],
 "metadata": {
  "kernelspec": {
   "display_name": "Anaconda(Py3.6)",
   "language": "python",
   "name": "anaconda3"
  },
  "language_info": {
   "codemirror_mode": {
    "name": "ipython",
    "version": 3
   },
   "file_extension": ".py",
   "mimetype": "text/x-python",
   "name": "python",
   "nbconvert_exporter": "python",
   "pygments_lexer": "ipython3",
   "version": "3.6.7"
  }
 },
 "nbformat": 4,
 "nbformat_minor": 0
}